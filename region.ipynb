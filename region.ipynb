{
 "cells": [
  {
   "cell_type": "code",
   "execution_count": 12,
   "metadata": {},
   "outputs": [
    {
     "data": {
      "text/plain": [
       "Index(['Unnamed: 0', '본번', '부번', '아파트명', '전용면적(㎡)', '계약년월', '계약일', '층', '건축년도',\n",
       "       '도로명', '거래유형', 'k-전체동수', 'k-전체세대수', 'k-연면적', 'k-주거전용면적', 'k-관리비부과면적',\n",
       "       'k-전용면적별세대현황(60㎡이하)', 'k-전용면적별세대현황(60㎡~85㎡이하)', 'k-85㎡~135㎡이하',\n",
       "       'k-135㎡초과', '건축면적', '주차대수', 'target', 'is_test', 'latitude',\n",
       "       'longitude', 'address', 'address_apt', 'address_apt_sqm', '구', '동',\n",
       "       '강남여부', 'mean_target', 'apt_mean_target', 'address_mean_target',\n",
       "       'mean_target_gu_dong', 'closest_bus_stop_distance',\n",
       "       'closest_subway_station_distance', 'bus_stop_count_500m',\n",
       "       'subway_station_count_500m', 'bus_stop_count_750m',\n",
       "       'subway_station_count_750m', 'bus_stop_count_1000m',\n",
       "       'subway_station_count_1000m', 'square_meter',\n",
       "       'monthly_mean_target_rate', 'adjusted_square_meter', 'is_outlier',\n",
       "       'year', 'month', 'distance_to_lead_house'],\n",
       "      dtype='object')"
      ]
     },
     "execution_count": 12,
     "metadata": {},
     "output_type": "execute_result"
    }
   ],
   "source": [
    "import pandas as pd\n",
    "import warnings\n",
    "\n",
    "warnings.filterwarnings('ignore')\n",
    "\n",
    "data = pd.read_csv('/Users/baby_cow/Desktop/AI/ML_competition/data/geocoded_addresses_12.csv')\n",
    "data.columns"
   ]
  },
  {
   "cell_type": "code",
   "execution_count": 13,
   "metadata": {},
   "outputs": [],
   "source": [
    "temp_index = list(range(len(data)))\n",
    "data['id'] = temp_index"
   ]
  },
  {
   "cell_type": "code",
   "execution_count": 14,
   "metadata": {},
   "outputs": [
    {
     "data": {
      "text/html": [
       "<div>\n",
       "<style scoped>\n",
       "    .dataframe tbody tr th:only-of-type {\n",
       "        vertical-align: middle;\n",
       "    }\n",
       "\n",
       "    .dataframe tbody tr th {\n",
       "        vertical-align: top;\n",
       "    }\n",
       "\n",
       "    .dataframe thead th {\n",
       "        text-align: right;\n",
       "    }\n",
       "</style>\n",
       "<table border=\"1\" class=\"dataframe\">\n",
       "  <thead>\n",
       "    <tr style=\"text-align: right;\">\n",
       "      <th></th>\n",
       "      <th>id</th>\n",
       "      <th>아파트명</th>\n",
       "      <th>전용면적(㎡)</th>\n",
       "      <th>계약년월</th>\n",
       "      <th>계약일</th>\n",
       "      <th>층</th>\n",
       "      <th>구</th>\n",
       "      <th>동</th>\n",
       "      <th>건축년도</th>\n",
       "      <th>closest_bus_stop_distance</th>\n",
       "      <th>closest_subway_station_distance</th>\n",
       "      <th>bus_stop_count_500m</th>\n",
       "      <th>subway_station_count_500m</th>\n",
       "      <th>bus_stop_count_750m</th>\n",
       "      <th>subway_station_count_750m</th>\n",
       "      <th>bus_stop_count_1000m</th>\n",
       "      <th>subway_station_count_1000m</th>\n",
       "      <th>distance_to_lead_house</th>\n",
       "      <th>is_test</th>\n",
       "      <th>target</th>\n",
       "    </tr>\n",
       "  </thead>\n",
       "  <tbody>\n",
       "    <tr>\n",
       "      <th>0</th>\n",
       "      <td>0</td>\n",
       "      <td>개포6차우성</td>\n",
       "      <td>79.97</td>\n",
       "      <td>2017-12-01</td>\n",
       "      <td>8</td>\n",
       "      <td>3</td>\n",
       "      <td>강남구</td>\n",
       "      <td>개포동</td>\n",
       "      <td>1987</td>\n",
       "      <td>95.560091</td>\n",
       "      <td>1187.188361</td>\n",
       "      <td>12</td>\n",
       "      <td>0</td>\n",
       "      <td>38</td>\n",
       "      <td>0</td>\n",
       "      <td>57</td>\n",
       "      <td>0</td>\n",
       "      <td>6.609733</td>\n",
       "      <td>0</td>\n",
       "      <td>124000.0</td>\n",
       "    </tr>\n",
       "    <tr>\n",
       "      <th>1</th>\n",
       "      <td>1</td>\n",
       "      <td>개포6차우성</td>\n",
       "      <td>79.97</td>\n",
       "      <td>2017-12-01</td>\n",
       "      <td>22</td>\n",
       "      <td>4</td>\n",
       "      <td>강남구</td>\n",
       "      <td>개포동</td>\n",
       "      <td>1987</td>\n",
       "      <td>95.560091</td>\n",
       "      <td>1187.188361</td>\n",
       "      <td>12</td>\n",
       "      <td>0</td>\n",
       "      <td>38</td>\n",
       "      <td>0</td>\n",
       "      <td>57</td>\n",
       "      <td>0</td>\n",
       "      <td>6.609733</td>\n",
       "      <td>0</td>\n",
       "      <td>123500.0</td>\n",
       "    </tr>\n",
       "    <tr>\n",
       "      <th>2</th>\n",
       "      <td>2</td>\n",
       "      <td>개포6차우성</td>\n",
       "      <td>54.98</td>\n",
       "      <td>2017-12-01</td>\n",
       "      <td>28</td>\n",
       "      <td>5</td>\n",
       "      <td>강남구</td>\n",
       "      <td>개포동</td>\n",
       "      <td>1987</td>\n",
       "      <td>95.560091</td>\n",
       "      <td>1187.188361</td>\n",
       "      <td>12</td>\n",
       "      <td>0</td>\n",
       "      <td>38</td>\n",
       "      <td>0</td>\n",
       "      <td>57</td>\n",
       "      <td>0</td>\n",
       "      <td>6.609733</td>\n",
       "      <td>0</td>\n",
       "      <td>91500.0</td>\n",
       "    </tr>\n",
       "    <tr>\n",
       "      <th>3</th>\n",
       "      <td>3</td>\n",
       "      <td>개포6차우성</td>\n",
       "      <td>79.97</td>\n",
       "      <td>2018-01-01</td>\n",
       "      <td>3</td>\n",
       "      <td>4</td>\n",
       "      <td>강남구</td>\n",
       "      <td>개포동</td>\n",
       "      <td>1987</td>\n",
       "      <td>95.560091</td>\n",
       "      <td>1187.188361</td>\n",
       "      <td>12</td>\n",
       "      <td>0</td>\n",
       "      <td>38</td>\n",
       "      <td>0</td>\n",
       "      <td>57</td>\n",
       "      <td>0</td>\n",
       "      <td>6.609733</td>\n",
       "      <td>0</td>\n",
       "      <td>130000.0</td>\n",
       "    </tr>\n",
       "    <tr>\n",
       "      <th>4</th>\n",
       "      <td>4</td>\n",
       "      <td>개포6차우성</td>\n",
       "      <td>79.97</td>\n",
       "      <td>2018-01-01</td>\n",
       "      <td>8</td>\n",
       "      <td>2</td>\n",
       "      <td>강남구</td>\n",
       "      <td>개포동</td>\n",
       "      <td>1987</td>\n",
       "      <td>95.560091</td>\n",
       "      <td>1187.188361</td>\n",
       "      <td>12</td>\n",
       "      <td>0</td>\n",
       "      <td>38</td>\n",
       "      <td>0</td>\n",
       "      <td>57</td>\n",
       "      <td>0</td>\n",
       "      <td>6.609733</td>\n",
       "      <td>0</td>\n",
       "      <td>117000.0</td>\n",
       "    </tr>\n",
       "  </tbody>\n",
       "</table>\n",
       "</div>"
      ],
      "text/plain": [
       "   id    아파트명  전용면적(㎡)        계약년월  계약일  층    구    동  건축년도  \\\n",
       "0   0  개포6차우성    79.97  2017-12-01    8  3  강남구  개포동  1987   \n",
       "1   1  개포6차우성    79.97  2017-12-01   22  4  강남구  개포동  1987   \n",
       "2   2  개포6차우성    54.98  2017-12-01   28  5  강남구  개포동  1987   \n",
       "3   3  개포6차우성    79.97  2018-01-01    3  4  강남구  개포동  1987   \n",
       "4   4  개포6차우성    79.97  2018-01-01    8  2  강남구  개포동  1987   \n",
       "\n",
       "   closest_bus_stop_distance  closest_subway_station_distance  \\\n",
       "0                  95.560091                      1187.188361   \n",
       "1                  95.560091                      1187.188361   \n",
       "2                  95.560091                      1187.188361   \n",
       "3                  95.560091                      1187.188361   \n",
       "4                  95.560091                      1187.188361   \n",
       "\n",
       "   bus_stop_count_500m  subway_station_count_500m  bus_stop_count_750m  \\\n",
       "0                   12                          0                   38   \n",
       "1                   12                          0                   38   \n",
       "2                   12                          0                   38   \n",
       "3                   12                          0                   38   \n",
       "4                   12                          0                   38   \n",
       "\n",
       "   subway_station_count_750m  bus_stop_count_1000m  \\\n",
       "0                          0                    57   \n",
       "1                          0                    57   \n",
       "2                          0                    57   \n",
       "3                          0                    57   \n",
       "4                          0                    57   \n",
       "\n",
       "   subway_station_count_1000m  distance_to_lead_house  is_test    target  \n",
       "0                           0                6.609733        0  124000.0  \n",
       "1                           0                6.609733        0  123500.0  \n",
       "2                           0                6.609733        0   91500.0  \n",
       "3                           0                6.609733        0  130000.0  \n",
       "4                           0                6.609733        0  117000.0  "
      ]
     },
     "execution_count": 14,
     "metadata": {},
     "output_type": "execute_result"
    }
   ],
   "source": [
    "selected_columns = ['id', '아파트명', '전용면적(㎡)', '계약년월', '계약일', '층', '구', '동', '건축년도',\n",
    "                    'closest_bus_stop_distance','closest_subway_station_distance', 'bus_stop_count_500m',\n",
    "                    'subway_station_count_500m', 'bus_stop_count_750m',\n",
    "                    'subway_station_count_750m', 'bus_stop_count_1000m',\n",
    "                    'subway_station_count_1000m', 'distance_to_lead_house', 'is_test', 'target']\n",
    "\n",
    "df = data[selected_columns]\n",
    "df.head()\n"
   ]
  },
  {
   "cell_type": "code",
   "execution_count": 15,
   "metadata": {},
   "outputs": [],
   "source": [
    "chunks = {}\n",
    "\n",
    "df['지역'] = df.apply(lambda x: x['구']+' '+ x['동'], axis=1)\n",
    "\n",
    "regions = list(df['지역'].unique())\n",
    "\n",
    "for region in regions:\n",
    "    chunk = df[df['지역'] == region]\n",
    "    chunk['계약년'] = df['계약년월'].map(lambda x : int(str(x)[:4]))\n",
    "    chunk.drop(columns=['구', '동'], axis=1, inplace=True)\n",
    "    chunks[region] = chunk.sort_values(by='계약년월')\n"
   ]
  },
  {
   "cell_type": "code",
   "execution_count": 16,
   "metadata": {},
   "outputs": [
    {
     "name": "stderr",
     "output_type": "stream",
     "text": [
      "100%|██████████| 339/339 [00:02<00:00, 113.44it/s]\n"
     ]
    }
   ],
   "source": [
    "from IPython.display import display\n",
    "from tqdm import tqdm\n",
    "import pandas as pd\n",
    "\n",
    "for region in tqdm(regions):\n",
    "    chunk = chunks[region]\n",
    "\n",
    "    # 테스트 데이터 제외\n",
    "    train_data = chunk[chunk['is_test'] == 0]\n",
    "\n",
    "    # 1. 올해 이 지역 평균\n",
    "    yearly_mean = train_data.groupby('계약년')['target'].mean()\n",
    "    chunk['올해 이 지역 평균'] = chunk['계약년'].map(yearly_mean)\n",
    "\n",
    "    # 2. 올해 이 아파트 평균\n",
    "    apart_mean = train_data.groupby(['계약년', '아파트명'])['target'].mean()\n",
    "    chunk['올해 이 아파트 평균'] = chunk.set_index(['계약년', '아파트명']).index.map(apart_mean)\n",
    "\n",
    "    # 3. 올해 해당 집 유형들의 평균\n",
    "    type_mean = train_data.groupby(['계약년', '아파트명', '전용면적(㎡)'])['target'].mean()\n",
    "    chunk['올해 해당 집 유형들의 평균'] = chunk.set_index(['계약년', '아파트명', '전용면적(㎡)']).index.map(type_mean)\n",
    "\n",
    "    # 4. 평균 부정확도\n",
    "    chunk['평균 부정확도'] = 0\n",
    "\n",
    "    chunks[region] = chunk"
   ]
  },
  {
   "cell_type": "code",
   "execution_count": 17,
   "metadata": {},
   "outputs": [
    {
     "name": "stderr",
     "output_type": "stream",
     "text": [
      "100%|██████████| 339/339 [00:28<00:00, 11.93it/s]\n"
     ]
    }
   ],
   "source": [
    "import pandas as pd\n",
    "import numpy as np\n",
    "from tqdm import tqdm\n",
    "\n",
    "def fill_na(sample):\n",
    "    region_mean = sample['올해 이 지역 평균']\n",
    "    apart_mean = sample['올해 이 아파트 평균']\n",
    "    house_mean = sample['올해 해당 집 유형들의 평균']\n",
    "\n",
    "    if pd.isnull(apart_mean):\n",
    "        sample['올해 이 아파트 평균'] = region_mean\n",
    "        sample['평균 부정확도'] = 2\n",
    "\n",
    "    if pd.isnull(house_mean):\n",
    "        if pd.isnull(apart_mean):\n",
    "            sample['올해 해당 집 유형들의 평균'] = region_mean\n",
    "            sample['평균 부정확도'] = 3\n",
    "        else:\n",
    "            sample['올해 해당 집 유형들의 평균'] = apart_mean\n",
    "            sample['평균 부정확도'] = 1\n",
    "\n",
    "    return sample\n",
    "\n",
    "for region in tqdm(regions):\n",
    "    chunk = chunks[region]\n",
    "    chunk = chunk.apply(fill_na, axis=1)\n",
    "    chunks[region] = chunk"
   ]
  },
  {
   "cell_type": "code",
   "execution_count": 18,
   "metadata": {},
   "outputs": [
    {
     "name": "stdout",
     "output_type": "stream",
     "text": [
      "성동구 홍익동\n",
      "id                                 0\n",
      "아파트명                               0\n",
      "전용면적(㎡)                            0\n",
      "계약년월                               0\n",
      "계약일                                0\n",
      "층                                  0\n",
      "건축년도                               0\n",
      "closest_bus_stop_distance          0\n",
      "closest_subway_station_distance    0\n",
      "bus_stop_count_500m                0\n",
      "subway_station_count_500m          0\n",
      "bus_stop_count_750m                0\n",
      "subway_station_count_750m          0\n",
      "bus_stop_count_1000m               0\n",
      "subway_station_count_1000m         0\n",
      "distance_to_lead_house             0\n",
      "is_test                            0\n",
      "지역                                 0\n",
      "계약년                                0\n",
      "올해 이 지역 평균                         2\n",
      "올해 이 아파트 평균                        2\n",
      "올해 해당 집 유형들의 평균                    2\n",
      "평균 부정확도                            0\n",
      "dtype: int64\n",
      "----------------------------------------------------------------------------------------------------\n",
      "성북구 동선동4가\n",
      "id                                 0\n",
      "아파트명                               0\n",
      "전용면적(㎡)                            0\n",
      "계약년월                               0\n",
      "계약일                                0\n",
      "층                                  0\n",
      "건축년도                               0\n",
      "closest_bus_stop_distance          0\n",
      "closest_subway_station_distance    0\n",
      "bus_stop_count_500m                0\n",
      "subway_station_count_500m          0\n",
      "bus_stop_count_750m                0\n",
      "subway_station_count_750m          0\n",
      "bus_stop_count_1000m               0\n",
      "subway_station_count_1000m         0\n",
      "distance_to_lead_house             0\n",
      "is_test                            0\n",
      "지역                                 0\n",
      "계약년                                0\n",
      "올해 이 지역 평균                         1\n",
      "올해 이 아파트 평균                        1\n",
      "올해 해당 집 유형들의 평균                    1\n",
      "평균 부정확도                            0\n",
      "dtype: int64\n",
      "----------------------------------------------------------------------------------------------------\n",
      "영등포구 당산동1가\n",
      "id                                 0\n",
      "아파트명                               0\n",
      "전용면적(㎡)                            0\n",
      "계약년월                               0\n",
      "계약일                                0\n",
      "층                                  0\n",
      "건축년도                               0\n",
      "closest_bus_stop_distance          0\n",
      "closest_subway_station_distance    0\n",
      "bus_stop_count_500m                0\n",
      "subway_station_count_500m          0\n",
      "bus_stop_count_750m                0\n",
      "subway_station_count_750m          0\n",
      "bus_stop_count_1000m               0\n",
      "subway_station_count_1000m         0\n",
      "distance_to_lead_house             0\n",
      "is_test                            0\n",
      "지역                                 0\n",
      "계약년                                0\n",
      "올해 이 지역 평균                         2\n",
      "올해 이 아파트 평균                        2\n",
      "올해 해당 집 유형들의 평균                    2\n",
      "평균 부정확도                            0\n",
      "dtype: int64\n",
      "----------------------------------------------------------------------------------------------------\n",
      "영등포구 당산동6가\n",
      "id                                 0\n",
      "아파트명                               0\n",
      "전용면적(㎡)                            0\n",
      "계약년월                               0\n",
      "계약일                                0\n",
      "층                                  0\n",
      "건축년도                               0\n",
      "closest_bus_stop_distance          0\n",
      "closest_subway_station_distance    0\n",
      "bus_stop_count_500m                0\n",
      "subway_station_count_500m          0\n",
      "bus_stop_count_750m                0\n",
      "subway_station_count_750m          0\n",
      "bus_stop_count_1000m               0\n",
      "subway_station_count_1000m         0\n",
      "distance_to_lead_house             0\n",
      "is_test                            0\n",
      "지역                                 0\n",
      "계약년                                0\n",
      "올해 이 지역 평균                         2\n",
      "올해 이 아파트 평균                        2\n",
      "올해 해당 집 유형들의 평균                    2\n",
      "평균 부정확도                            0\n",
      "dtype: int64\n",
      "----------------------------------------------------------------------------------------------------\n",
      "영등포구 문래동2가\n",
      "id                                 0\n",
      "아파트명                               0\n",
      "전용면적(㎡)                            0\n",
      "계약년월                               0\n",
      "계약일                                0\n",
      "층                                  0\n",
      "건축년도                               0\n",
      "closest_bus_stop_distance          0\n",
      "closest_subway_station_distance    0\n",
      "bus_stop_count_500m                0\n",
      "subway_station_count_500m          0\n",
      "bus_stop_count_750m                0\n",
      "subway_station_count_750m          0\n",
      "bus_stop_count_1000m               0\n",
      "subway_station_count_1000m         0\n",
      "distance_to_lead_house             0\n",
      "is_test                            0\n",
      "지역                                 0\n",
      "계약년                                0\n",
      "올해 이 지역 평균                         3\n",
      "올해 이 아파트 평균                        3\n",
      "올해 해당 집 유형들의 평균                    3\n",
      "평균 부정확도                            0\n",
      "dtype: int64\n",
      "----------------------------------------------------------------------------------------------------\n",
      "용산구 원효로3가\n",
      "id                                 0\n",
      "아파트명                               0\n",
      "전용면적(㎡)                            0\n",
      "계약년월                               0\n",
      "계약일                                0\n",
      "층                                  0\n",
      "건축년도                               0\n",
      "closest_bus_stop_distance          0\n",
      "closest_subway_station_distance    0\n",
      "bus_stop_count_500m                0\n",
      "subway_station_count_500m          0\n",
      "bus_stop_count_750m                0\n",
      "subway_station_count_750m          0\n",
      "bus_stop_count_1000m               0\n",
      "subway_station_count_1000m         0\n",
      "distance_to_lead_house             0\n",
      "is_test                            0\n",
      "지역                                 0\n",
      "계약년                                0\n",
      "올해 이 지역 평균                         1\n",
      "올해 이 아파트 평균                        1\n",
      "올해 해당 집 유형들의 평균                    1\n",
      "평균 부정확도                            0\n",
      "dtype: int64\n",
      "----------------------------------------------------------------------------------------------------\n",
      "종로구 신문로1가\n",
      "id                                 0\n",
      "아파트명                               0\n",
      "전용면적(㎡)                            0\n",
      "계약년월                               0\n",
      "계약일                                0\n",
      "층                                  0\n",
      "건축년도                               0\n",
      "closest_bus_stop_distance          0\n",
      "closest_subway_station_distance    0\n",
      "bus_stop_count_500m                0\n",
      "subway_station_count_500m          0\n",
      "bus_stop_count_750m                0\n",
      "subway_station_count_750m          0\n",
      "bus_stop_count_1000m               0\n",
      "subway_station_count_1000m         0\n",
      "distance_to_lead_house             0\n",
      "is_test                            0\n",
      "지역                                 0\n",
      "계약년                                0\n",
      "올해 이 지역 평균                         1\n",
      "올해 이 아파트 평균                        1\n",
      "올해 해당 집 유형들의 평균                    1\n",
      "평균 부정확도                            0\n",
      "dtype: int64\n",
      "----------------------------------------------------------------------------------------------------\n",
      "종로구 청운동\n",
      "id                                 0\n",
      "아파트명                               0\n",
      "전용면적(㎡)                            0\n",
      "계약년월                               0\n",
      "계약일                                0\n",
      "층                                  0\n",
      "건축년도                               0\n",
      "closest_bus_stop_distance          0\n",
      "closest_subway_station_distance    0\n",
      "bus_stop_count_500m                0\n",
      "subway_station_count_500m          0\n",
      "bus_stop_count_750m                0\n",
      "subway_station_count_750m          0\n",
      "bus_stop_count_1000m               0\n",
      "subway_station_count_1000m         0\n",
      "distance_to_lead_house             0\n",
      "is_test                            0\n",
      "지역                                 0\n",
      "계약년                                0\n",
      "올해 이 지역 평균                         1\n",
      "올해 이 아파트 평균                        1\n",
      "올해 해당 집 유형들의 평균                    1\n",
      "평균 부정확도                            0\n",
      "dtype: int64\n",
      "----------------------------------------------------------------------------------------------------\n",
      "중구 예장동\n",
      "id                                 0\n",
      "아파트명                               0\n",
      "전용면적(㎡)                            0\n",
      "계약년월                               0\n",
      "계약일                                0\n",
      "층                                  0\n",
      "건축년도                               0\n",
      "closest_bus_stop_distance          0\n",
      "closest_subway_station_distance    0\n",
      "bus_stop_count_500m                0\n",
      "subway_station_count_500m          0\n",
      "bus_stop_count_750m                0\n",
      "subway_station_count_750m          0\n",
      "bus_stop_count_1000m               0\n",
      "subway_station_count_1000m         0\n",
      "distance_to_lead_house             0\n",
      "is_test                            0\n",
      "지역                                 0\n",
      "계약년                                0\n",
      "올해 이 지역 평균                         1\n",
      "올해 이 아파트 평균                        1\n",
      "올해 해당 집 유형들의 평균                    1\n",
      "평균 부정확도                            0\n",
      "dtype: int64\n",
      "----------------------------------------------------------------------------------------------------\n",
      "중구 을지로5가\n",
      "id                                 0\n",
      "아파트명                               0\n",
      "전용면적(㎡)                            0\n",
      "계약년월                               0\n",
      "계약일                                0\n",
      "층                                  0\n",
      "건축년도                               0\n",
      "closest_bus_stop_distance          0\n",
      "closest_subway_station_distance    0\n",
      "bus_stop_count_500m                0\n",
      "subway_station_count_500m          0\n",
      "bus_stop_count_750m                0\n",
      "subway_station_count_750m          0\n",
      "bus_stop_count_1000m               0\n",
      "subway_station_count_1000m         0\n",
      "distance_to_lead_house             0\n",
      "is_test                            0\n",
      "지역                                 0\n",
      "계약년                                0\n",
      "올해 이 지역 평균                         2\n",
      "올해 이 아파트 평균                        2\n",
      "올해 해당 집 유형들의 평균                    2\n",
      "평균 부정확도                            0\n",
      "dtype: int64\n",
      "----------------------------------------------------------------------------------------------------\n",
      "10\n"
     ]
    }
   ],
   "source": [
    "null_regions = []\n",
    "cnt = 0\n",
    "for region in regions:\n",
    "    select_cols = [col for col in chunks[region].columns if col != 'target']\n",
    "\n",
    "    if sum(chunks[region][select_cols].isnull().sum()) != 0:\n",
    "        null_regions.append(region)\n",
    "        print(region)\n",
    "        print(chunks[region][select_cols].isnull().sum())\n",
    "        print('-' * 100)\n",
    "        cnt += 1\n",
    "\n",
    "print(cnt)"
   ]
  },
  {
   "cell_type": "code",
   "execution_count": 19,
   "metadata": {},
   "outputs": [],
   "source": [
    "# 두번째 결측치 처리\n",
    "second_null_regions = []\n",
    "\n",
    "for null_region in null_regions:\n",
    "    temp_df = chunks[null_region]\n",
    "\n",
    "    for idx, row in temp_df[temp_df.isnull().any(axis=1)].iterrows():\n",
    "\n",
    "        year = 2022\n",
    "        penalty = 4\n",
    "        apart_name = row['아파트명']\n",
    "        apart_size = row['전용면적(㎡)']\n",
    "\n",
    "        region_target_mean = temp_df.loc[(temp_df['is_test'] == 0) & (temp_df['계약년'] == year) , '올해 이 지역 평균'].mean()\n",
    "        apart_target_mean = temp_df.loc[(temp_df['is_test'] == 0) & (temp_df['계약년'] == year) & (temp_df['아파트명'] == apart_name), '올해 이 아파트 평균'].mean()\n",
    "        house_target_mean = temp_df.loc[(temp_df['is_test'] == 0) & (temp_df['계약년'] == year) & (temp_df['아파트명'] == apart_name) & (temp_df['전용면적(㎡)'] == apart_size), '올해 해당 집 유형들의 평균'].mean()\n",
    "\n",
    "        while pd.isnull(region_target_mean):\n",
    "            year -= 1\n",
    "            region_target_mean = temp_df.loc[(temp_df['is_test'] == 0) & (temp_df['계약년'] == year) , '올해 이 지역 평균'].mean()\n",
    "            apart_target_mean = temp_df.loc[(temp_df['is_test'] == 0) & (temp_df['계약년'] == year) & (temp_df['아파트명'] == apart_name), '올해 이 아파트 평균'].mean()\n",
    "            house_target_mean = temp_df.loc[(temp_df['is_test'] == 0) & (temp_df['계약년'] == year) & (temp_df['아파트명'] == apart_name) & (temp_df['전용면적(㎡)'] == apart_size), '올해 해당 집 유형들의 평균'].mean()\n",
    "            penalty += 4\n",
    "\n",
    "        temp_df.loc[idx, '올해 이 지역 평균'] = region_target_mean\n",
    "        temp_df.loc[idx, '올해 이 아파트 평균'] = apart_target_mean \n",
    "        temp_df.loc[idx, '올해 해당 집 유형들의 평균'] = house_target_mean\n",
    "        temp_df.loc[idx, '평균 부정확도'] = penalty\n",
    "\n",
    "        if pd.isnull(apart_target_mean):\n",
    "            temp_df.loc[idx, '올해 이 아파트 평균'] = region_target_mean\n",
    "            temp_df.loc[idx, '평균 부정확도'] = penalty + 1\n",
    "        \n",
    "        if pd.isnull(house_target_mean):\n",
    "            if pd.isnull(apart_target_mean):\n",
    "                temp_df.loc[idx, '올해 해당 집 유형들의 평균'] = region_target_mean\n",
    "                temp_df.loc[idx, '평균 부정확도'] = penalty + 3\n",
    "            else:\n",
    "                temp_df.loc[idx, '올해 해당 집 유형들의 평균'] = apart_target_mean\n",
    "                temp_df.loc[idx, '평균 부정확도'] = penalty + 2\n",
    "\n",
    "    chunks[null_region] = temp_df"
   ]
  },
  {
   "cell_type": "markdown",
   "metadata": {},
   "source": [
    "# 학습하고 예측해보자!!"
   ]
  },
  {
   "cell_type": "code",
   "execution_count": 20,
   "metadata": {},
   "outputs": [
    {
     "name": "stderr",
     "output_type": "stream",
     "text": [
      "  0%|          | 0/339 [00:00<?, ?it/s]"
     ]
    },
    {
     "name": "stdout",
     "output_type": "stream",
     "text": [
      "Training until validation scores don't improve for 5 rounds\n",
      "Early stopping, best iteration is:\n",
      "[211]\ttraining's rmse: 6934.76\tvalid_1's rmse: 9737.28\n",
      "Training until validation scores don't improve for 5 rounds\n",
      "Early stopping, best iteration is:\n",
      "[212]\ttraining's rmse: 8421.09\tvalid_1's rmse: 11048\n",
      "Training until validation scores don't improve for 5 rounds\n",
      "Early stopping, best iteration is:\n",
      "[293]\ttraining's rmse: 8416.98\tvalid_1's rmse: 9538.22\n",
      "Training until validation scores don't improve for 5 rounds\n",
      "Early stopping, best iteration is:\n",
      "[405]\ttraining's rmse: 8375.51\tvalid_1's rmse: 7192.9\n",
      "Training until validation scores don't improve for 5 rounds\n",
      "Early stopping, best iteration is:\n",
      "[466]\ttraining's rmse: 7995.34\tvalid_1's rmse: 3314.68\n",
      "Training until validation scores don't improve for 5 rounds\n",
      "Early stopping, best iteration is:\n",
      "[513]\ttraining's rmse: 7354.26\tvalid_1's rmse: 3947.96\n",
      "Training until validation scores don't improve for 5 rounds\n",
      "Early stopping, best iteration is:\n",
      "[514]\ttraining's rmse: 6968.83\tvalid_1's rmse: 3754.62\n",
      "Training until validation scores don't improve for 5 rounds\n",
      "Early stopping, best iteration is:\n",
      "[580]\ttraining's rmse: 6564.6\tvalid_1's rmse: 6247.52\n",
      "Training until validation scores don't improve for 5 rounds\n",
      "Early stopping, best iteration is:\n",
      "[581]\ttraining's rmse: 6527.47\tvalid_1's rmse: 9709.84\n",
      "Training until validation scores don't improve for 5 rounds\n",
      "Early stopping, best iteration is:\n",
      "[582]\ttraining's rmse: 6906.32\tvalid_1's rmse: 11552.4\n",
      "Training until validation scores don't improve for 5 rounds\n",
      "Early stopping, best iteration is:\n",
      "[1152]\ttraining's rmse: 6861.74\tvalid_1's rmse: 25568.6\n",
      "Training until validation scores don't improve for 5 rounds\n",
      "Early stopping, best iteration is:\n",
      "[1548]\ttraining's rmse: 8034.05\tvalid_1's rmse: 24434.7\n"
     ]
    },
    {
     "name": "stderr",
     "output_type": "stream",
     "text": [
      "  0%|          | 1/339 [00:10<58:31, 10.39s/it]"
     ]
    },
    {
     "name": "stdout",
     "output_type": "stream",
     "text": [
      "Training until validation scores don't improve for 5 rounds\n",
      "Early stopping, best iteration is:\n",
      "[477]\ttraining's rmse: 4676.38\tvalid_1's rmse: 21526.8\n",
      "Training until validation scores don't improve for 5 rounds\n",
      "Early stopping, best iteration is:\n",
      "[908]\ttraining's rmse: 7464.85\tvalid_1's rmse: 9804.95\n",
      "Training until validation scores don't improve for 5 rounds\n",
      "Early stopping, best iteration is:\n",
      "[1176]\ttraining's rmse: 7385.3\tvalid_1's rmse: 14051.3\n"
     ]
    },
    {
     "name": "stderr",
     "output_type": "stream",
     "text": [
      "  1%|          | 2/339 [00:16<43:23,  7.73s/it]"
     ]
    },
    {
     "name": "stdout",
     "output_type": "stream",
     "text": [
      "Training until validation scores don't improve for 5 rounds\n",
      "Early stopping, best iteration is:\n",
      "[416]\ttraining's rmse: 8133.37\tvalid_1's rmse: 15002.5\n",
      "Training until validation scores don't improve for 5 rounds\n",
      "Early stopping, best iteration is:\n",
      "[474]\ttraining's rmse: 9990.59\tvalid_1's rmse: 10977.5\n",
      "Training until validation scores don't improve for 5 rounds\n",
      "Early stopping, best iteration is:\n",
      "[568]\ttraining's rmse: 9303.99\tvalid_1's rmse: 6477.49\n",
      "Training until validation scores don't improve for 5 rounds\n",
      "Early stopping, best iteration is:\n",
      "[769]\ttraining's rmse: 8037.76\tvalid_1's rmse: 6869.32\n",
      "Training until validation scores don't improve for 5 rounds\n",
      "Early stopping, best iteration is:\n",
      "[818]\ttraining's rmse: 7619.03\tvalid_1's rmse: 5555.55\n",
      "Training until validation scores don't improve for 5 rounds\n",
      "Early stopping, best iteration is:\n",
      "[1043]\ttraining's rmse: 6967.27\tvalid_1's rmse: 7578.74\n",
      "Training until validation scores don't improve for 5 rounds\n",
      "Early stopping, best iteration is:\n",
      "[1065]\ttraining's rmse: 6995.39\tvalid_1's rmse: 10550.4\n",
      "Training until validation scores don't improve for 5 rounds\n",
      "Early stopping, best iteration is:\n",
      "[1066]\ttraining's rmse: 7523.85\tvalid_1's rmse: 15619.3\n",
      "Training until validation scores don't improve for 5 rounds\n",
      "Early stopping, best iteration is:\n",
      "[1347]\ttraining's rmse: 7811.78\tvalid_1's rmse: 22451.3\n",
      "Training until validation scores don't improve for 5 rounds\n",
      "Early stopping, best iteration is:\n",
      "[1767]\ttraining's rmse: 8996.85\tvalid_1's rmse: 23648.2\n"
     ]
    },
    {
     "name": "stderr",
     "output_type": "stream",
     "text": [
      "  1%|          | 3/339 [00:28<55:41,  9.95s/it]"
     ]
    },
    {
     "name": "stdout",
     "output_type": "stream",
     "text": [
      "Training until validation scores don't improve for 5 rounds\n",
      "Early stopping, best iteration is:\n",
      "[704]\ttraining's rmse: 13857\tvalid_1's rmse: 12438.1\n",
      "Training until validation scores don't improve for 5 rounds\n",
      "Early stopping, best iteration is:\n",
      "[761]\ttraining's rmse: 12016.1\tvalid_1's rmse: 10819.9\n",
      "Training until validation scores don't improve for 5 rounds\n",
      "Early stopping, best iteration is:\n",
      "[844]\ttraining's rmse: 10590\tvalid_1's rmse: 7851.02\n",
      "Training until validation scores don't improve for 5 rounds\n",
      "Early stopping, best iteration is:\n",
      "[1322]\ttraining's rmse: 8320.86\tvalid_1's rmse: 7988.54\n",
      "Training until validation scores don't improve for 5 rounds\n",
      "Early stopping, best iteration is:\n",
      "[1456]\ttraining's rmse: 7961.86\tvalid_1's rmse: 9284.52\n",
      "Training until validation scores don't improve for 5 rounds\n",
      "Early stopping, best iteration is:\n",
      "[1508]\ttraining's rmse: 8043.42\tvalid_1's rmse: 8400.19\n",
      "Training until validation scores don't improve for 5 rounds\n",
      "Early stopping, best iteration is:\n",
      "[1509]\ttraining's rmse: 8091.47\tvalid_1's rmse: 14019.6\n",
      "Training until validation scores don't improve for 5 rounds\n",
      "Early stopping, best iteration is:\n",
      "[1577]\ttraining's rmse: 8739.23\tvalid_1's rmse: 18754.4\n",
      "Training until validation scores don't improve for 5 rounds\n",
      "Early stopping, best iteration is:\n",
      "[2488]\ttraining's rmse: 8359.3\tvalid_1's rmse: 28149.4\n"
     ]
    },
    {
     "name": "stderr",
     "output_type": "stream",
     "text": [
      "  1%|          | 4/339 [00:46<1:13:28, 13.16s/it]"
     ]
    },
    {
     "name": "stdout",
     "output_type": "stream",
     "text": [
      "Training until validation scores don't improve for 5 rounds\n",
      "Early stopping, best iteration is:\n",
      "[345]\ttraining's rmse: 12872.5\tvalid_1's rmse: 7672.47\n",
      "Training until validation scores don't improve for 5 rounds\n",
      "Early stopping, best iteration is:\n",
      "[1188]\ttraining's rmse: 6617.59\tvalid_1's rmse: 7819.73\n",
      "Training until validation scores don't improve for 5 rounds\n",
      "Early stopping, best iteration is:\n",
      "[1265]\ttraining's rmse: 6768.28\tvalid_1's rmse: 10284.6\n",
      "Training until validation scores don't improve for 5 rounds\n",
      "Early stopping, best iteration is:\n",
      "[1689]\ttraining's rmse: 6315.53\tvalid_1's rmse: 22414.1\n",
      "Training until validation scores don't improve for 5 rounds\n",
      "Early stopping, best iteration is:\n",
      "[1875]\ttraining's rmse: 10246.4\tvalid_1's rmse: 23309.4\n"
     ]
    },
    {
     "name": "stderr",
     "output_type": "stream",
     "text": [
      "  1%|▏         | 5/339 [00:59<1:12:14, 12.98s/it]"
     ]
    },
    {
     "name": "stdout",
     "output_type": "stream",
     "text": [
      "Training until validation scores don't improve for 5 rounds\n",
      "Early stopping, best iteration is:\n",
      "[450]\ttraining's rmse: 3113.1\tvalid_1's rmse: 9021\n",
      "Training until validation scores don't improve for 5 rounds\n",
      "Early stopping, best iteration is:\n",
      "[1057]\ttraining's rmse: 3217.75\tvalid_1's rmse: 27452.5\n"
     ]
    },
    {
     "name": "stderr",
     "output_type": "stream",
     "text": [
      "  2%|▏         | 6/339 [01:04<56:06, 10.11s/it]  "
     ]
    },
    {
     "name": "stdout",
     "output_type": "stream",
     "text": [
      "Training until validation scores don't improve for 5 rounds\n",
      "Early stopping, best iteration is:\n",
      "[348]\ttraining's rmse: 3558.43\tvalid_1's rmse: 3261.74\n",
      "Training until validation scores don't improve for 5 rounds\n",
      "Early stopping, best iteration is:\n",
      "[364]\ttraining's rmse: 3330.26\tvalid_1's rmse: 4707.17\n",
      "Training until validation scores don't improve for 5 rounds\n",
      "Early stopping, best iteration is:\n",
      "[1512]\ttraining's rmse: 2757.9\tvalid_1's rmse: 22006.2\n",
      "Training until validation scores don't improve for 5 rounds\n",
      "Early stopping, best iteration is:\n",
      "[1972]\ttraining's rmse: 4715.1\tvalid_1's rmse: 21386.5\n"
     ]
    },
    {
     "name": "stderr",
     "output_type": "stream",
     "text": [
      "  2%|▏         | 7/339 [01:15<57:40, 10.42s/it]"
     ]
    },
    {
     "name": "stdout",
     "output_type": "stream",
     "text": [
      "Training until validation scores don't improve for 5 rounds\n",
      "Early stopping, best iteration is:\n",
      "[627]\ttraining's rmse: 11482.8\tvalid_1's rmse: 19193.5\n",
      "Training until validation scores don't improve for 5 rounds\n",
      "Early stopping, best iteration is:\n",
      "[868]\ttraining's rmse: 9022.29\tvalid_1's rmse: 51992.9\n"
     ]
    },
    {
     "name": "stderr",
     "output_type": "stream",
     "text": [
      "  2%|▏         | 8/339 [01:18<44:56,  8.15s/it]"
     ]
    },
    {
     "name": "stdout",
     "output_type": "stream",
     "text": [
      "Training until validation scores don't improve for 5 rounds\n",
      "Early stopping, best iteration is:\n",
      "[424]\ttraining's rmse: 3997.86\tvalid_1's rmse: 5806.59\n",
      "Training until validation scores don't improve for 5 rounds\n",
      "Early stopping, best iteration is:\n",
      "[612]\ttraining's rmse: 3667.34\tvalid_1's rmse: 3877.97\n",
      "Training until validation scores don't improve for 5 rounds\n",
      "Early stopping, best iteration is:\n",
      "[613]\ttraining's rmse: 3736.3\tvalid_1's rmse: 3099.86\n",
      "Training until validation scores don't improve for 5 rounds\n",
      "Early stopping, best iteration is:\n",
      "[870]\ttraining's rmse: 3237.38\tvalid_1's rmse: 3750.19\n",
      "Training until validation scores don't improve for 5 rounds\n",
      "Early stopping, best iteration is:\n",
      "[892]\ttraining's rmse: 3310.67\tvalid_1's rmse: 4357.72\n",
      "Training until validation scores don't improve for 5 rounds\n",
      "Early stopping, best iteration is:\n",
      "[1471]\ttraining's rmse: 3102.24\tvalid_1's rmse: 10430.8\n",
      "Training until validation scores don't improve for 5 rounds\n",
      "Early stopping, best iteration is:\n",
      "[1911]\ttraining's rmse: 4361.7\tvalid_1's rmse: 17390\n",
      "Training until validation scores don't improve for 5 rounds\n",
      "Early stopping, best iteration is:\n",
      "[2658]\ttraining's rmse: 4862.81\tvalid_1's rmse: 21021.7\n"
     ]
    },
    {
     "name": "stderr",
     "output_type": "stream",
     "text": [
      "  3%|▎         | 9/339 [01:36<1:01:43, 11.22s/it]"
     ]
    },
    {
     "name": "stdout",
     "output_type": "stream",
     "text": [
      "Training until validation scores don't improve for 5 rounds\n",
      "Early stopping, best iteration is:\n",
      "[327]\ttraining's rmse: 14205.2\tvalid_1's rmse: 13394.1\n",
      "Training until validation scores don't improve for 5 rounds\n",
      "Early stopping, best iteration is:\n",
      "[415]\ttraining's rmse: 12974.1\tvalid_1's rmse: 10069.1\n",
      "Training until validation scores don't improve for 5 rounds\n",
      "Early stopping, best iteration is:\n",
      "[507]\ttraining's rmse: 11415.1\tvalid_1's rmse: 26724\n",
      "Training until validation scores don't improve for 5 rounds\n",
      "Early stopping, best iteration is:\n",
      "[904]\ttraining's rmse: 11853.2\tvalid_1's rmse: 56494\n"
     ]
    },
    {
     "name": "stderr",
     "output_type": "stream",
     "text": [
      "  3%|▎         | 10/339 [01:42<52:05,  9.50s/it] "
     ]
    },
    {
     "name": "stdout",
     "output_type": "stream",
     "text": [
      "Training until validation scores don't improve for 5 rounds\n",
      "Early stopping, best iteration is:\n",
      "[315]\ttraining's rmse: 5869.87\tvalid_1's rmse: 4244.51\n",
      "Training until validation scores don't improve for 5 rounds\n",
      "Early stopping, best iteration is:\n",
      "[332]\ttraining's rmse: 5006.63\tvalid_1's rmse: 5884.54\n",
      "Training until validation scores don't improve for 5 rounds\n",
      "Early stopping, best iteration is:\n",
      "[333]\ttraining's rmse: 5308.88\tvalid_1's rmse: 55598.2\n"
     ]
    },
    {
     "name": "stderr",
     "output_type": "stream",
     "text": [
      "  3%|▎         | 11/339 [01:44<39:15,  7.18s/it]"
     ]
    },
    {
     "name": "stdout",
     "output_type": "stream",
     "text": [
      "Training until validation scores don't improve for 5 rounds\n",
      "Early stopping, best iteration is:\n",
      "[518]\ttraining's rmse: 3975.33\tvalid_1's rmse: 18623.8\n",
      "Training until validation scores don't improve for 5 rounds\n",
      "Early stopping, best iteration is:\n",
      "[1150]\ttraining's rmse: 5424.9\tvalid_1's rmse: 30081.3\n"
     ]
    },
    {
     "name": "stderr",
     "output_type": "stream",
     "text": [
      "  4%|▎         | 12/339 [01:48<34:27,  6.32s/it]"
     ]
    },
    {
     "name": "stdout",
     "output_type": "stream",
     "text": [
      "Training until validation scores don't improve for 5 rounds\n",
      "Early stopping, best iteration is:\n",
      "[1440]\ttraining's rmse: 7159.85\tvalid_1's rmse: 15668\n",
      "Training until validation scores don't improve for 5 rounds\n",
      "Early stopping, best iteration is:\n",
      "[1721]\ttraining's rmse: 9468.98\tvalid_1's rmse: 9508.03\n",
      "Training until validation scores don't improve for 5 rounds\n",
      "Early stopping, best iteration is:\n",
      "[1903]\ttraining's rmse: 8479.55\tvalid_1's rmse: 15924.7\n",
      "Training until validation scores don't improve for 5 rounds\n",
      "Early stopping, best iteration is:\n",
      "[2177]\ttraining's rmse: 9607.13\tvalid_1's rmse: 63000.2\n"
     ]
    },
    {
     "name": "stderr",
     "output_type": "stream",
     "text": [
      "  4%|▍         | 13/339 [02:01<45:36,  8.39s/it]"
     ]
    },
    {
     "name": "stdout",
     "output_type": "stream",
     "text": [
      "Training until validation scores don't improve for 5 rounds\n",
      "Early stopping, best iteration is:\n",
      "[140]\ttraining's rmse: 1614.83\tvalid_1's rmse: 9858.47\n",
      "Training until validation scores don't improve for 5 rounds\n",
      "Early stopping, best iteration is:\n",
      "[669]\ttraining's rmse: 1429.43\tvalid_1's rmse: 2742.1\n",
      "Training until validation scores don't improve for 5 rounds\n",
      "Early stopping, best iteration is:\n",
      "[670]\ttraining's rmse: 1959.37\tvalid_1's rmse: 24744.1\n"
     ]
    },
    {
     "name": "stderr",
     "output_type": "stream",
     "text": [
      "  4%|▍         | 14/339 [02:05<38:07,  7.04s/it]"
     ]
    },
    {
     "name": "stdout",
     "output_type": "stream",
     "text": [
      "Training until validation scores don't improve for 5 rounds\n",
      "Early stopping, best iteration is:\n",
      "[575]\ttraining's rmse: 3818.36\tvalid_1's rmse: 11375.5\n",
      "Training until validation scores don't improve for 5 rounds\n",
      "Early stopping, best iteration is:\n",
      "[649]\ttraining's rmse: 6161.75\tvalid_1's rmse: 2942.56\n",
      "Training until validation scores don't improve for 5 rounds\n",
      "Early stopping, best iteration is:\n",
      "[721]\ttraining's rmse: 4735.22\tvalid_1's rmse: 4903.62\n",
      "Training until validation scores don't improve for 5 rounds\n",
      "Early stopping, best iteration is:\n",
      "[818]\ttraining's rmse: 4087.21\tvalid_1's rmse: 10938.2\n",
      "Training until validation scores don't improve for 5 rounds\n",
      "Early stopping, best iteration is:\n",
      "[1054]\ttraining's rmse: 4736.48\tvalid_1's rmse: 19798.2\n"
     ]
    },
    {
     "name": "stderr",
     "output_type": "stream",
     "text": [
      "  5%|▍         | 16/339 [02:13<30:14,  5.62s/it]"
     ]
    },
    {
     "name": "stdout",
     "output_type": "stream",
     "text": [
      "Training until validation scores don't improve for 5 rounds\n",
      "Early stopping, best iteration is:\n",
      "[247]\ttraining's rmse: 2178.71\tvalid_1's rmse: 2585.01\n",
      "Training until validation scores don't improve for 5 rounds\n",
      "Early stopping, best iteration is:\n",
      "[483]\ttraining's rmse: 1931.67\tvalid_1's rmse: 1496.37\n",
      "Training until validation scores don't improve for 5 rounds\n",
      "Early stopping, best iteration is:\n",
      "[632]\ttraining's rmse: 1677.54\tvalid_1's rmse: 1306.27\n",
      "Training until validation scores don't improve for 5 rounds\n",
      "Early stopping, best iteration is:\n",
      "[929]\ttraining's rmse: 1462.6\tvalid_1's rmse: 1792.34\n",
      "Training until validation scores don't improve for 5 rounds\n",
      "Early stopping, best iteration is:\n",
      "[1001]\ttraining's rmse: 1492.54\tvalid_1's rmse: 2114.43\n",
      "Training until validation scores don't improve for 5 rounds\n",
      "Early stopping, best iteration is:\n",
      "[1002]\ttraining's rmse: 1611.43\tvalid_1's rmse: 4624.27\n",
      "Training until validation scores don't improve for 5 rounds\n",
      "Early stopping, best iteration is:\n",
      "[1739]\ttraining's rmse: 1775.41\tvalid_1's rmse: 4540.78\n",
      "Training until validation scores don't improve for 5 rounds\n",
      "Early stopping, best iteration is:\n",
      "[2251]\ttraining's rmse: 2034.79\tvalid_1's rmse: 9665.44\n"
     ]
    },
    {
     "name": "stderr",
     "output_type": "stream",
     "text": [
      "  5%|▌         | 17/339 [02:31<46:33,  8.67s/it]"
     ]
    },
    {
     "name": "stdout",
     "output_type": "stream",
     "text": [
      "Training until validation scores don't improve for 5 rounds\n",
      "Early stopping, best iteration is:\n",
      "[476]\ttraining's rmse: 4864.95\tvalid_1's rmse: 5997.78\n",
      "Training until validation scores don't improve for 5 rounds\n",
      "Early stopping, best iteration is:\n",
      "[575]\ttraining's rmse: 4578.95\tvalid_1's rmse: 3564.36\n",
      "Training until validation scores don't improve for 5 rounds\n",
      "Early stopping, best iteration is:\n",
      "[661]\ttraining's rmse: 4107.78\tvalid_1's rmse: 2413.21\n",
      "Training until validation scores don't improve for 5 rounds\n",
      "Early stopping, best iteration is:\n",
      "[757]\ttraining's rmse: 3646.82\tvalid_1's rmse: 3335.53\n",
      "Training until validation scores don't improve for 5 rounds\n",
      "Early stopping, best iteration is:\n",
      "[758]\ttraining's rmse: 3584.69\tvalid_1's rmse: 5730.42\n",
      "Training until validation scores don't improve for 5 rounds\n",
      "Early stopping, best iteration is:\n",
      "[1087]\ttraining's rmse: 3608.49\tvalid_1's rmse: 18099.3\n",
      "Training until validation scores don't improve for 5 rounds\n",
      "Early stopping, best iteration is:\n",
      "[1498]\ttraining's rmse: 4256.26\tvalid_1's rmse: 8409.51\n"
     ]
    },
    {
     "name": "stderr",
     "output_type": "stream",
     "text": [
      "  5%|▌         | 18/339 [02:45<54:08, 10.12s/it]"
     ]
    },
    {
     "name": "stdout",
     "output_type": "stream",
     "text": [
      "Training until validation scores don't improve for 5 rounds\n",
      "Early stopping, best iteration is:\n",
      "[212]\ttraining's rmse: 5166.93\tvalid_1's rmse: 6710.63\n",
      "Training until validation scores don't improve for 5 rounds\n",
      "Early stopping, best iteration is:\n",
      "[295]\ttraining's rmse: 4776.47\tvalid_1's rmse: 2568.19\n",
      "Training until validation scores don't improve for 5 rounds\n",
      "Early stopping, best iteration is:\n",
      "[678]\ttraining's rmse: 3582.1\tvalid_1's rmse: 2154.52\n",
      "Training until validation scores don't improve for 5 rounds\n",
      "Early stopping, best iteration is:\n",
      "[798]\ttraining's rmse: 3223.47\tvalid_1's rmse: 2006.02\n",
      "Training until validation scores don't improve for 5 rounds\n",
      "Early stopping, best iteration is:\n",
      "[873]\ttraining's rmse: 2971.84\tvalid_1's rmse: 2649.15\n",
      "Training until validation scores don't improve for 5 rounds\n",
      "Early stopping, best iteration is:\n",
      "[874]\ttraining's rmse: 2918.77\tvalid_1's rmse: 4952.61\n",
      "Training until validation scores don't improve for 5 rounds\n",
      "Early stopping, best iteration is:\n",
      "[875]\ttraining's rmse: 3285.84\tvalid_1's rmse: 9405.51\n",
      "Training until validation scores don't improve for 5 rounds\n",
      "Early stopping, best iteration is:\n",
      "[1307]\ttraining's rmse: 3576.79\tvalid_1's rmse: 18265.2\n"
     ]
    },
    {
     "name": "stderr",
     "output_type": "stream",
     "text": [
      "  6%|▌         | 19/339 [02:57<56:08, 10.53s/it]"
     ]
    },
    {
     "name": "stdout",
     "output_type": "stream",
     "text": [
      "Training until validation scores don't improve for 5 rounds\n",
      "Early stopping, best iteration is:\n",
      "[319]\ttraining's rmse: 4727\tvalid_1's rmse: 3096.69\n",
      "Training until validation scores don't improve for 5 rounds\n",
      "Early stopping, best iteration is:\n",
      "[457]\ttraining's rmse: 3765\tvalid_1's rmse: 2964.73\n",
      "Training until validation scores don't improve for 5 rounds\n",
      "Early stopping, best iteration is:\n",
      "[458]\ttraining's rmse: 3515.22\tvalid_1's rmse: 5184.94\n",
      "Training until validation scores don't improve for 5 rounds\n",
      "Early stopping, best iteration is:\n",
      "[785]\ttraining's rmse: 3597.38\tvalid_1's rmse: 40775.6\n"
     ]
    },
    {
     "name": "stderr",
     "output_type": "stream",
     "text": [
      "  6%|▌         | 20/339 [03:02<48:35,  9.14s/it]"
     ]
    },
    {
     "name": "stdout",
     "output_type": "stream",
     "text": [
      "Training until validation scores don't improve for 5 rounds\n",
      "Early stopping, best iteration is:\n",
      "[331]\ttraining's rmse: 3308.05\tvalid_1's rmse: 3569.92\n",
      "Training until validation scores don't improve for 5 rounds\n",
      "Early stopping, best iteration is:\n",
      "[582]\ttraining's rmse: 2272.22\tvalid_1's rmse: 2538.12\n",
      "Training until validation scores don't improve for 5 rounds\n",
      "Early stopping, best iteration is:\n",
      "[1019]\ttraining's rmse: 1880\tvalid_1's rmse: 1947.85\n",
      "Training until validation scores don't improve for 5 rounds\n",
      "Early stopping, best iteration is:\n",
      "[1658]\ttraining's rmse: 1580.88\tvalid_1's rmse: 3028.35\n",
      "Training until validation scores don't improve for 5 rounds\n",
      "Early stopping, best iteration is:\n",
      "[1945]\ttraining's rmse: 1674.25\tvalid_1's rmse: 4964.98\n",
      "Training until validation scores don't improve for 5 rounds\n",
      "Early stopping, best iteration is:\n",
      "[2341]\ttraining's rmse: 1955\tvalid_1's rmse: 8601.59\n"
     ]
    },
    {
     "name": "stderr",
     "output_type": "stream",
     "text": [
      "  6%|▌         | 21/339 [03:22<1:04:45, 12.22s/it]"
     ]
    },
    {
     "name": "stdout",
     "output_type": "stream",
     "text": [
      "Training until validation scores don't improve for 5 rounds\n",
      "Early stopping, best iteration is:\n",
      "[506]\ttraining's rmse: 2973.85\tvalid_1's rmse: 5175.34\n",
      "Training until validation scores don't improve for 5 rounds\n",
      "Early stopping, best iteration is:\n",
      "[579]\ttraining's rmse: 3543.51\tvalid_1's rmse: 2856.73\n",
      "Training until validation scores don't improve for 5 rounds\n",
      "Early stopping, best iteration is:\n",
      "[702]\ttraining's rmse: 2965.44\tvalid_1's rmse: 2139.76\n",
      "Training until validation scores don't improve for 5 rounds\n",
      "Early stopping, best iteration is:\n",
      "[914]\ttraining's rmse: 2563.37\tvalid_1's rmse: 2103.91\n",
      "Training until validation scores don't improve for 5 rounds\n",
      "Early stopping, best iteration is:\n",
      "[1032]\ttraining's rmse: 2407.09\tvalid_1's rmse: 2206.23\n",
      "Training until validation scores don't improve for 5 rounds\n",
      "Early stopping, best iteration is:\n",
      "[1164]\ttraining's rmse: 2309.02\tvalid_1's rmse: 3543.04\n",
      "Training until validation scores don't improve for 5 rounds\n",
      "Early stopping, best iteration is:\n",
      "[1165]\ttraining's rmse: 2519.9\tvalid_1's rmse: 5598.03\n",
      "Training until validation scores don't improve for 5 rounds\n",
      "Early stopping, best iteration is:\n",
      "[1451]\ttraining's rmse: 2717.92\tvalid_1's rmse: 8810.34\n",
      "Training until validation scores don't improve for 5 rounds\n",
      "Early stopping, best iteration is:\n",
      "[1950]\ttraining's rmse: 3150.06\tvalid_1's rmse: 16842.9\n"
     ]
    },
    {
     "name": "stderr",
     "output_type": "stream",
     "text": [
      "  6%|▋         | 22/339 [03:43<1:17:39, 14.70s/it]"
     ]
    },
    {
     "name": "stdout",
     "output_type": "stream",
     "text": [
      "Training until validation scores don't improve for 5 rounds\n",
      "Early stopping, best iteration is:\n",
      "[902]\ttraining's rmse: 1298.05\tvalid_1's rmse: 4798.07\n",
      "Training until validation scores don't improve for 5 rounds\n",
      "Early stopping, best iteration is:\n",
      "[1115]\ttraining's rmse: 2110.02\tvalid_1's rmse: 2072.6\n",
      "Training until validation scores don't improve for 5 rounds\n",
      "Early stopping, best iteration is:\n",
      "[1344]\ttraining's rmse: 1920.34\tvalid_1's rmse: 1481.9\n",
      "Training until validation scores don't improve for 5 rounds\n",
      "Early stopping, best iteration is:\n",
      "[1429]\ttraining's rmse: 1775.87\tvalid_1's rmse: 2623.8\n",
      "Training until validation scores don't improve for 5 rounds\n",
      "Early stopping, best iteration is:\n",
      "[1503]\ttraining's rmse: 1859.45\tvalid_1's rmse: 4988.67\n",
      "Training until validation scores don't improve for 5 rounds\n",
      "Early stopping, best iteration is:\n",
      "[1895]\ttraining's rmse: 1874.1\tvalid_1's rmse: 6401.13\n",
      "Training until validation scores don't improve for 5 rounds\n",
      "Early stopping, best iteration is:\n",
      "[2845]\ttraining's rmse: 1954.02\tvalid_1's rmse: 9450.71\n"
     ]
    },
    {
     "name": "stderr",
     "output_type": "stream",
     "text": [
      "  7%|▋         | 23/339 [04:12<1:39:35, 18.91s/it]"
     ]
    },
    {
     "name": "stdout",
     "output_type": "stream",
     "text": [
      "Training until validation scores don't improve for 5 rounds\n",
      "Early stopping, best iteration is:\n",
      "[377]\ttraining's rmse: 1727.91\tvalid_1's rmse: 2369.73\n",
      "Training until validation scores don't improve for 5 rounds\n",
      "Early stopping, best iteration is:\n",
      "[627]\ttraining's rmse: 1818.11\tvalid_1's rmse: 1944.2\n",
      "Training until validation scores don't improve for 5 rounds\n",
      "Early stopping, best iteration is:\n",
      "[810]\ttraining's rmse: 1646.41\tvalid_1's rmse: 1799.63\n",
      "Training until validation scores don't improve for 5 rounds\n",
      "Early stopping, best iteration is:\n",
      "[934]\ttraining's rmse: 1617.61\tvalid_1's rmse: 1383.13\n",
      "Training until validation scores don't improve for 5 rounds\n",
      "Early stopping, best iteration is:\n",
      "[962]\ttraining's rmse: 1559.21\tvalid_1's rmse: 1630.33\n",
      "Training until validation scores don't improve for 5 rounds\n",
      "Early stopping, best iteration is:\n",
      "[963]\ttraining's rmse: 1570.35\tvalid_1's rmse: 1998.4\n",
      "Training until validation scores don't improve for 5 rounds\n",
      "Early stopping, best iteration is:\n",
      "[992]\ttraining's rmse: 1609.69\tvalid_1's rmse: 1835.16\n",
      "Training until validation scores don't improve for 5 rounds\n",
      "Early stopping, best iteration is:\n",
      "[1213]\ttraining's rmse: 1532.66\tvalid_1's rmse: 2485.43\n",
      "Training until validation scores don't improve for 5 rounds\n",
      "Early stopping, best iteration is:\n",
      "[1214]\ttraining's rmse: 1663.68\tvalid_1's rmse: 4989.65\n",
      "Training until validation scores don't improve for 5 rounds\n",
      "Early stopping, best iteration is:\n",
      "[1522]\ttraining's rmse: 1991.72\tvalid_1's rmse: 4730.37\n",
      "Training until validation scores don't improve for 5 rounds\n",
      "Early stopping, best iteration is:\n",
      "[1523]\ttraining's rmse: 2369.27\tvalid_1's rmse: 9321.47\n",
      "Training until validation scores don't improve for 5 rounds\n",
      "Early stopping, best iteration is:\n",
      "[2021]\ttraining's rmse: 2601.41\tvalid_1's rmse: 7368.43\n"
     ]
    },
    {
     "name": "stderr",
     "output_type": "stream",
     "text": [
      "  7%|▋         | 24/339 [04:38<1:50:24, 21.03s/it]"
     ]
    },
    {
     "name": "stdout",
     "output_type": "stream",
     "text": [
      "Training until validation scores don't improve for 5 rounds\n",
      "Early stopping, best iteration is:\n",
      "[341]\ttraining's rmse: 2391.25\tvalid_1's rmse: 1733.05\n",
      "Training until validation scores don't improve for 5 rounds\n",
      "Early stopping, best iteration is:\n",
      "[408]\ttraining's rmse: 1994.95\tvalid_1's rmse: 1254.25\n",
      "Training until validation scores don't improve for 5 rounds\n",
      "Early stopping, best iteration is:\n",
      "[600]\ttraining's rmse: 1641.07\tvalid_1's rmse: 1498.48\n",
      "Training until validation scores don't improve for 5 rounds\n",
      "Early stopping, best iteration is:\n",
      "[666]\ttraining's rmse: 1571.92\tvalid_1's rmse: 2503.45\n",
      "Training until validation scores don't improve for 5 rounds\n",
      "Early stopping, best iteration is:\n",
      "[1556]\ttraining's rmse: 1565.19\tvalid_1's rmse: 8652.5\n"
     ]
    },
    {
     "name": "stderr",
     "output_type": "stream",
     "text": [
      "  7%|▋         | 25/339 [04:55<1:44:17, 19.93s/it]"
     ]
    },
    {
     "name": "stdout",
     "output_type": "stream",
     "text": [
      "Training until validation scores don't improve for 5 rounds\n",
      "Early stopping, best iteration is:\n",
      "[535]\ttraining's rmse: 2166.39\tvalid_1's rmse: 2667.68\n",
      "Training until validation scores don't improve for 5 rounds\n",
      "Early stopping, best iteration is:\n",
      "[608]\ttraining's rmse: 2211.7\tvalid_1's rmse: 2316.63\n",
      "Training until validation scores don't improve for 5 rounds\n",
      "Early stopping, best iteration is:\n",
      "[609]\ttraining's rmse: 2242.24\tvalid_1's rmse: 3822.05\n",
      "Training until validation scores don't improve for 5 rounds\n",
      "Early stopping, best iteration is:\n",
      "[1159]\ttraining's rmse: 1723.91\tvalid_1's rmse: 1715.97\n",
      "Training until validation scores don't improve for 5 rounds\n",
      "Early stopping, best iteration is:\n",
      "[1167]\ttraining's rmse: 1714.74\tvalid_1's rmse: 2490.06\n",
      "Training until validation scores don't improve for 5 rounds\n",
      "Early stopping, best iteration is:\n",
      "[1168]\ttraining's rmse: 1864.26\tvalid_1's rmse: 3259.55\n",
      "Training until validation scores don't improve for 5 rounds\n",
      "Early stopping, best iteration is:\n",
      "[1541]\ttraining's rmse: 1821.87\tvalid_1's rmse: 4153.36\n",
      "Training until validation scores don't improve for 5 rounds\n",
      "Early stopping, best iteration is:\n",
      "[1920]\ttraining's rmse: 1930.1\tvalid_1's rmse: 6734.69\n",
      "Training until validation scores don't improve for 5 rounds\n",
      "Early stopping, best iteration is:\n",
      "[2316]\ttraining's rmse: 2275.84\tvalid_1's rmse: 11224.6\n"
     ]
    },
    {
     "name": "stderr",
     "output_type": "stream",
     "text": [
      "  8%|▊         | 26/339 [05:23<1:55:57, 22.23s/it]"
     ]
    },
    {
     "name": "stdout",
     "output_type": "stream",
     "text": [
      "Training until validation scores don't improve for 5 rounds\n",
      "Early stopping, best iteration is:\n",
      "[276]\ttraining's rmse: 1929.21\tvalid_1's rmse: 2371.46\n",
      "Training until validation scores don't improve for 5 rounds\n",
      "Early stopping, best iteration is:\n",
      "[332]\ttraining's rmse: 2058\tvalid_1's rmse: 2053.43\n",
      "Training until validation scores don't improve for 5 rounds\n",
      "Early stopping, best iteration is:\n",
      "[916]\ttraining's rmse: 1706.76\tvalid_1's rmse: 8405.4\n"
     ]
    },
    {
     "name": "stderr",
     "output_type": "stream",
     "text": [
      "  8%|▊         | 27/339 [05:31<1:34:00, 18.08s/it]"
     ]
    },
    {
     "name": "stdout",
     "output_type": "stream",
     "text": [
      "Training until validation scores don't improve for 5 rounds\n",
      "Early stopping, best iteration is:\n",
      "[1134]\ttraining's rmse: 3456.06\tvalid_1's rmse: 4851.78\n",
      "Training until validation scores don't improve for 5 rounds\n",
      "Early stopping, best iteration is:\n",
      "[1373]\ttraining's rmse: 3274.83\tvalid_1's rmse: 9128.67\n"
     ]
    },
    {
     "name": "stderr",
     "output_type": "stream",
     "text": [
      "  8%|▊         | 28/339 [05:35<1:11:57, 13.88s/it]"
     ]
    },
    {
     "name": "stdout",
     "output_type": "stream",
     "text": [
      "Training until validation scores don't improve for 5 rounds\n",
      "Early stopping, best iteration is:\n",
      "[1944]\ttraining's rmse: 1756.69\tvalid_1's rmse: 4031.98\n",
      "Training until validation scores don't improve for 5 rounds\n",
      "Early stopping, best iteration is:\n",
      "[2194]\ttraining's rmse: 2300.99\tvalid_1's rmse: 2839.85\n",
      "Training until validation scores don't improve for 5 rounds\n",
      "Early stopping, best iteration is:\n",
      "[2583]\ttraining's rmse: 2102.3\tvalid_1's rmse: 2299.05\n",
      "Training until validation scores don't improve for 5 rounds\n",
      "Early stopping, best iteration is:\n",
      "[2584]\ttraining's rmse: 2150.89\tvalid_1's rmse: 3159.56\n",
      "Training until validation scores don't improve for 5 rounds\n",
      "Early stopping, best iteration is:\n",
      "[2876]\ttraining's rmse: 2162.44\tvalid_1's rmse: 4493.57\n",
      "Training until validation scores don't improve for 5 rounds\n",
      "Early stopping, best iteration is:\n",
      "[3175]\ttraining's rmse: 2199.44\tvalid_1's rmse: 7958.94\n",
      "Training until validation scores don't improve for 5 rounds\n",
      "Early stopping, best iteration is:\n",
      "[3547]\ttraining's rmse: 2455.59\tvalid_1's rmse: 10598.8\n"
     ]
    },
    {
     "name": "stderr",
     "output_type": "stream",
     "text": [
      "  9%|▊         | 29/339 [06:17<1:54:54, 22.24s/it]"
     ]
    },
    {
     "name": "stdout",
     "output_type": "stream",
     "text": [
      "Training until validation scores don't improve for 5 rounds\n",
      "Early stopping, best iteration is:\n",
      "[142]\ttraining's rmse: 5651.73\tvalid_1's rmse: 5111.08\n",
      "Training until validation scores don't improve for 5 rounds\n",
      "Early stopping, best iteration is:\n",
      "[380]\ttraining's rmse: 2747.6\tvalid_1's rmse: 1822.67\n",
      "Training until validation scores don't improve for 5 rounds\n",
      "Early stopping, best iteration is:\n",
      "[381]\ttraining's rmse: 2476.42\tvalid_1's rmse: 2010.64\n",
      "Training until validation scores don't improve for 5 rounds\n",
      "Early stopping, best iteration is:\n",
      "[676]\ttraining's rmse: 2090.14\tvalid_1's rmse: 2175.06\n",
      "Training until validation scores don't improve for 5 rounds\n",
      "Early stopping, best iteration is:\n",
      "[677]\ttraining's rmse: 2105.82\tvalid_1's rmse: 3380.46\n",
      "Training until validation scores don't improve for 5 rounds\n",
      "Early stopping, best iteration is:\n",
      "[678]\ttraining's rmse: 2363.93\tvalid_1's rmse: 2641.55\n",
      "Training until validation scores don't improve for 5 rounds\n",
      "Early stopping, best iteration is:\n",
      "[679]\ttraining's rmse: 2402.65\tvalid_1's rmse: 2710.79\n",
      "Training until validation scores don't improve for 5 rounds\n",
      "Early stopping, best iteration is:\n",
      "[745]\ttraining's rmse: 2326.31\tvalid_1's rmse: 5002.5\n",
      "Training until validation scores don't improve for 5 rounds\n",
      "Early stopping, best iteration is:\n",
      "[1079]\ttraining's rmse: 2391.08\tvalid_1's rmse: 4742.58\n",
      "Training until validation scores don't improve for 5 rounds\n",
      "Early stopping, best iteration is:\n",
      "[1118]\ttraining's rmse: 2584.41\tvalid_1's rmse: 8911.68\n"
     ]
    },
    {
     "name": "stderr",
     "output_type": "stream",
     "text": [
      "  9%|▉         | 30/339 [06:35<1:47:10, 20.81s/it]"
     ]
    },
    {
     "name": "stdout",
     "output_type": "stream",
     "text": [
      "Training until validation scores don't improve for 5 rounds\n",
      "Early stopping, best iteration is:\n",
      "[280]\ttraining's rmse: 2707.68\tvalid_1's rmse: 4116.66\n",
      "Training until validation scores don't improve for 5 rounds\n",
      "Early stopping, best iteration is:\n",
      "[903]\ttraining's rmse: 1873.02\tvalid_1's rmse: 14498.8\n"
     ]
    },
    {
     "name": "stderr",
     "output_type": "stream",
     "text": [
      "  9%|▉         | 31/339 [06:38<1:20:27, 15.67s/it]"
     ]
    },
    {
     "name": "stdout",
     "output_type": "stream",
     "text": [
      "Training until validation scores don't improve for 5 rounds\n",
      "Early stopping, best iteration is:\n",
      "[541]\ttraining's rmse: 2579.25\tvalid_1's rmse: 15536.3\n",
      "Training until validation scores don't improve for 5 rounds\n",
      "Early stopping, best iteration is:\n",
      "[1071]\ttraining's rmse: 3419.19\tvalid_1's rmse: 13856.3\n"
     ]
    },
    {
     "name": "stderr",
     "output_type": "stream",
     "text": [
      "  9%|▉         | 32/339 [06:50<1:13:32, 14.37s/it]"
     ]
    },
    {
     "name": "stdout",
     "output_type": "stream",
     "text": [
      "Training until validation scores don't improve for 5 rounds\n",
      "Early stopping, best iteration is:\n",
      "[426]\ttraining's rmse: 1609.71\tvalid_1's rmse: 2433.94\n",
      "Training until validation scores don't improve for 5 rounds\n",
      "Early stopping, best iteration is:\n",
      "[585]\ttraining's rmse: 1650.32\tvalid_1's rmse: 1666.48\n",
      "Training until validation scores don't improve for 5 rounds\n",
      "Early stopping, best iteration is:\n",
      "[627]\ttraining's rmse: 1607.07\tvalid_1's rmse: 1540.3\n",
      "Training until validation scores don't improve for 5 rounds\n",
      "Early stopping, best iteration is:\n",
      "[710]\ttraining's rmse: 1533.6\tvalid_1's rmse: 1693.14\n",
      "Training until validation scores don't improve for 5 rounds\n",
      "Early stopping, best iteration is:\n",
      "[741]\ttraining's rmse: 1522.53\tvalid_1's rmse: 1621.09\n",
      "Training until validation scores don't improve for 5 rounds\n",
      "Early stopping, best iteration is:\n",
      "[742]\ttraining's rmse: 1538.45\tvalid_1's rmse: 2829.87\n",
      "Training until validation scores don't improve for 5 rounds\n",
      "Early stopping, best iteration is:\n",
      "[743]\ttraining's rmse: 1779.04\tvalid_1's rmse: 2605.57\n",
      "Training until validation scores don't improve for 5 rounds\n",
      "Early stopping, best iteration is:\n",
      "[977]\ttraining's rmse: 1712.7\tvalid_1's rmse: 2032.82\n",
      "Training until validation scores don't improve for 5 rounds\n",
      "Early stopping, best iteration is:\n",
      "[993]\ttraining's rmse: 1742.15\tvalid_1's rmse: 3836.91\n",
      "Training until validation scores don't improve for 5 rounds\n",
      "Early stopping, best iteration is:\n",
      "[1385]\ttraining's rmse: 1828.57\tvalid_1's rmse: 3837.3\n",
      "Training until validation scores don't improve for 5 rounds\n",
      "Early stopping, best iteration is:\n",
      "[1408]\ttraining's rmse: 2054.48\tvalid_1's rmse: 4665.37\n",
      "Training until validation scores don't improve for 5 rounds\n",
      "Early stopping, best iteration is:\n",
      "[1975]\ttraining's rmse: 2082.19\tvalid_1's rmse: 6929.54\n"
     ]
    },
    {
     "name": "stderr",
     "output_type": "stream",
     "text": [
      " 10%|▉         | 33/339 [07:16<1:31:32, 17.95s/it]"
     ]
    },
    {
     "name": "stdout",
     "output_type": "stream",
     "text": [
      "Training until validation scores don't improve for 5 rounds\n",
      "Early stopping, best iteration is:\n",
      "[352]\ttraining's rmse: 2169.09\tvalid_1's rmse: 2394.29\n",
      "Training until validation scores don't improve for 5 rounds\n",
      "Early stopping, best iteration is:\n",
      "[411]\ttraining's rmse: 2089.7\tvalid_1's rmse: 1793.57\n",
      "Training until validation scores don't improve for 5 rounds\n",
      "Early stopping, best iteration is:\n",
      "[722]\ttraining's rmse: 1686.63\tvalid_1's rmse: 1632.15\n",
      "Training until validation scores don't improve for 5 rounds\n",
      "Early stopping, best iteration is:\n",
      "[780]\ttraining's rmse: 1640.82\tvalid_1's rmse: 2032\n",
      "Training until validation scores don't improve for 5 rounds\n",
      "Early stopping, best iteration is:\n",
      "[822]\ttraining's rmse: 1679.6\tvalid_1's rmse: 2253.53\n",
      "Training until validation scores don't improve for 5 rounds\n",
      "Early stopping, best iteration is:\n",
      "[824]\ttraining's rmse: 1785.31\tvalid_1's rmse: 2266.74\n",
      "Training until validation scores don't improve for 5 rounds\n",
      "Early stopping, best iteration is:\n",
      "[825]\ttraining's rmse: 1859.82\tvalid_1's rmse: 3760.86\n",
      "Training until validation scores don't improve for 5 rounds\n",
      "Early stopping, best iteration is:\n",
      "[1156]\ttraining's rmse: 1940.38\tvalid_1's rmse: 6578.25\n",
      "Training until validation scores don't improve for 5 rounds\n",
      "Early stopping, best iteration is:\n",
      "[1932]\ttraining's rmse: 2100.51\tvalid_1's rmse: 9947.34\n"
     ]
    },
    {
     "name": "stderr",
     "output_type": "stream",
     "text": [
      " 10%|█         | 34/339 [07:41<1:42:31, 20.17s/it]"
     ]
    },
    {
     "name": "stdout",
     "output_type": "stream",
     "text": [
      "Training until validation scores don't improve for 5 rounds\n",
      "Early stopping, best iteration is:\n",
      "[349]\ttraining's rmse: 1891.07\tvalid_1's rmse: 3228.05\n",
      "Training until validation scores don't improve for 5 rounds\n",
      "Early stopping, best iteration is:\n",
      "[414]\ttraining's rmse: 2317.51\tvalid_1's rmse: 2635.82\n",
      "Training until validation scores don't improve for 5 rounds\n",
      "Early stopping, best iteration is:\n",
      "[475]\ttraining's rmse: 2224.28\tvalid_1's rmse: 2406.51\n",
      "Training until validation scores don't improve for 5 rounds\n",
      "Early stopping, best iteration is:\n",
      "[805]\ttraining's rmse: 2003.34\tvalid_1's rmse: 1732.68\n",
      "Training until validation scores don't improve for 5 rounds\n",
      "Early stopping, best iteration is:\n",
      "[955]\ttraining's rmse: 1876.63\tvalid_1's rmse: 2127.54\n",
      "Training until validation scores don't improve for 5 rounds\n",
      "Early stopping, best iteration is:\n",
      "[956]\ttraining's rmse: 1918.88\tvalid_1's rmse: 2070.52\n",
      "Training until validation scores don't improve for 5 rounds\n",
      "Early stopping, best iteration is:\n",
      "[996]\ttraining's rmse: 1899.54\tvalid_1's rmse: 2475.04\n",
      "Training until validation scores don't improve for 5 rounds\n",
      "Early stopping, best iteration is:\n",
      "[1001]\ttraining's rmse: 1974.44\tvalid_1's rmse: 3123.29\n",
      "Training until validation scores don't improve for 5 rounds\n",
      "Early stopping, best iteration is:\n",
      "[1019]\ttraining's rmse: 2097.74\tvalid_1's rmse: 3347.57\n",
      "Training until validation scores don't improve for 5 rounds\n",
      "Early stopping, best iteration is:\n",
      "[1020]\ttraining's rmse: 2251.74\tvalid_1's rmse: 4401.79\n",
      "Training until validation scores don't improve for 5 rounds\n",
      "Early stopping, best iteration is:\n",
      "[1328]\ttraining's rmse: 2256.44\tvalid_1's rmse: 4620.13\n",
      "Training until validation scores don't improve for 5 rounds\n",
      "Early stopping, best iteration is:\n",
      "[1500]\ttraining's rmse: 2354.93\tvalid_1's rmse: 8573.1\n",
      "Training until validation scores don't improve for 5 rounds\n",
      "Early stopping, best iteration is:\n",
      "[1878]\ttraining's rmse: 2730.82\tvalid_1's rmse: 7877.35\n"
     ]
    },
    {
     "name": "stderr",
     "output_type": "stream",
     "text": [
      " 10%|█         | 35/339 [08:11<1:56:42, 23.03s/it]"
     ]
    },
    {
     "name": "stdout",
     "output_type": "stream",
     "text": [
      "Training until validation scores don't improve for 5 rounds\n",
      "Early stopping, best iteration is:\n",
      "[395]\ttraining's rmse: 2786.75\tvalid_1's rmse: 2781.38\n",
      "Training until validation scores don't improve for 5 rounds\n",
      "Early stopping, best iteration is:\n",
      "[765]\ttraining's rmse: 2118.42\tvalid_1's rmse: 8451.27\n"
     ]
    },
    {
     "name": "stderr",
     "output_type": "stream",
     "text": [
      " 11%|█         | 36/339 [08:19<1:33:19, 18.48s/it]"
     ]
    },
    {
     "name": "stdout",
     "output_type": "stream",
     "text": [
      "Training until validation scores don't improve for 5 rounds\n",
      "Early stopping, best iteration is:\n",
      "[356]\ttraining's rmse: 1769.38\tvalid_1's rmse: 2167.74\n",
      "Training until validation scores don't improve for 5 rounds\n",
      "Early stopping, best iteration is:\n",
      "[447]\ttraining's rmse: 1824.59\tvalid_1's rmse: 2536.01\n",
      "Training until validation scores don't improve for 5 rounds\n",
      "Early stopping, best iteration is:\n",
      "[479]\ttraining's rmse: 2031.78\tvalid_1's rmse: 2355.19\n",
      "Training until validation scores don't improve for 5 rounds\n",
      "Early stopping, best iteration is:\n",
      "[581]\ttraining's rmse: 1992.03\tvalid_1's rmse: 1888.98\n",
      "Training until validation scores don't improve for 5 rounds\n",
      "Early stopping, best iteration is:\n",
      "[646]\ttraining's rmse: 1931.8\tvalid_1's rmse: 2569.37\n",
      "Training until validation scores don't improve for 5 rounds\n",
      "Early stopping, best iteration is:\n",
      "[647]\ttraining's rmse: 2050.43\tvalid_1's rmse: 1816.27\n",
      "Training until validation scores don't improve for 5 rounds\n",
      "Early stopping, best iteration is:\n",
      "[704]\ttraining's rmse: 1972.61\tvalid_1's rmse: 1736.22\n",
      "Training until validation scores don't improve for 5 rounds\n",
      "Early stopping, best iteration is:\n",
      "[705]\ttraining's rmse: 1944.03\tvalid_1's rmse: 2185.85\n",
      "Training until validation scores don't improve for 5 rounds\n",
      "Early stopping, best iteration is:\n",
      "[829]\ttraining's rmse: 1913.54\tvalid_1's rmse: 2088.54\n",
      "Training until validation scores don't improve for 5 rounds\n",
      "Early stopping, best iteration is:\n",
      "[830]\ttraining's rmse: 1930.75\tvalid_1's rmse: 1943.01\n",
      "Training until validation scores don't improve for 5 rounds\n",
      "Early stopping, best iteration is:\n",
      "[835]\ttraining's rmse: 1928.68\tvalid_1's rmse: 2324.05\n",
      "Training until validation scores don't improve for 5 rounds\n",
      "Early stopping, best iteration is:\n",
      "[836]\ttraining's rmse: 1963.96\tvalid_1's rmse: 2025.08\n",
      "Training until validation scores don't improve for 5 rounds\n",
      "Early stopping, best iteration is:\n",
      "[903]\ttraining's rmse: 1933.95\tvalid_1's rmse: 2210.7\n",
      "Training until validation scores don't improve for 5 rounds\n",
      "Early stopping, best iteration is:\n",
      "[904]\ttraining's rmse: 1954.29\tvalid_1's rmse: 2499.62\n",
      "Training until validation scores don't improve for 5 rounds\n",
      "Early stopping, best iteration is:\n",
      "[912]\ttraining's rmse: 1990.55\tvalid_1's rmse: 3207.15\n",
      "Training until validation scores don't improve for 5 rounds\n",
      "Early stopping, best iteration is:\n",
      "[913]\ttraining's rmse: 2085.75\tvalid_1's rmse: 5834.05\n",
      "Training until validation scores don't improve for 5 rounds\n",
      "Early stopping, best iteration is:\n",
      "[998]\ttraining's rmse: 2370.42\tvalid_1's rmse: 3857.18\n",
      "Training until validation scores don't improve for 5 rounds\n",
      "Early stopping, best iteration is:\n",
      "[1144]\ttraining's rmse: 2354.24\tvalid_1's rmse: 4434.67\n",
      "Training until validation scores don't improve for 5 rounds\n",
      "Early stopping, best iteration is:\n",
      "[1405]\ttraining's rmse: 2375.99\tvalid_1's rmse: 11161.8\n",
      "Training until validation scores don't improve for 5 rounds\n",
      "Early stopping, best iteration is:\n",
      "[1837]\ttraining's rmse: 2785.06\tvalid_1's rmse: 6685.77\n"
     ]
    },
    {
     "name": "stderr",
     "output_type": "stream",
     "text": [
      " 11%|█         | 37/339 [08:48<1:48:22, 21.53s/it]"
     ]
    },
    {
     "name": "stdout",
     "output_type": "stream",
     "text": [
      "Training until validation scores don't improve for 5 rounds\n",
      "Early stopping, best iteration is:\n",
      "[284]\ttraining's rmse: 2131.28\tvalid_1's rmse: 2921.78\n",
      "Training until validation scores don't improve for 5 rounds\n",
      "Early stopping, best iteration is:\n",
      "[514]\ttraining's rmse: 2035.22\tvalid_1's rmse: 2259.64\n",
      "Training until validation scores don't improve for 5 rounds\n",
      "Early stopping, best iteration is:\n",
      "[826]\ttraining's rmse: 1884.12\tvalid_1's rmse: 1901.26\n",
      "Training until validation scores don't improve for 5 rounds\n",
      "Early stopping, best iteration is:\n",
      "[827]\ttraining's rmse: 1887.71\tvalid_1's rmse: 1890.75\n",
      "Training until validation scores don't improve for 5 rounds\n",
      "Early stopping, best iteration is:\n",
      "[964]\ttraining's rmse: 1792.36\tvalid_1's rmse: 1514.35\n",
      "Training until validation scores don't improve for 5 rounds\n",
      "Early stopping, best iteration is:\n",
      "[1043]\ttraining's rmse: 1721.67\tvalid_1's rmse: 1452.15\n",
      "Training until validation scores don't improve for 5 rounds\n",
      "Early stopping, best iteration is:\n",
      "[1044]\ttraining's rmse: 1685.26\tvalid_1's rmse: 1847.52\n",
      "Training until validation scores don't improve for 5 rounds\n",
      "Early stopping, best iteration is:\n",
      "[1051]\ttraining's rmse: 1701.98\tvalid_1's rmse: 1672.63\n",
      "Training until validation scores don't improve for 5 rounds\n",
      "Early stopping, best iteration is:\n",
      "[1385]\ttraining's rmse: 1606.36\tvalid_1's rmse: 1940.41\n",
      "Training until validation scores don't improve for 5 rounds\n",
      "Early stopping, best iteration is:\n",
      "[1386]\ttraining's rmse: 1642.21\tvalid_1's rmse: 2567.41\n",
      "Training until validation scores don't improve for 5 rounds\n",
      "Early stopping, best iteration is:\n",
      "[1387]\ttraining's rmse: 1745.22\tvalid_1's rmse: 3872.26\n",
      "Training until validation scores don't improve for 5 rounds\n",
      "Early stopping, best iteration is:\n",
      "[1838]\ttraining's rmse: 1880.8\tvalid_1's rmse: 3654.63\n",
      "Training until validation scores don't improve for 5 rounds\n",
      "Early stopping, best iteration is:\n",
      "[1911]\ttraining's rmse: 1959.57\tvalid_1's rmse: 7040.04\n",
      "Training until validation scores don't improve for 5 rounds\n",
      "Early stopping, best iteration is:\n",
      "[2328]\ttraining's rmse: 2246.57\tvalid_1's rmse: 6527.32\n"
     ]
    },
    {
     "name": "stderr",
     "output_type": "stream",
     "text": [
      " 11%|█         | 38/339 [09:19<2:02:24, 24.40s/it]"
     ]
    },
    {
     "name": "stdout",
     "output_type": "stream",
     "text": [
      "Training until validation scores don't improve for 5 rounds\n",
      "Early stopping, best iteration is:\n",
      "[503]\ttraining's rmse: 4125.46\tvalid_1's rmse: 6440.44\n",
      "Training until validation scores don't improve for 5 rounds\n",
      "Early stopping, best iteration is:\n",
      "[621]\ttraining's rmse: 4839.27\tvalid_1's rmse: 3780.75\n",
      "Training until validation scores don't improve for 5 rounds\n",
      "Early stopping, best iteration is:\n",
      "[668]\ttraining's rmse: 4401.62\tvalid_1's rmse: 4094.34\n",
      "Training until validation scores don't improve for 5 rounds\n",
      "Early stopping, best iteration is:\n",
      "[690]\ttraining's rmse: 4260.49\tvalid_1's rmse: 4740.15\n",
      "Training until validation scores don't improve for 5 rounds\n",
      "Early stopping, best iteration is:\n",
      "[691]\ttraining's rmse: 4355.93\tvalid_1's rmse: 8272.05\n",
      "Training until validation scores don't improve for 5 rounds\n",
      "Early stopping, best iteration is:\n",
      "[1004]\ttraining's rmse: 4428.96\tvalid_1's rmse: 19041.5\n"
     ]
    },
    {
     "name": "stderr",
     "output_type": "stream",
     "text": [
      " 12%|█▏        | 39/339 [09:30<1:41:56, 20.39s/it]"
     ]
    },
    {
     "name": "stdout",
     "output_type": "stream",
     "text": [
      "Training until validation scores don't improve for 5 rounds\n",
      "Early stopping, best iteration is:\n",
      "[301]\ttraining's rmse: 4408.19\tvalid_1's rmse: 2780.98\n",
      "Training until validation scores don't improve for 5 rounds\n",
      "Early stopping, best iteration is:\n",
      "[330]\ttraining's rmse: 3584.96\tvalid_1's rmse: 3390.53\n",
      "Training until validation scores don't improve for 5 rounds\n",
      "Early stopping, best iteration is:\n",
      "[379]\ttraining's rmse: 3333.52\tvalid_1's rmse: 5210.35\n",
      "Training until validation scores don't improve for 5 rounds\n",
      "Early stopping, best iteration is:\n",
      "[381]\ttraining's rmse: 3877.57\tvalid_1's rmse: 17763.3\n"
     ]
    },
    {
     "name": "stderr",
     "output_type": "stream",
     "text": [
      " 12%|█▏        | 40/339 [09:34<1:17:12, 15.49s/it]"
     ]
    },
    {
     "name": "stdout",
     "output_type": "stream",
     "text": [
      "Training until validation scores don't improve for 5 rounds\n",
      "Early stopping, best iteration is:\n",
      "[425]\ttraining's rmse: 3527.01\tvalid_1's rmse: 6663.41\n",
      "Training until validation scores don't improve for 5 rounds\n",
      "Early stopping, best iteration is:\n",
      "[561]\ttraining's rmse: 4233.87\tvalid_1's rmse: 5078.23\n",
      "Training until validation scores don't improve for 5 rounds\n",
      "Early stopping, best iteration is:\n",
      "[813]\ttraining's rmse: 3838.43\tvalid_1's rmse: 3468.81\n",
      "Training until validation scores don't improve for 5 rounds\n",
      "Early stopping, best iteration is:\n",
      "[835]\ttraining's rmse: 3663.52\tvalid_1's rmse: 3957.09\n",
      "Training until validation scores don't improve for 5 rounds\n",
      "Early stopping, best iteration is:\n",
      "[938]\ttraining's rmse: 3516.88\tvalid_1's rmse: 4435.73\n",
      "Training until validation scores don't improve for 5 rounds\n",
      "Early stopping, best iteration is:\n",
      "[939]\ttraining's rmse: 3683.46\tvalid_1's rmse: 6642.37\n",
      "Training until validation scores don't improve for 5 rounds\n",
      "Early stopping, best iteration is:\n",
      "[947]\ttraining's rmse: 4196.21\tvalid_1's rmse: 9089.68\n",
      "Training until validation scores don't improve for 5 rounds\n",
      "Early stopping, best iteration is:\n",
      "[1393]\ttraining's rmse: 3986.26\tvalid_1's rmse: 16486.6\n"
     ]
    },
    {
     "name": "stderr",
     "output_type": "stream",
     "text": [
      " 12%|█▏        | 41/339 [09:49<1:17:21, 15.57s/it]"
     ]
    },
    {
     "name": "stdout",
     "output_type": "stream",
     "text": [
      "Training until validation scores don't improve for 5 rounds\n",
      "Early stopping, best iteration is:\n",
      "[775]\ttraining's rmse: 3532.12\tvalid_1's rmse: 3743.49\n",
      "Training until validation scores don't improve for 5 rounds\n",
      "Early stopping, best iteration is:\n",
      "[776]\ttraining's rmse: 3627.56\tvalid_1's rmse: 17706.4\n"
     ]
    },
    {
     "name": "stderr",
     "output_type": "stream",
     "text": [
      " 12%|█▏        | 42/339 [09:53<59:19, 11.99s/it]  "
     ]
    },
    {
     "name": "stdout",
     "output_type": "stream",
     "text": [
      "Training until validation scores don't improve for 5 rounds\n",
      "Early stopping, best iteration is:\n",
      "[636]\ttraining's rmse: 1074.72\tvalid_1's rmse: 5873.49\n",
      "Training until validation scores don't improve for 5 rounds\n",
      "Early stopping, best iteration is:\n",
      "[1068]\ttraining's rmse: 1304.81\tvalid_1's rmse: 6492.38\n"
     ]
    },
    {
     "name": "stderr",
     "output_type": "stream",
     "text": [
      " 13%|█▎        | 43/339 [09:59<50:47, 10.30s/it]"
     ]
    },
    {
     "name": "stdout",
     "output_type": "stream",
     "text": [
      "Training until validation scores don't improve for 5 rounds\n",
      "Early stopping, best iteration is:\n",
      "[418]\ttraining's rmse: 1612.56\tvalid_1's rmse: 2765.32\n",
      "Training until validation scores don't improve for 5 rounds\n",
      "Early stopping, best iteration is:\n",
      "[719]\ttraining's rmse: 1734.68\tvalid_1's rmse: 1884.12\n",
      "Training until validation scores don't improve for 5 rounds\n",
      "Early stopping, best iteration is:\n",
      "[724]\ttraining's rmse: 1779.05\tvalid_1's rmse: 1939.56\n",
      "Training until validation scores don't improve for 5 rounds\n",
      "Early stopping, best iteration is:\n",
      "[825]\ttraining's rmse: 1704.26\tvalid_1's rmse: 1706.63\n",
      "Training until validation scores don't improve for 5 rounds\n",
      "Early stopping, best iteration is:\n",
      "[855]\ttraining's rmse: 1660.06\tvalid_1's rmse: 1814.12\n",
      "Training until validation scores don't improve for 5 rounds\n",
      "Early stopping, best iteration is:\n",
      "[1132]\ttraining's rmse: 1528.62\tvalid_1's rmse: 1662.71\n",
      "Training until validation scores don't improve for 5 rounds\n",
      "Early stopping, best iteration is:\n",
      "[1485]\ttraining's rmse: 1471.19\tvalid_1's rmse: 1886.53\n",
      "Training until validation scores don't improve for 5 rounds\n",
      "Early stopping, best iteration is:\n",
      "[1563]\ttraining's rmse: 1493.97\tvalid_1's rmse: 2116.96\n",
      "Training until validation scores don't improve for 5 rounds\n",
      "Early stopping, best iteration is:\n",
      "[1564]\ttraining's rmse: 1574.28\tvalid_1's rmse: 4444.81\n",
      "Training until validation scores don't improve for 5 rounds\n",
      "Early stopping, best iteration is:\n",
      "[2138]\ttraining's rmse: 1732.64\tvalid_1's rmse: 4730.39\n",
      "Training until validation scores don't improve for 5 rounds\n",
      "Early stopping, best iteration is:\n",
      "[2551]\ttraining's rmse: 1933.58\tvalid_1's rmse: 10519.8\n"
     ]
    },
    {
     "name": "stderr",
     "output_type": "stream",
     "text": [
      " 13%|█▎        | 44/339 [10:32<1:23:13, 16.93s/it]"
     ]
    },
    {
     "name": "stdout",
     "output_type": "stream",
     "text": [
      "Training until validation scores don't improve for 5 rounds\n",
      "Early stopping, best iteration is:\n",
      "[674]\ttraining's rmse: 1545.85\tvalid_1's rmse: 2339.38\n",
      "Training until validation scores don't improve for 5 rounds\n",
      "Early stopping, best iteration is:\n",
      "[818]\ttraining's rmse: 1733.49\tvalid_1's rmse: 1479.21\n",
      "Training until validation scores don't improve for 5 rounds\n",
      "Early stopping, best iteration is:\n",
      "[892]\ttraining's rmse: 1552.83\tvalid_1's rmse: 1491.34\n",
      "Training until validation scores don't improve for 5 rounds\n",
      "Early stopping, best iteration is:\n",
      "[1090]\ttraining's rmse: 1415.44\tvalid_1's rmse: 1659.29\n",
      "Training until validation scores don't improve for 5 rounds\n",
      "Early stopping, best iteration is:\n",
      "[1091]\ttraining's rmse: 1466.7\tvalid_1's rmse: 1961.7\n",
      "Training until validation scores don't improve for 5 rounds\n",
      "Early stopping, best iteration is:\n",
      "[1092]\ttraining's rmse: 1558.23\tvalid_1's rmse: 4794.74\n",
      "Training until validation scores don't improve for 5 rounds\n",
      "Early stopping, best iteration is:\n",
      "[1468]\ttraining's rmse: 1695.7\tvalid_1's rmse: 9246.41\n"
     ]
    },
    {
     "name": "stderr",
     "output_type": "stream",
     "text": [
      " 13%|█▎        | 45/339 [10:49<1:23:58, 17.14s/it]"
     ]
    },
    {
     "name": "stdout",
     "output_type": "stream",
     "text": [
      "Training until validation scores don't improve for 5 rounds\n",
      "Early stopping, best iteration is:\n",
      "[336]\ttraining's rmse: 1859.65\tvalid_1's rmse: 1532.11\n",
      "Training until validation scores don't improve for 5 rounds\n",
      "Early stopping, best iteration is:\n",
      "[648]\ttraining's rmse: 1180.11\tvalid_1's rmse: 6877.98\n"
     ]
    },
    {
     "name": "stderr",
     "output_type": "stream",
     "text": [
      " 14%|█▎        | 46/339 [10:54<1:04:56, 13.30s/it]"
     ]
    },
    {
     "name": "stdout",
     "output_type": "stream",
     "text": [
      "Training until validation scores don't improve for 5 rounds\n",
      "Early stopping, best iteration is:\n",
      "[518]\ttraining's rmse: 1400.59\tvalid_1's rmse: 2073.63\n",
      "Training until validation scores don't improve for 5 rounds\n",
      "Early stopping, best iteration is:\n",
      "[519]\ttraining's rmse: 1762.92\tvalid_1's rmse: 2374.18\n",
      "Training until validation scores don't improve for 5 rounds\n",
      "Early stopping, best iteration is:\n",
      "[527]\ttraining's rmse: 1947.72\tvalid_1's rmse: 2315.29\n",
      "Training until validation scores don't improve for 5 rounds\n",
      "Early stopping, best iteration is:\n",
      "[1589]\ttraining's rmse: 1461.7\tvalid_1's rmse: 1839.94\n",
      "Training until validation scores don't improve for 5 rounds\n",
      "Early stopping, best iteration is:\n",
      "[1675]\ttraining's rmse: 1515.45\tvalid_1's rmse: 1419.66\n",
      "Training until validation scores don't improve for 5 rounds\n",
      "Early stopping, best iteration is:\n",
      "[1696]\ttraining's rmse: 1489.77\tvalid_1's rmse: 1470.54\n",
      "Training until validation scores don't improve for 5 rounds\n",
      "Early stopping, best iteration is:\n",
      "[1758]\ttraining's rmse: 1464.05\tvalid_1's rmse: 1351.33\n",
      "Training until validation scores don't improve for 5 rounds\n",
      "Early stopping, best iteration is:\n",
      "[1780]\ttraining's rmse: 1439.55\tvalid_1's rmse: 1425.87\n",
      "Training until validation scores don't improve for 5 rounds\n",
      "Early stopping, best iteration is:\n",
      "[1891]\ttraining's rmse: 1398.56\tvalid_1's rmse: 1344.69\n",
      "Training until validation scores don't improve for 5 rounds\n",
      "Early stopping, best iteration is:\n",
      "[1900]\ttraining's rmse: 1390.61\tvalid_1's rmse: 1691.32\n",
      "Training until validation scores don't improve for 5 rounds\n",
      "Early stopping, best iteration is:\n",
      "[1901]\ttraining's rmse: 1419.73\tvalid_1's rmse: 1456.85\n",
      "Training until validation scores don't improve for 5 rounds\n",
      "Early stopping, best iteration is:\n",
      "[1929]\ttraining's rmse: 1408.41\tvalid_1's rmse: 1548.96\n",
      "Training until validation scores don't improve for 5 rounds\n",
      "Early stopping, best iteration is:\n",
      "[1930]\ttraining's rmse: 1419.11\tvalid_1's rmse: 1896.49\n",
      "Training until validation scores don't improve for 5 rounds\n",
      "Early stopping, best iteration is:\n",
      "[2051]\ttraining's rmse: 1416.17\tvalid_1's rmse: 1708.76\n",
      "Training until validation scores don't improve for 5 rounds\n",
      "Early stopping, best iteration is:\n",
      "[2271]\ttraining's rmse: 1393.38\tvalid_1's rmse: 1936.69\n",
      "Training until validation scores don't improve for 5 rounds\n",
      "Early stopping, best iteration is:\n",
      "[2313]\ttraining's rmse: 1415.97\tvalid_1's rmse: 2480.86\n",
      "Training until validation scores don't improve for 5 rounds\n",
      "Early stopping, best iteration is:\n",
      "[2314]\ttraining's rmse: 1498.48\tvalid_1's rmse: 5091.62\n",
      "Training until validation scores don't improve for 5 rounds\n",
      "Early stopping, best iteration is:\n",
      "[2787]\ttraining's rmse: 1665.83\tvalid_1's rmse: 3524.47\n",
      "Training until validation scores don't improve for 5 rounds\n",
      "Early stopping, best iteration is:\n",
      "[3044]\ttraining's rmse: 1702.11\tvalid_1's rmse: 3824.12\n",
      "Training until validation scores don't improve for 5 rounds\n",
      "Early stopping, best iteration is:\n",
      "[3119]\ttraining's rmse: 1779.18\tvalid_1's rmse: 5565.28\n",
      "Training until validation scores don't improve for 5 rounds\n",
      "Early stopping, best iteration is:\n",
      "[3579]\ttraining's rmse: 1874.14\tvalid_1's rmse: 5655.61\n",
      "Training until validation scores don't improve for 5 rounds\n",
      "Early stopping, best iteration is:\n",
      "[3763]\ttraining's rmse: 2040.53\tvalid_1's rmse: 4743.3\n"
     ]
    },
    {
     "name": "stderr",
     "output_type": "stream",
     "text": [
      " 14%|█▍        | 48/339 [12:12<2:01:56, 25.14s/it]"
     ]
    },
    {
     "name": "stdout",
     "output_type": "stream",
     "text": [
      "Training until validation scores don't improve for 5 rounds\n",
      "Early stopping, best iteration is:\n",
      "[365]\ttraining's rmse: 1607.23\tvalid_1's rmse: 1912.26\n",
      "Training until validation scores don't improve for 5 rounds\n",
      "Early stopping, best iteration is:\n",
      "[799]\ttraining's rmse: 1448.93\tvalid_1's rmse: 1545.95\n",
      "Training until validation scores don't improve for 5 rounds\n",
      "Early stopping, best iteration is:\n",
      "[955]\ttraining's rmse: 1351.96\tvalid_1's rmse: 1593.6\n",
      "Training until validation scores don't improve for 5 rounds\n",
      "Early stopping, best iteration is:\n",
      "[1058]\ttraining's rmse: 1342.21\tvalid_1's rmse: 3928.46\n",
      "Training until validation scores don't improve for 5 rounds\n",
      "Early stopping, best iteration is:\n",
      "[1453]\ttraining's rmse: 1412.74\tvalid_1's rmse: 6528.6\n"
     ]
    },
    {
     "name": "stderr",
     "output_type": "stream",
     "text": [
      " 14%|█▍        | 49/339 [12:26<1:48:23, 22.43s/it]"
     ]
    },
    {
     "name": "stdout",
     "output_type": "stream",
     "text": [
      "Training until validation scores don't improve for 5 rounds\n",
      "Early stopping, best iteration is:\n",
      "[452]\ttraining's rmse: 996.887\tvalid_1's rmse: 3863.05\n",
      "Training until validation scores don't improve for 5 rounds\n",
      "Early stopping, best iteration is:\n",
      "[766]\ttraining's rmse: 1278.32\tvalid_1's rmse: 18106\n"
     ]
    },
    {
     "name": "stderr",
     "output_type": "stream",
     "text": [
      " 15%|█▍        | 50/339 [12:31<1:26:11, 17.89s/it]"
     ]
    },
    {
     "name": "stdout",
     "output_type": "stream",
     "text": [
      "Training until validation scores don't improve for 5 rounds\n",
      "Early stopping, best iteration is:\n",
      "[315]\ttraining's rmse: 1751.66\tvalid_1's rmse: 1742.41\n",
      "Training until validation scores don't improve for 5 rounds\n",
      "Early stopping, best iteration is:\n",
      "[593]\ttraining's rmse: 1425.24\tvalid_1's rmse: 1448.04\n",
      "Training until validation scores don't improve for 5 rounds\n",
      "Early stopping, best iteration is:\n",
      "[618]\ttraining's rmse: 1395.68\tvalid_1's rmse: 1633.84\n",
      "Training until validation scores don't improve for 5 rounds\n",
      "Early stopping, best iteration is:\n",
      "[890]\ttraining's rmse: 1282.5\tvalid_1's rmse: 5001.7\n",
      "Training until validation scores don't improve for 5 rounds\n",
      "Early stopping, best iteration is:\n",
      "[1347]\ttraining's rmse: 1313.75\tvalid_1's rmse: 6928.95\n",
      "Training until validation scores don't improve for 5 rounds\n",
      "Early stopping, best iteration is:\n",
      "[1748]\ttraining's rmse: 1553.3\tvalid_1's rmse: 9031.25\n"
     ]
    },
    {
     "name": "stderr",
     "output_type": "stream",
     "text": [
      " 15%|█▌        | 51/339 [12:50<1:27:09, 18.16s/it]"
     ]
    },
    {
     "name": "stdout",
     "output_type": "stream",
     "text": [
      "Training until validation scores don't improve for 5 rounds\n",
      "Early stopping, best iteration is:\n",
      "[424]\ttraining's rmse: 2242.71\tvalid_1's rmse: 2157.03\n",
      "Training until validation scores don't improve for 5 rounds\n",
      "Early stopping, best iteration is:\n",
      "[658]\ttraining's rmse: 1710.49\tvalid_1's rmse: 10667.2\n"
     ]
    },
    {
     "name": "stderr",
     "output_type": "stream",
     "text": [
      " 15%|█▌        | 52/339 [12:55<1:08:51, 14.40s/it]"
     ]
    },
    {
     "name": "stdout",
     "output_type": "stream",
     "text": [
      "Training until validation scores don't improve for 5 rounds\n",
      "Early stopping, best iteration is:\n",
      "[555]\ttraining's rmse: 2250.82\tvalid_1's rmse: 3471.4\n",
      "Training until validation scores don't improve for 5 rounds\n",
      "Early stopping, best iteration is:\n",
      "[704]\ttraining's rmse: 2583.11\tvalid_1's rmse: 2791.74\n",
      "Training until validation scores don't improve for 5 rounds\n",
      "Early stopping, best iteration is:\n",
      "[2289]\ttraining's rmse: 2086.14\tvalid_1's rmse: 2782.2\n",
      "Training until validation scores don't improve for 5 rounds\n",
      "Early stopping, best iteration is:\n",
      "[2367]\ttraining's rmse: 2188.23\tvalid_1's rmse: 2724.05\n",
      "Training until validation scores don't improve for 5 rounds\n",
      "Early stopping, best iteration is:\n",
      "[2513]\ttraining's rmse: 2157.76\tvalid_1's rmse: 3441.04\n",
      "Training until validation scores don't improve for 5 rounds\n",
      "Early stopping, best iteration is:\n",
      "[2514]\ttraining's rmse: 2416.16\tvalid_1's rmse: 10005.3\n",
      "Training until validation scores don't improve for 5 rounds\n",
      "Early stopping, best iteration is:\n",
      "[2860]\ttraining's rmse: 3193.34\tvalid_1's rmse: 9963.42\n"
     ]
    },
    {
     "name": "stderr",
     "output_type": "stream",
     "text": [
      " 16%|█▌        | 54/339 [13:25<1:10:29, 14.84s/it]"
     ]
    },
    {
     "name": "stdout",
     "output_type": "stream",
     "text": [
      "Training until validation scores don't improve for 5 rounds\n",
      "Early stopping, best iteration is:\n",
      "[668]\ttraining's rmse: 3185.06\tvalid_1's rmse: 4606.88\n",
      "Training until validation scores don't improve for 5 rounds\n",
      "Early stopping, best iteration is:\n",
      "[2254]\ttraining's rmse: 2068.91\tvalid_1's rmse: 28650.2\n"
     ]
    },
    {
     "name": "stderr",
     "output_type": "stream",
     "text": [
      " 16%|█▌        | 55/339 [13:34<1:03:30, 13.42s/it]"
     ]
    },
    {
     "name": "stdout",
     "output_type": "stream",
     "text": [
      "Training until validation scores don't improve for 5 rounds\n",
      "Early stopping, best iteration is:\n",
      "[520]\ttraining's rmse: 1303.34\tvalid_1's rmse: 1891.88\n",
      "Training until validation scores don't improve for 5 rounds\n",
      "Early stopping, best iteration is:\n",
      "[661]\ttraining's rmse: 1298\tvalid_1's rmse: 11828.9\n"
     ]
    },
    {
     "name": "stderr",
     "output_type": "stream",
     "text": [
      " 17%|█▋        | 56/339 [13:40<54:21, 11.52s/it]  "
     ]
    },
    {
     "name": "stdout",
     "output_type": "stream",
     "text": [
      "Training until validation scores don't improve for 5 rounds\n",
      "Early stopping, best iteration is:\n",
      "[412]\ttraining's rmse: 1321.68\tvalid_1's rmse: 2453.6\n",
      "Training until validation scores don't improve for 5 rounds\n",
      "Early stopping, best iteration is:\n",
      "[594]\ttraining's rmse: 1659.84\tvalid_1's rmse: 1528.37\n",
      "Training until validation scores don't improve for 5 rounds\n",
      "Early stopping, best iteration is:\n",
      "[714]\ttraining's rmse: 1552.28\tvalid_1's rmse: 1556.71\n",
      "Training until validation scores don't improve for 5 rounds\n",
      "Early stopping, best iteration is:\n",
      "[727]\ttraining's rmse: 1542.42\tvalid_1's rmse: 1312.86\n",
      "Training until validation scores don't improve for 5 rounds\n",
      "Early stopping, best iteration is:\n",
      "[2026]\ttraining's rmse: 1304.49\tvalid_1's rmse: 1912.75\n",
      "Training until validation scores don't improve for 5 rounds\n",
      "Early stopping, best iteration is:\n",
      "[2149]\ttraining's rmse: 1350.71\tvalid_1's rmse: 1919.95\n",
      "Training until validation scores don't improve for 5 rounds\n",
      "Early stopping, best iteration is:\n",
      "[2306]\ttraining's rmse: 1322.48\tvalid_1's rmse: 1988.23\n",
      "Training until validation scores don't improve for 5 rounds\n",
      "Early stopping, best iteration is:\n",
      "[2471]\ttraining's rmse: 1324.53\tvalid_1's rmse: 2216.62\n",
      "Training until validation scores don't improve for 5 rounds\n",
      "Early stopping, best iteration is:\n",
      "[2568]\ttraining's rmse: 1380.39\tvalid_1's rmse: 3574.79\n",
      "Training until validation scores don't improve for 5 rounds\n",
      "Early stopping, best iteration is:\n",
      "[2967]\ttraining's rmse: 1463.12\tvalid_1's rmse: 4428.49\n",
      "Training until validation scores don't improve for 5 rounds\n",
      "Early stopping, best iteration is:\n",
      "[3348]\ttraining's rmse: 1643.97\tvalid_1's rmse: 6817.14\n"
     ]
    },
    {
     "name": "stderr",
     "output_type": "stream",
     "text": [
      " 17%|█▋        | 57/339 [14:25<1:36:03, 20.44s/it]"
     ]
    },
    {
     "name": "stdout",
     "output_type": "stream",
     "text": [
      "Training until validation scores don't improve for 5 rounds\n",
      "Early stopping, best iteration is:\n",
      "[425]\ttraining's rmse: 1490.84\tvalid_1's rmse: 2778.62\n",
      "Training until validation scores don't improve for 5 rounds\n",
      "Early stopping, best iteration is:\n",
      "[918]\ttraining's rmse: 1658.06\tvalid_1's rmse: 3765.88\n",
      "Training until validation scores don't improve for 5 rounds\n",
      "Early stopping, best iteration is:\n",
      "[1323]\ttraining's rmse: 1851.41\tvalid_1's rmse: 2219.13\n",
      "Training until validation scores don't improve for 5 rounds\n",
      "Early stopping, best iteration is:\n",
      "[1535]\ttraining's rmse: 1825.73\tvalid_1's rmse: 1601.33\n",
      "Training until validation scores don't improve for 5 rounds\n",
      "Early stopping, best iteration is:\n",
      "[1648]\ttraining's rmse: 1735.04\tvalid_1's rmse: 1761.9\n",
      "Training until validation scores don't improve for 5 rounds\n",
      "Early stopping, best iteration is:\n",
      "[2097]\ttraining's rmse: 1623.08\tvalid_1's rmse: 1775.32\n",
      "Training until validation scores don't improve for 5 rounds\n",
      "Early stopping, best iteration is:\n",
      "[2497]\ttraining's rmse: 1556.21\tvalid_1's rmse: 1354.52\n",
      "Training until validation scores don't improve for 5 rounds\n",
      "Early stopping, best iteration is:\n",
      "[2498]\ttraining's rmse: 1532.09\tvalid_1's rmse: 1711.34\n",
      "Training until validation scores don't improve for 5 rounds\n",
      "Early stopping, best iteration is:\n",
      "[2526]\ttraining's rmse: 1538.91\tvalid_1's rmse: 1551.79\n",
      "Training until validation scores don't improve for 5 rounds\n",
      "Early stopping, best iteration is:\n",
      "[2873]\ttraining's rmse: 1463.56\tvalid_1's rmse: 1539.75\n",
      "Training until validation scores don't improve for 5 rounds\n",
      "Early stopping, best iteration is:\n",
      "[2913]\ttraining's rmse: 1461.64\tvalid_1's rmse: 1836.55\n",
      "Training until validation scores don't improve for 5 rounds\n",
      "Early stopping, best iteration is:\n",
      "[3057]\ttraining's rmse: 1460.41\tvalid_1's rmse: 3364.14\n",
      "Training until validation scores don't improve for 5 rounds\n",
      "Early stopping, best iteration is:\n",
      "[3364]\ttraining's rmse: 1560.67\tvalid_1's rmse: 3117.3\n",
      "Training until validation scores don't improve for 5 rounds\n",
      "Early stopping, best iteration is:\n",
      "[3365]\ttraining's rmse: 1717.31\tvalid_1's rmse: 6313.91\n",
      "Training until validation scores don't improve for 5 rounds\n",
      "Early stopping, best iteration is:\n",
      "[3847]\ttraining's rmse: 1960.41\tvalid_1's rmse: 6301.96\n"
     ]
    },
    {
     "name": "stderr",
     "output_type": "stream",
     "text": [
      " 17%|█▋        | 58/339 [15:24<2:25:32, 31.08s/it]"
     ]
    },
    {
     "name": "stdout",
     "output_type": "stream",
     "text": [
      "Training until validation scores don't improve for 5 rounds\n",
      "Early stopping, best iteration is:\n",
      "[384]\ttraining's rmse: 1389.92\tvalid_1's rmse: 1891.05\n",
      "Training until validation scores don't improve for 5 rounds\n",
      "Early stopping, best iteration is:\n",
      "[736]\ttraining's rmse: 1278.56\tvalid_1's rmse: 1781.36\n",
      "Training until validation scores don't improve for 5 rounds\n",
      "Early stopping, best iteration is:\n",
      "[744]\ttraining's rmse: 1452.32\tvalid_1's rmse: 2703.87\n",
      "Training until validation scores don't improve for 5 rounds\n",
      "Early stopping, best iteration is:\n",
      "[745]\ttraining's rmse: 1837.07\tvalid_1's rmse: 2446.79\n",
      "Training until validation scores don't improve for 5 rounds\n",
      "Early stopping, best iteration is:\n",
      "[746]\ttraining's rmse: 1969.86\tvalid_1's rmse: 3906.87\n",
      "Training until validation scores don't improve for 5 rounds\n",
      "Early stopping, best iteration is:\n",
      "[821]\ttraining's rmse: 2221.11\tvalid_1's rmse: 1987.57\n",
      "Training until validation scores don't improve for 5 rounds\n",
      "Early stopping, best iteration is:\n",
      "[970]\ttraining's rmse: 2059.91\tvalid_1's rmse: 2686.54\n",
      "Training until validation scores don't improve for 5 rounds\n",
      "Early stopping, best iteration is:\n",
      "[1234]\ttraining's rmse: 2015.9\tvalid_1's rmse: 2500.46\n",
      "Training until validation scores don't improve for 5 rounds\n",
      "Early stopping, best iteration is:\n",
      "[1235]\ttraining's rmse: 2074.04\tvalid_1's rmse: 1755.8\n",
      "Training until validation scores don't improve for 5 rounds\n",
      "Early stopping, best iteration is:\n",
      "[1363]\ttraining's rmse: 2000.88\tvalid_1's rmse: 1514.97\n",
      "Training until validation scores don't improve for 5 rounds\n",
      "Early stopping, best iteration is:\n",
      "[1398]\ttraining's rmse: 1954.45\tvalid_1's rmse: 1487.25\n",
      "Training until validation scores don't improve for 5 rounds\n",
      "Early stopping, best iteration is:\n",
      "[1522]\ttraining's rmse: 1896.89\tvalid_1's rmse: 1616.04\n",
      "Training until validation scores don't improve for 5 rounds\n",
      "Early stopping, best iteration is:\n",
      "[1523]\ttraining's rmse: 1876.61\tvalid_1's rmse: 1500.19\n",
      "Training until validation scores don't improve for 5 rounds\n",
      "Early stopping, best iteration is:\n",
      "[2306]\ttraining's rmse: 1768.86\tvalid_1's rmse: 1391.6\n",
      "Training until validation scores don't improve for 5 rounds\n",
      "Early stopping, best iteration is:\n",
      "[2360]\ttraining's rmse: 1740\tvalid_1's rmse: 1348.24\n",
      "Training until validation scores don't improve for 5 rounds\n",
      "Early stopping, best iteration is:\n",
      "[2361]\ttraining's rmse: 1718.03\tvalid_1's rmse: 1335.95\n",
      "Training until validation scores don't improve for 5 rounds\n",
      "Early stopping, best iteration is:\n",
      "[2415]\ttraining's rmse: 1692.2\tvalid_1's rmse: 1335.66\n",
      "Training until validation scores don't improve for 5 rounds\n",
      "Early stopping, best iteration is:\n",
      "[2618]\ttraining's rmse: 1656.44\tvalid_1's rmse: 1262.4\n",
      "Training until validation scores don't improve for 5 rounds\n",
      "Early stopping, best iteration is:\n",
      "[2673]\ttraining's rmse: 1633.94\tvalid_1's rmse: 1332.3\n",
      "Training until validation scores don't improve for 5 rounds\n",
      "Early stopping, best iteration is:\n",
      "[2695]\ttraining's rmse: 1617.62\tvalid_1's rmse: 1505.34\n",
      "Training until validation scores don't improve for 5 rounds\n",
      "Early stopping, best iteration is:\n",
      "[2758]\ttraining's rmse: 1601.83\tvalid_1's rmse: 1265.84\n",
      "Training until validation scores don't improve for 5 rounds\n",
      "Early stopping, best iteration is:\n",
      "[2767]\ttraining's rmse: 1587.17\tvalid_1's rmse: 1345.02\n",
      "Training until validation scores don't improve for 5 rounds\n",
      "Early stopping, best iteration is:\n",
      "[2928]\ttraining's rmse: 1564.33\tvalid_1's rmse: 1671.06\n",
      "Training until validation scores don't improve for 5 rounds\n",
      "Early stopping, best iteration is:\n",
      "[3289]\ttraining's rmse: 1546.18\tvalid_1's rmse: 1893.91\n",
      "Training until validation scores don't improve for 5 rounds\n",
      "Early stopping, best iteration is:\n",
      "[3290]\ttraining's rmse: 1561.38\tvalid_1's rmse: 1542.97\n",
      "Training until validation scores don't improve for 5 rounds\n",
      "Early stopping, best iteration is:\n",
      "[3340]\ttraining's rmse: 1549.62\tvalid_1's rmse: 1374.72\n",
      "Training until validation scores don't improve for 5 rounds\n",
      "Early stopping, best iteration is:\n",
      "[3341]\ttraining's rmse: 1543.36\tvalid_1's rmse: 1626.6\n",
      "Training until validation scores don't improve for 5 rounds\n",
      "Early stopping, best iteration is:\n",
      "[3557]\ttraining's rmse: 1528.3\tvalid_1's rmse: 2731.47\n",
      "Training until validation scores don't improve for 5 rounds\n",
      "Early stopping, best iteration is:\n",
      "[3664]\ttraining's rmse: 1566.27\tvalid_1's rmse: 1709.42\n",
      "Training until validation scores don't improve for 5 rounds\n",
      "Early stopping, best iteration is:\n",
      "[3843]\ttraining's rmse: 1555.56\tvalid_1's rmse: 1883.72\n",
      "Training until validation scores don't improve for 5 rounds\n",
      "Early stopping, best iteration is:\n",
      "[4149]\ttraining's rmse: 1545.14\tvalid_1's rmse: 3412.4\n",
      "Training until validation scores don't improve for 5 rounds\n",
      "Early stopping, best iteration is:\n",
      "[4510]\ttraining's rmse: 1593.39\tvalid_1's rmse: 2876.36\n",
      "Training until validation scores don't improve for 5 rounds\n",
      "Early stopping, best iteration is:\n",
      "[4568]\ttraining's rmse: 1636.03\tvalid_1's rmse: 2044.33\n",
      "Training until validation scores don't improve for 5 rounds\n",
      "Early stopping, best iteration is:\n",
      "[4614]\ttraining's rmse: 1642.77\tvalid_1's rmse: 2183.85\n",
      "Training until validation scores don't improve for 5 rounds\n",
      "Early stopping, best iteration is:\n",
      "[4895]\ttraining's rmse: 1635.15\tvalid_1's rmse: 4423.24\n",
      "Training until validation scores don't improve for 5 rounds\n",
      "Early stopping, best iteration is:\n",
      "[4905]\ttraining's rmse: 1765.87\tvalid_1's rmse: 2623.83\n",
      "Training until validation scores don't improve for 5 rounds\n",
      "Early stopping, best iteration is:\n",
      "[5021]\ttraining's rmse: 1753.64\tvalid_1's rmse: 2678.46\n",
      "Training until validation scores don't improve for 5 rounds\n",
      "Early stopping, best iteration is:\n",
      "[5377]\ttraining's rmse: 1744.87\tvalid_1's rmse: 3649.72\n",
      "Training until validation scores don't improve for 5 rounds\n",
      "Early stopping, best iteration is:\n",
      "[5485]\ttraining's rmse: 1784.79\tvalid_1's rmse: 3012.58\n",
      "Training until validation scores don't improve for 5 rounds\n",
      "Early stopping, best iteration is:\n",
      "[5877]\ttraining's rmse: 1782.01\tvalid_1's rmse: 3843.01\n",
      "Training until validation scores don't improve for 5 rounds\n",
      "Early stopping, best iteration is:\n",
      "[6217]\ttraining's rmse: 1806.37\tvalid_1's rmse: 8145.72\n",
      "Training until validation scores don't improve for 5 rounds\n",
      "Early stopping, best iteration is:\n",
      "[6754]\ttraining's rmse: 2028.2\tvalid_1's rmse: 8450.9\n",
      "Training until validation scores don't improve for 5 rounds\n",
      "Early stopping, best iteration is:\n",
      "[6911]\ttraining's rmse: 2280.06\tvalid_1's rmse: 7103.56\n",
      "Training until validation scores don't improve for 5 rounds\n",
      "Early stopping, best iteration is:\n",
      "[7100]\ttraining's rmse: 2367.05\tvalid_1's rmse: 6411.8\n"
     ]
    },
    {
     "name": "stderr",
     "output_type": "stream",
     "text": [
      " 17%|█▋        | 59/339 [20:03<7:52:50, 101.32s/it]"
     ]
    },
    {
     "name": "stdout",
     "output_type": "stream",
     "text": [
      "Training until validation scores don't improve for 5 rounds\n",
      "Early stopping, best iteration is:\n",
      "[579]\ttraining's rmse: 2809.72\tvalid_1's rmse: 2995.78\n",
      "Training until validation scores don't improve for 5 rounds\n",
      "Early stopping, best iteration is:\n",
      "[918]\ttraining's rmse: 2560.98\tvalid_1's rmse: 3248.98\n",
      "Training until validation scores don't improve for 5 rounds\n",
      "Early stopping, best iteration is:\n",
      "[1323]\ttraining's rmse: 2442.44\tvalid_1's rmse: 3020.85\n",
      "Training until validation scores don't improve for 5 rounds\n",
      "Early stopping, best iteration is:\n",
      "[1480]\ttraining's rmse: 2389.04\tvalid_1's rmse: 1750.53\n",
      "Training until validation scores don't improve for 5 rounds\n",
      "Early stopping, best iteration is:\n",
      "[1614]\ttraining's rmse: 2221.15\tvalid_1's rmse: 1788.48\n",
      "Training until validation scores don't improve for 5 rounds\n",
      "Early stopping, best iteration is:\n",
      "[2046]\ttraining's rmse: 2039.69\tvalid_1's rmse: 1272.13\n",
      "Training until validation scores don't improve for 5 rounds\n",
      "Early stopping, best iteration is:\n",
      "[2091]\ttraining's rmse: 1939.38\tvalid_1's rmse: 1367.18\n",
      "Training until validation scores don't improve for 5 rounds\n",
      "Early stopping, best iteration is:\n",
      "[2092]\ttraining's rmse: 1877.09\tvalid_1's rmse: 1574.62\n",
      "Training until validation scores don't improve for 5 rounds\n",
      "Early stopping, best iteration is:\n",
      "[2096]\ttraining's rmse: 1842.53\tvalid_1's rmse: 1570.42\n",
      "Training until validation scores don't improve for 5 rounds\n",
      "Early stopping, best iteration is:\n",
      "[2236]\ttraining's rmse: 1771.53\tvalid_1's rmse: 1619.39\n",
      "Training until validation scores don't improve for 5 rounds\n",
      "Early stopping, best iteration is:\n",
      "[2364]\ttraining's rmse: 1723.51\tvalid_1's rmse: 2221.57\n",
      "Training until validation scores don't improve for 5 rounds\n",
      "Early stopping, best iteration is:\n",
      "[2365]\ttraining's rmse: 1769.32\tvalid_1's rmse: 2143.29\n",
      "Training until validation scores don't improve for 5 rounds\n",
      "Early stopping, best iteration is:\n",
      "[2423]\ttraining's rmse: 1773.47\tvalid_1's rmse: 2519.72\n",
      "Training until validation scores don't improve for 5 rounds\n",
      "Early stopping, best iteration is:\n",
      "[2424]\ttraining's rmse: 1835.75\tvalid_1's rmse: 4747.88\n",
      "Training until validation scores don't improve for 5 rounds\n",
      "Early stopping, best iteration is:\n",
      "[3288]\ttraining's rmse: 1936.31\tvalid_1's rmse: 4630.4\n",
      "Training until validation scores don't improve for 5 rounds\n",
      "Early stopping, best iteration is:\n",
      "[3540]\ttraining's rmse: 2020.24\tvalid_1's rmse: 9186.65\n",
      "Training until validation scores don't improve for 5 rounds\n",
      "Early stopping, best iteration is:\n",
      "[4070]\ttraining's rmse: 2289.67\tvalid_1's rmse: 6951.66\n"
     ]
    },
    {
     "name": "stderr",
     "output_type": "stream",
     "text": [
      " 18%|█▊        | 60/339 [21:02<6:54:57, 89.24s/it] "
     ]
    },
    {
     "name": "stdout",
     "output_type": "stream",
     "text": [
      "Training until validation scores don't improve for 5 rounds\n",
      "Early stopping, best iteration is:\n",
      "[562]\ttraining's rmse: 1632.62\tvalid_1's rmse: 2783.78\n",
      "Training until validation scores don't improve for 5 rounds\n",
      "Early stopping, best iteration is:\n",
      "[617]\ttraining's rmse: 1997.12\tvalid_1's rmse: 3174.28\n",
      "Training until validation scores don't improve for 5 rounds\n",
      "Early stopping, best iteration is:\n",
      "[618]\ttraining's rmse: 2445.98\tvalid_1's rmse: 5069.52\n",
      "Training until validation scores don't improve for 5 rounds\n",
      "Early stopping, best iteration is:\n",
      "[673]\ttraining's rmse: 2903.81\tvalid_1's rmse: 2912.1\n",
      "Training until validation scores don't improve for 5 rounds\n",
      "Early stopping, best iteration is:\n",
      "[1000]\ttraining's rmse: 2415.61\tvalid_1's rmse: 2893.32\n",
      "Training until validation scores don't improve for 5 rounds\n",
      "Early stopping, best iteration is:\n",
      "[1027]\ttraining's rmse: 2452.4\tvalid_1's rmse: 1969.82\n",
      "Training until validation scores don't improve for 5 rounds\n",
      "Early stopping, best iteration is:\n",
      "[1032]\ttraining's rmse: 2383.67\tvalid_1's rmse: 1893.44\n",
      "Training until validation scores don't improve for 5 rounds\n",
      "Early stopping, best iteration is:\n",
      "[1591]\ttraining's rmse: 2133.9\tvalid_1's rmse: 1958.25\n",
      "Training until validation scores don't improve for 5 rounds\n",
      "Early stopping, best iteration is:\n",
      "[1726]\ttraining's rmse: 2087.85\tvalid_1's rmse: 1688.37\n",
      "Training until validation scores don't improve for 5 rounds\n",
      "Early stopping, best iteration is:\n",
      "[1810]\ttraining's rmse: 2031.14\tvalid_1's rmse: 1690.13\n",
      "Training until validation scores don't improve for 5 rounds\n",
      "Early stopping, best iteration is:\n",
      "[2028]\ttraining's rmse: 1967.27\tvalid_1's rmse: 1681.62\n",
      "Training until validation scores don't improve for 5 rounds\n",
      "Early stopping, best iteration is:\n",
      "[2222]\ttraining's rmse: 1923.47\tvalid_1's rmse: 1585.08\n",
      "Training until validation scores don't improve for 5 rounds\n",
      "Early stopping, best iteration is:\n",
      "[2234]\ttraining's rmse: 1896.89\tvalid_1's rmse: 1497.53\n",
      "Training until validation scores don't improve for 5 rounds\n",
      "Early stopping, best iteration is:\n",
      "[2492]\ttraining's rmse: 1837.9\tvalid_1's rmse: 2009.8\n",
      "Training until validation scores don't improve for 5 rounds\n",
      "Early stopping, best iteration is:\n",
      "[2493]\ttraining's rmse: 1849.47\tvalid_1's rmse: 1570.55\n",
      "Training until validation scores don't improve for 5 rounds\n",
      "Early stopping, best iteration is:\n",
      "[2508]\ttraining's rmse: 1826.22\tvalid_1's rmse: 1815.32\n",
      "Training until validation scores don't improve for 5 rounds\n",
      "Early stopping, best iteration is:\n",
      "[2572]\ttraining's rmse: 1803.94\tvalid_1's rmse: 1971.1\n",
      "Training until validation scores don't improve for 5 rounds\n",
      "Early stopping, best iteration is:\n",
      "[2574]\ttraining's rmse: 1812.67\tvalid_1's rmse: 1869.69\n",
      "Training until validation scores don't improve for 5 rounds\n",
      "Early stopping, best iteration is:\n",
      "[2621]\ttraining's rmse: 1798.82\tvalid_1's rmse: 2799.91\n",
      "Training until validation scores don't improve for 5 rounds\n",
      "Early stopping, best iteration is:\n",
      "[2645]\ttraining's rmse: 1844.46\tvalid_1's rmse: 2404.65\n",
      "Training until validation scores don't improve for 5 rounds\n",
      "Early stopping, best iteration is:\n",
      "[2646]\ttraining's rmse: 1874.2\tvalid_1's rmse: 6205.8\n",
      "Training until validation scores don't improve for 5 rounds\n",
      "Early stopping, best iteration is:\n",
      "[2720]\ttraining's rmse: 2145.51\tvalid_1's rmse: 3392.26\n",
      "Training until validation scores don't improve for 5 rounds\n",
      "Early stopping, best iteration is:\n",
      "[2980]\ttraining's rmse: 2101.39\tvalid_1's rmse: 4652.07\n",
      "Training until validation scores don't improve for 5 rounds\n",
      "Early stopping, best iteration is:\n",
      "[3102]\ttraining's rmse: 2149.28\tvalid_1's rmse: 5050.58\n",
      "Training until validation scores don't improve for 5 rounds\n",
      "Early stopping, best iteration is:\n",
      "[3561]\ttraining's rmse: 2194.09\tvalid_1's rmse: 12640\n",
      "Training until validation scores don't improve for 5 rounds\n",
      "Early stopping, best iteration is:\n",
      "[4059]\ttraining's rmse: 2719.62\tvalid_1's rmse: 7444.66\n"
     ]
    },
    {
     "name": "stderr",
     "output_type": "stream",
     "text": [
      " 18%|█▊        | 61/339 [22:22<6:40:57, 86.54s/it]"
     ]
    },
    {
     "name": "stdout",
     "output_type": "stream",
     "text": [
      "Training until validation scores don't improve for 5 rounds\n",
      "Early stopping, best iteration is:\n",
      "[542]\ttraining's rmse: 1721.15\tvalid_1's rmse: 4247.04\n",
      "Training until validation scores don't improve for 5 rounds\n",
      "Early stopping, best iteration is:\n",
      "[778]\ttraining's rmse: 2332.3\tvalid_1's rmse: 2185.89\n",
      "Training until validation scores don't improve for 5 rounds\n",
      "Early stopping, best iteration is:\n",
      "[1116]\ttraining's rmse: 2035.15\tvalid_1's rmse: 2222.93\n",
      "Training until validation scores don't improve for 5 rounds\n",
      "Early stopping, best iteration is:\n",
      "[1274]\ttraining's rmse: 1907.03\tvalid_1's rmse: 1708.63\n",
      "Training until validation scores don't improve for 5 rounds\n",
      "Early stopping, best iteration is:\n",
      "[1475]\ttraining's rmse: 1790.22\tvalid_1's rmse: 1643.19\n",
      "Training until validation scores don't improve for 5 rounds\n",
      "Early stopping, best iteration is:\n",
      "[1753]\ttraining's rmse: 1692.7\tvalid_1's rmse: 1731.06\n",
      "Training until validation scores don't improve for 5 rounds\n",
      "Early stopping, best iteration is:\n",
      "[2010]\ttraining's rmse: 1644.73\tvalid_1's rmse: 2301.5\n",
      "Training until validation scores don't improve for 5 rounds\n",
      "Early stopping, best iteration is:\n",
      "[2384]\ttraining's rmse: 1640.68\tvalid_1's rmse: 3720.96\n",
      "Training until validation scores don't improve for 5 rounds\n",
      "Early stopping, best iteration is:\n",
      "[2810]\ttraining's rmse: 1808.04\tvalid_1's rmse: 4738.15\n",
      "Training until validation scores don't improve for 5 rounds\n",
      "Early stopping, best iteration is:\n",
      "[3374]\ttraining's rmse: 1870.44\tvalid_1's rmse: 12385.4\n"
     ]
    },
    {
     "name": "stderr",
     "output_type": "stream",
     "text": [
      " 18%|█▊        | 62/339 [23:02<5:35:59, 72.78s/it]"
     ]
    },
    {
     "name": "stdout",
     "output_type": "stream",
     "text": [
      "Training until validation scores don't improve for 5 rounds\n",
      "Early stopping, best iteration is:\n",
      "[296]\ttraining's rmse: 2410.06\tvalid_1's rmse: 2008.34\n",
      "Training until validation scores don't improve for 5 rounds\n",
      "Early stopping, best iteration is:\n",
      "[388]\ttraining's rmse: 2096.98\tvalid_1's rmse: 1294.85\n",
      "Training until validation scores don't improve for 5 rounds\n",
      "Early stopping, best iteration is:\n",
      "[390]\ttraining's rmse: 1865.22\tvalid_1's rmse: 1561.43\n",
      "Training until validation scores don't improve for 5 rounds\n",
      "Early stopping, best iteration is:\n",
      "[413]\ttraining's rmse: 1761.4\tvalid_1's rmse: 1605.7\n",
      "Training until validation scores don't improve for 5 rounds\n",
      "Early stopping, best iteration is:\n",
      "[414]\ttraining's rmse: 1729.67\tvalid_1's rmse: 2971.51\n",
      "Training until validation scores don't improve for 5 rounds\n",
      "Early stopping, best iteration is:\n",
      "[415]\ttraining's rmse: 1986.92\tvalid_1's rmse: 8427.84\n"
     ]
    },
    {
     "name": "stderr",
     "output_type": "stream",
     "text": [
      " 19%|█▊        | 63/339 [23:07<4:01:40, 52.54s/it]"
     ]
    },
    {
     "name": "stdout",
     "output_type": "stream",
     "text": [
      "Training until validation scores don't improve for 5 rounds\n",
      "Early stopping, best iteration is:\n",
      "[511]\ttraining's rmse: 1784.61\tvalid_1's rmse: 4539.5\n",
      "Training until validation scores don't improve for 5 rounds\n",
      "Early stopping, best iteration is:\n",
      "[893]\ttraining's rmse: 2295.73\tvalid_1's rmse: 2768.07\n",
      "Training until validation scores don't improve for 5 rounds\n",
      "Early stopping, best iteration is:\n",
      "[915]\ttraining's rmse: 2407.5\tvalid_1's rmse: 2430.55\n",
      "Training until validation scores don't improve for 5 rounds\n",
      "Early stopping, best iteration is:\n",
      "[1075]\ttraining's rmse: 2207.1\tvalid_1's rmse: 1890.5\n",
      "Training until validation scores don't improve for 5 rounds\n",
      "Early stopping, best iteration is:\n",
      "[1452]\ttraining's rmse: 1928.61\tvalid_1's rmse: 1761.62\n",
      "Training until validation scores don't improve for 5 rounds\n",
      "Early stopping, best iteration is:\n",
      "[1638]\ttraining's rmse: 1826.34\tvalid_1's rmse: 1964.63\n",
      "Training until validation scores don't improve for 5 rounds\n",
      "Early stopping, best iteration is:\n",
      "[1843]\ttraining's rmse: 1783.67\tvalid_1's rmse: 1988.48\n",
      "Training until validation scores don't improve for 5 rounds\n",
      "Early stopping, best iteration is:\n",
      "[1927]\ttraining's rmse: 1766.52\tvalid_1's rmse: 2686.18\n",
      "Training until validation scores don't improve for 5 rounds\n",
      "Early stopping, best iteration is:\n",
      "[1995]\ttraining's rmse: 1823.79\tvalid_1's rmse: 3254.81\n",
      "Training until validation scores don't improve for 5 rounds\n",
      "Early stopping, best iteration is:\n",
      "[2076]\ttraining's rmse: 1929.26\tvalid_1's rmse: 3935.01\n",
      "Training until validation scores don't improve for 5 rounds\n",
      "Early stopping, best iteration is:\n",
      "[2522]\ttraining's rmse: 1991.73\tvalid_1's rmse: 8433.04\n"
     ]
    },
    {
     "name": "stderr",
     "output_type": "stream",
     "text": [
      " 19%|█▉        | 64/339 [23:38<3:32:15, 46.31s/it]"
     ]
    },
    {
     "name": "stdout",
     "output_type": "stream",
     "text": [
      "Training until validation scores don't improve for 5 rounds\n",
      "Early stopping, best iteration is:\n",
      "[299]\ttraining's rmse: 1927.19\tvalid_1's rmse: 2648.7\n",
      "Training until validation scores don't improve for 5 rounds\n",
      "Early stopping, best iteration is:\n",
      "[342]\ttraining's rmse: 2070.43\tvalid_1's rmse: 2115.02\n",
      "Training until validation scores don't improve for 5 rounds\n",
      "Early stopping, best iteration is:\n",
      "[750]\ttraining's rmse: 1573.27\tvalid_1's rmse: 1609.13\n",
      "Training until validation scores don't improve for 5 rounds\n",
      "Early stopping, best iteration is:\n",
      "[751]\ttraining's rmse: 1581.41\tvalid_1's rmse: 1244.51\n",
      "Training until validation scores don't improve for 5 rounds\n",
      "Early stopping, best iteration is:\n",
      "[917]\ttraining's rmse: 1450.12\tvalid_1's rmse: 1279.09\n",
      "Training until validation scores don't improve for 5 rounds\n",
      "Early stopping, best iteration is:\n",
      "[918]\ttraining's rmse: 1422.47\tvalid_1's rmse: 1357.82\n",
      "Training until validation scores don't improve for 5 rounds\n",
      "Early stopping, best iteration is:\n",
      "[984]\ttraining's rmse: 1388.28\tvalid_1's rmse: 1478.56\n",
      "Training until validation scores don't improve for 5 rounds\n",
      "Early stopping, best iteration is:\n",
      "[1220]\ttraining's rmse: 1331.76\tvalid_1's rmse: 1471.75\n",
      "Training until validation scores don't improve for 5 rounds\n",
      "Early stopping, best iteration is:\n",
      "[1266]\ttraining's rmse: 1328.96\tvalid_1's rmse: 2382.9\n",
      "Training until validation scores don't improve for 5 rounds\n",
      "Early stopping, best iteration is:\n",
      "[1416]\ttraining's rmse: 1386.91\tvalid_1's rmse: 2981.77\n",
      "Training until validation scores don't improve for 5 rounds\n",
      "Early stopping, best iteration is:\n",
      "[1420]\ttraining's rmse: 1594.08\tvalid_1's rmse: 7474.23\n"
     ]
    },
    {
     "name": "stderr",
     "output_type": "stream",
     "text": [
      " 19%|█▉        | 65/339 [23:56<2:52:33, 37.79s/it]"
     ]
    },
    {
     "name": "stdout",
     "output_type": "stream",
     "text": [
      "Training until validation scores don't improve for 5 rounds\n",
      "Early stopping, best iteration is:\n",
      "[364]\ttraining's rmse: 1979.51\tvalid_1's rmse: 2944.31\n",
      "Training until validation scores don't improve for 5 rounds\n",
      "Early stopping, best iteration is:\n",
      "[478]\ttraining's rmse: 2223.6\tvalid_1's rmse: 3580.73\n",
      "Training until validation scores don't improve for 5 rounds\n",
      "Early stopping, best iteration is:\n",
      "[602]\ttraining's rmse: 2063.33\tvalid_1's rmse: 4266.64\n",
      "Training until validation scores don't improve for 5 rounds\n",
      "Early stopping, best iteration is:\n",
      "[739]\ttraining's rmse: 2360.78\tvalid_1's rmse: 2688.37\n",
      "Training until validation scores don't improve for 5 rounds\n",
      "Early stopping, best iteration is:\n",
      "[1217]\ttraining's rmse: 2072.45\tvalid_1's rmse: 2947.88\n",
      "Training until validation scores don't improve for 5 rounds\n",
      "Early stopping, best iteration is:\n",
      "[1269]\ttraining's rmse: 2174.08\tvalid_1's rmse: 1862.33\n",
      "Training until validation scores don't improve for 5 rounds\n",
      "Early stopping, best iteration is:\n",
      "[1473]\ttraining's rmse: 2044.74\tvalid_1's rmse: 1820.07\n",
      "Training until validation scores don't improve for 5 rounds\n",
      "Early stopping, best iteration is:\n",
      "[1534]\ttraining's rmse: 1984.46\tvalid_1's rmse: 2382.46\n",
      "Training until validation scores don't improve for 5 rounds\n",
      "Early stopping, best iteration is:\n",
      "[1652]\ttraining's rmse: 1941.83\tvalid_1's rmse: 1711.58\n",
      "Training until validation scores don't improve for 5 rounds\n",
      "Early stopping, best iteration is:\n",
      "[1725]\ttraining's rmse: 1891.68\tvalid_1's rmse: 1633.5\n",
      "Training until validation scores don't improve for 5 rounds\n",
      "Early stopping, best iteration is:\n",
      "[1851]\ttraining's rmse: 1834.8\tvalid_1's rmse: 1574.55\n",
      "Training until validation scores don't improve for 5 rounds\n",
      "Early stopping, best iteration is:\n",
      "[1885]\ttraining's rmse: 1804.29\tvalid_1's rmse: 1480.13\n",
      "Training until validation scores don't improve for 5 rounds\n",
      "Early stopping, best iteration is:\n",
      "[1886]\ttraining's rmse: 1781.24\tvalid_1's rmse: 1921.39\n",
      "Training until validation scores don't improve for 5 rounds\n",
      "Early stopping, best iteration is:\n",
      "[1900]\ttraining's rmse: 1785.2\tvalid_1's rmse: 1848\n",
      "Training until validation scores don't improve for 5 rounds\n",
      "Early stopping, best iteration is:\n",
      "[2172]\ttraining's rmse: 1720.65\tvalid_1's rmse: 2208.14\n",
      "Training until validation scores don't improve for 5 rounds\n",
      "Early stopping, best iteration is:\n",
      "[2173]\ttraining's rmse: 1754.5\tvalid_1's rmse: 2354.07\n",
      "Training until validation scores don't improve for 5 rounds\n",
      "Early stopping, best iteration is:\n",
      "[2192]\ttraining's rmse: 1778.44\tvalid_1's rmse: 3266.41\n",
      "Training until validation scores don't improve for 5 rounds\n",
      "Early stopping, best iteration is:\n",
      "[2231]\ttraining's rmse: 1846.41\tvalid_1's rmse: 2836.93\n",
      "Training until validation scores don't improve for 5 rounds\n",
      "Early stopping, best iteration is:\n",
      "[2232]\ttraining's rmse: 1909.54\tvalid_1's rmse: 5188.48\n",
      "Training until validation scores don't improve for 5 rounds\n",
      "Early stopping, best iteration is:\n",
      "[2604]\ttraining's rmse: 1982.79\tvalid_1's rmse: 3892.45\n",
      "Training until validation scores don't improve for 5 rounds\n",
      "Early stopping, best iteration is:\n",
      "[2797]\ttraining's rmse: 2014.44\tvalid_1's rmse: 4183.29\n",
      "Training until validation scores don't improve for 5 rounds\n",
      "Early stopping, best iteration is:\n",
      "[2929]\ttraining's rmse: 2053.86\tvalid_1's rmse: 8988.08\n",
      "Training until validation scores don't improve for 5 rounds\n",
      "Early stopping, best iteration is:\n",
      "[3349]\ttraining's rmse: 2347.47\tvalid_1's rmse: 8583.96\n"
     ]
    },
    {
     "name": "stderr",
     "output_type": "stream",
     "text": [
      " 19%|█▉        | 66/339 [24:52<3:17:32, 43.41s/it]"
     ]
    },
    {
     "name": "stdout",
     "output_type": "stream",
     "text": [
      "Training until validation scores don't improve for 5 rounds\n",
      "Early stopping, best iteration is:\n",
      "[404]\ttraining's rmse: 1704.52\tvalid_1's rmse: 2033.16\n",
      "Training until validation scores don't improve for 5 rounds\n",
      "Early stopping, best iteration is:\n",
      "[516]\ttraining's rmse: 1602.06\tvalid_1's rmse: 1446.33\n",
      "Training until validation scores don't improve for 5 rounds\n",
      "Early stopping, best iteration is:\n",
      "[813]\ttraining's rmse: 1401.54\tvalid_1's rmse: 2003.37\n",
      "Training until validation scores don't improve for 5 rounds\n",
      "Early stopping, best iteration is:\n",
      "[2344]\ttraining's rmse: 1318.35\tvalid_1's rmse: 3136.89\n",
      "Training until validation scores don't improve for 5 rounds\n",
      "Early stopping, best iteration is:\n",
      "[2775]\ttraining's rmse: 1346.17\tvalid_1's rmse: 4102.43\n",
      "Training until validation scores don't improve for 5 rounds\n",
      "Early stopping, best iteration is:\n",
      "[3137]\ttraining's rmse: 1608.09\tvalid_1's rmse: 10677\n",
      "Training until validation scores don't improve for 5 rounds\n",
      "Early stopping, best iteration is:\n",
      "[3841]\ttraining's rmse: 2185.65\tvalid_1's rmse: 7669.49\n",
      "Training until validation scores don't improve for 5 rounds\n",
      "Early stopping, best iteration is:\n",
      "[4260]\ttraining's rmse: 2745.98\tvalid_1's rmse: 7287.06\n"
     ]
    },
    {
     "name": "stderr",
     "output_type": "stream",
     "text": [
      " 20%|█▉        | 67/339 [25:29<3:07:10, 41.29s/it]"
     ]
    },
    {
     "name": "stdout",
     "output_type": "stream",
     "text": [
      "Training until validation scores don't improve for 5 rounds\n",
      "Early stopping, best iteration is:\n",
      "[941]\ttraining's rmse: 1812.7\tvalid_1's rmse: 2631.82\n",
      "Training until validation scores don't improve for 5 rounds\n",
      "Early stopping, best iteration is:\n",
      "[1277]\ttraining's rmse: 1739.03\tvalid_1's rmse: 20543.3\n"
     ]
    },
    {
     "name": "stderr",
     "output_type": "stream",
     "text": [
      " 20%|██        | 68/339 [25:37<2:22:27, 31.54s/it]"
     ]
    },
    {
     "name": "stdout",
     "output_type": "stream",
     "text": [
      "Training until validation scores don't improve for 5 rounds\n",
      "Early stopping, best iteration is:\n",
      "[332]\ttraining's rmse: 2680.7\tvalid_1's rmse: 1788.95\n",
      "Training until validation scores don't improve for 5 rounds\n",
      "Early stopping, best iteration is:\n",
      "[568]\ttraining's rmse: 2056.3\tvalid_1's rmse: 2145.53\n",
      "Training until validation scores don't improve for 5 rounds\n",
      "Early stopping, best iteration is:\n",
      "[900]\ttraining's rmse: 1769.41\tvalid_1's rmse: 2533.08\n",
      "Training until validation scores don't improve for 5 rounds\n",
      "Early stopping, best iteration is:\n",
      "[901]\ttraining's rmse: 1984.35\tvalid_1's rmse: 13672.5\n"
     ]
    },
    {
     "name": "stderr",
     "output_type": "stream",
     "text": [
      " 20%|██        | 69/339 [25:44<1:48:53, 24.20s/it]"
     ]
    },
    {
     "name": "stdout",
     "output_type": "stream",
     "text": [
      "Training until validation scores don't improve for 5 rounds\n",
      "Early stopping, best iteration is:\n",
      "[335]\ttraining's rmse: 2149.02\tvalid_1's rmse: 2981.52\n",
      "Training until validation scores don't improve for 5 rounds\n",
      "Early stopping, best iteration is:\n",
      "[1205]\ttraining's rmse: 1939.97\tvalid_1's rmse: 2156.2\n",
      "Training until validation scores don't improve for 5 rounds\n",
      "Early stopping, best iteration is:\n",
      "[1357]\ttraining's rmse: 1904.94\tvalid_1's rmse: 2320.04\n",
      "Training until validation scores don't improve for 5 rounds\n",
      "Early stopping, best iteration is:\n",
      "[1507]\ttraining's rmse: 1804.38\tvalid_1's rmse: 1675.17\n",
      "Training until validation scores don't improve for 5 rounds\n",
      "Early stopping, best iteration is:\n",
      "[1508]\ttraining's rmse: 1777.71\tvalid_1's rmse: 2115.24\n",
      "Training until validation scores don't improve for 5 rounds\n",
      "Early stopping, best iteration is:\n",
      "[1912]\ttraining's rmse: 1651.01\tvalid_1's rmse: 1890.21\n",
      "Training until validation scores don't improve for 5 rounds\n",
      "Early stopping, best iteration is:\n",
      "[1913]\ttraining's rmse: 1686.25\tvalid_1's rmse: 2509.99\n",
      "Training until validation scores don't improve for 5 rounds\n",
      "Early stopping, best iteration is:\n",
      "[1914]\ttraining's rmse: 1807.34\tvalid_1's rmse: 3986.99\n",
      "Training until validation scores don't improve for 5 rounds\n",
      "Early stopping, best iteration is:\n",
      "[2567]\ttraining's rmse: 1767.91\tvalid_1's rmse: 4291.17\n",
      "Training until validation scores don't improve for 5 rounds\n",
      "Early stopping, best iteration is:\n",
      "[3132]\ttraining's rmse: 1819.87\tvalid_1's rmse: 9688.4\n"
     ]
    },
    {
     "name": "stderr",
     "output_type": "stream",
     "text": [
      " 21%|██        | 71/339 [26:19<1:33:18, 20.89s/it]"
     ]
    },
    {
     "name": "stdout",
     "output_type": "stream",
     "text": [
      "Training until validation scores don't improve for 5 rounds\n",
      "Early stopping, best iteration is:\n",
      "[377]\ttraining's rmse: 1686.74\tvalid_1's rmse: 1870.56\n",
      "Training until validation scores don't improve for 5 rounds\n",
      "Early stopping, best iteration is:\n",
      "[683]\ttraining's rmse: 1419.94\tvalid_1's rmse: 4011.06\n",
      "Training until validation scores don't improve for 5 rounds\n",
      "Early stopping, best iteration is:\n",
      "[1200]\ttraining's rmse: 1409.91\tvalid_1's rmse: 10595\n",
      "Training until validation scores don't improve for 5 rounds\n",
      "Early stopping, best iteration is:\n",
      "[1690]\ttraining's rmse: 2549.53\tvalid_1's rmse: 14062.4\n"
     ]
    },
    {
     "name": "stderr",
     "output_type": "stream",
     "text": [
      " 21%|██        | 72/339 [26:30<1:23:01, 18.66s/it]"
     ]
    },
    {
     "name": "stdout",
     "output_type": "stream",
     "text": [
      "Training until validation scores don't improve for 5 rounds\n",
      "Early stopping, best iteration is:\n",
      "[375]\ttraining's rmse: 2015.11\tvalid_1's rmse: 3476.01\n",
      "Training until validation scores don't improve for 5 rounds\n",
      "Early stopping, best iteration is:\n",
      "[620]\ttraining's rmse: 1926\tvalid_1's rmse: 17727.5\n"
     ]
    },
    {
     "name": "stderr",
     "output_type": "stream",
     "text": [
      " 22%|██▏       | 73/339 [26:33<1:04:07, 14.47s/it]"
     ]
    },
    {
     "name": "stdout",
     "output_type": "stream",
     "text": [
      "Training until validation scores don't improve for 5 rounds\n",
      "Early stopping, best iteration is:\n",
      "[320]\ttraining's rmse: 1960.13\tvalid_1's rmse: 2369.4\n",
      "Training until validation scores don't improve for 5 rounds\n",
      "Early stopping, best iteration is:\n",
      "[321]\ttraining's rmse: 2166.41\tvalid_1's rmse: 17263.7\n"
     ]
    },
    {
     "name": "stderr",
     "output_type": "stream",
     "text": [
      " 22%|██▏       | 74/339 [26:35<48:39, 11.02s/it]  "
     ]
    },
    {
     "name": "stdout",
     "output_type": "stream",
     "text": [
      "Training until validation scores don't improve for 5 rounds\n",
      "Early stopping, best iteration is:\n",
      "[332]\ttraining's rmse: 2485.83\tvalid_1's rmse: 2136.86\n",
      "Training until validation scores don't improve for 5 rounds\n",
      "Early stopping, best iteration is:\n",
      "[333]\ttraining's rmse: 2315.87\tvalid_1's rmse: 27434.2\n"
     ]
    },
    {
     "name": "stderr",
     "output_type": "stream",
     "text": [
      " 22%|██▏       | 75/339 [26:37<37:18,  8.48s/it]"
     ]
    },
    {
     "name": "stdout",
     "output_type": "stream",
     "text": [
      "Training until validation scores don't improve for 5 rounds\n",
      "Early stopping, best iteration is:\n",
      "[396]\ttraining's rmse: 2223.96\tvalid_1's rmse: 1649.09\n",
      "Training until validation scores don't improve for 5 rounds\n",
      "Early stopping, best iteration is:\n",
      "[632]\ttraining's rmse: 1813.22\tvalid_1's rmse: 1571.71\n",
      "Training until validation scores don't improve for 5 rounds\n",
      "Early stopping, best iteration is:\n",
      "[979]\ttraining's rmse: 1611.22\tvalid_1's rmse: 3277.63\n",
      "Training until validation scores don't improve for 5 rounds\n",
      "Early stopping, best iteration is:\n",
      "[1422]\ttraining's rmse: 1893.7\tvalid_1's rmse: 15588.5\n"
     ]
    },
    {
     "name": "stderr",
     "output_type": "stream",
     "text": [
      " 22%|██▏       | 76/339 [26:49<41:19,  9.43s/it]"
     ]
    },
    {
     "name": "stdout",
     "output_type": "stream",
     "text": [
      "Training until validation scores don't improve for 5 rounds\n",
      "Early stopping, best iteration is:\n",
      "[448]\ttraining's rmse: 1934.25\tvalid_1's rmse: 6673.41\n",
      "Training until validation scores don't improve for 5 rounds\n",
      "Early stopping, best iteration is:\n",
      "[636]\ttraining's rmse: 1758.7\tvalid_1's rmse: 2816.2\n",
      "Training until validation scores don't improve for 5 rounds\n",
      "Early stopping, best iteration is:\n",
      "[637]\ttraining's rmse: 2163.84\tvalid_1's rmse: 25202.1\n"
     ]
    },
    {
     "name": "stderr",
     "output_type": "stream",
     "text": [
      " 23%|██▎       | 77/339 [26:53<34:41,  7.95s/it]"
     ]
    },
    {
     "name": "stdout",
     "output_type": "stream",
     "text": [
      "Training until validation scores don't improve for 5 rounds\n",
      "Early stopping, best iteration is:\n",
      "[378]\ttraining's rmse: 2814.68\tvalid_1's rmse: 2891.11\n",
      "Training until validation scores don't improve for 5 rounds\n",
      "Early stopping, best iteration is:\n",
      "[648]\ttraining's rmse: 2503.54\tvalid_1's rmse: 2705.59\n",
      "Training until validation scores don't improve for 5 rounds\n",
      "Early stopping, best iteration is:\n",
      "[649]\ttraining's rmse: 2570.59\tvalid_1's rmse: 5218.5\n",
      "Training until validation scores don't improve for 5 rounds\n",
      "Early stopping, best iteration is:\n",
      "[999]\ttraining's rmse: 2644.17\tvalid_1's rmse: 16777.5\n"
     ]
    },
    {
     "name": "stderr",
     "output_type": "stream",
     "text": [
      " 23%|██▎       | 78/339 [26:59<32:17,  7.43s/it]"
     ]
    },
    {
     "name": "stdout",
     "output_type": "stream",
     "text": [
      "Training until validation scores don't improve for 5 rounds\n",
      "Early stopping, best iteration is:\n",
      "[466]\ttraining's rmse: 3384.96\tvalid_1's rmse: 5613.3\n",
      "Training until validation scores don't improve for 5 rounds\n",
      "Early stopping, best iteration is:\n",
      "[784]\ttraining's rmse: 2983.45\tvalid_1's rmse: 28581.6\n"
     ]
    },
    {
     "name": "stderr",
     "output_type": "stream",
     "text": [
      " 23%|██▎       | 79/339 [27:03<27:19,  6.31s/it]"
     ]
    },
    {
     "name": "stdout",
     "output_type": "stream",
     "text": [
      "Training until validation scores don't improve for 5 rounds\n",
      "Early stopping, best iteration is:\n",
      "[363]\ttraining's rmse: 2605.96\tvalid_1's rmse: 4191.6\n",
      "Training until validation scores don't improve for 5 rounds\n",
      "Early stopping, best iteration is:\n",
      "[618]\ttraining's rmse: 2411.29\tvalid_1's rmse: 18402.2\n"
     ]
    },
    {
     "name": "stderr",
     "output_type": "stream",
     "text": [
      " 24%|██▎       | 80/339 [27:07<24:41,  5.72s/it]"
     ]
    },
    {
     "name": "stdout",
     "output_type": "stream",
     "text": [
      "Training until validation scores don't improve for 5 rounds\n",
      "Early stopping, best iteration is:\n",
      "[310]\ttraining's rmse: 3326.02\tvalid_1's rmse: 3322.49\n",
      "Training until validation scores don't improve for 5 rounds\n",
      "Early stopping, best iteration is:\n",
      "[480]\ttraining's rmse: 2757.75\tvalid_1's rmse: 5089.35\n",
      "Training until validation scores don't improve for 5 rounds\n",
      "Early stopping, best iteration is:\n",
      "[940]\ttraining's rmse: 2731.84\tvalid_1's rmse: 2724.62\n",
      "Training until validation scores don't improve for 5 rounds\n",
      "Early stopping, best iteration is:\n",
      "[1020]\ttraining's rmse: 2628.29\tvalid_1's rmse: 2342.37\n",
      "Training until validation scores don't improve for 5 rounds\n",
      "Early stopping, best iteration is:\n",
      "[1021]\ttraining's rmse: 2572.11\tvalid_1's rmse: 3419.43\n",
      "Training until validation scores don't improve for 5 rounds\n",
      "Early stopping, best iteration is:\n",
      "[1304]\ttraining's rmse: 2348.69\tvalid_1's rmse: 2544.74\n",
      "Training until validation scores don't improve for 5 rounds\n",
      "Early stopping, best iteration is:\n",
      "[1350]\ttraining's rmse: 2347.9\tvalid_1's rmse: 3629.51\n",
      "Training until validation scores don't improve for 5 rounds\n",
      "Early stopping, best iteration is:\n",
      "[1458]\ttraining's rmse: 2467.9\tvalid_1's rmse: 7134.75\n",
      "Training until validation scores don't improve for 5 rounds\n",
      "Early stopping, best iteration is:\n",
      "[1740]\ttraining's rmse: 2835.51\tvalid_1's rmse: 7334.13\n",
      "Training until validation scores don't improve for 5 rounds\n",
      "Early stopping, best iteration is:\n",
      "[2115]\ttraining's rmse: 2952.08\tvalid_1's rmse: 9442.36\n"
     ]
    },
    {
     "name": "stderr",
     "output_type": "stream",
     "text": [
      " 24%|██▍       | 81/339 [27:25<40:06,  9.33s/it]"
     ]
    },
    {
     "name": "stdout",
     "output_type": "stream",
     "text": [
      "Training until validation scores don't improve for 5 rounds\n",
      "Early stopping, best iteration is:\n",
      "[441]\ttraining's rmse: 3121.57\tvalid_1's rmse: 3411.28\n",
      "Training until validation scores don't improve for 5 rounds\n",
      "Early stopping, best iteration is:\n",
      "[661]\ttraining's rmse: 2635.96\tvalid_1's rmse: 3041.18\n",
      "Training until validation scores don't improve for 5 rounds\n",
      "Early stopping, best iteration is:\n",
      "[708]\ttraining's rmse: 2688.31\tvalid_1's rmse: 2732.01\n",
      "Training until validation scores don't improve for 5 rounds\n",
      "Early stopping, best iteration is:\n",
      "[836]\ttraining's rmse: 2507.43\tvalid_1's rmse: 2332.54\n",
      "Training until validation scores don't improve for 5 rounds\n",
      "Early stopping, best iteration is:\n",
      "[872]\ttraining's rmse: 2435.1\tvalid_1's rmse: 2459.71\n",
      "Training until validation scores don't improve for 5 rounds\n",
      "Early stopping, best iteration is:\n",
      "[984]\ttraining's rmse: 2361.12\tvalid_1's rmse: 2844.41\n",
      "Training until validation scores don't improve for 5 rounds\n",
      "Early stopping, best iteration is:\n",
      "[985]\ttraining's rmse: 2434.03\tvalid_1's rmse: 3850.92\n",
      "Training until validation scores don't improve for 5 rounds\n",
      "Early stopping, best iteration is:\n",
      "[1003]\ttraining's rmse: 2611.27\tvalid_1's rmse: 8791.7\n",
      "Training until validation scores don't improve for 5 rounds\n",
      "Early stopping, best iteration is:\n",
      "[1448]\ttraining's rmse: 2932.69\tvalid_1's rmse: 9080.12\n",
      "Training until validation scores don't improve for 5 rounds\n",
      "Early stopping, best iteration is:\n",
      "[2123]\ttraining's rmse: 3109.35\tvalid_1's rmse: 8840.23\n"
     ]
    },
    {
     "name": "stderr",
     "output_type": "stream",
     "text": [
      " 24%|██▍       | 82/339 [27:43<50:40, 11.83s/it]"
     ]
    },
    {
     "name": "stdout",
     "output_type": "stream",
     "text": [
      "Training until validation scores don't improve for 5 rounds\n",
      "Early stopping, best iteration is:\n",
      "[407]\ttraining's rmse: 2215.57\tvalid_1's rmse: 2753.02\n",
      "Training until validation scores don't improve for 5 rounds\n",
      "Early stopping, best iteration is:\n",
      "[485]\ttraining's rmse: 2383.42\tvalid_1's rmse: 2422.48\n",
      "Training until validation scores don't improve for 5 rounds\n",
      "Early stopping, best iteration is:\n",
      "[486]\ttraining's rmse: 2394.24\tvalid_1's rmse: 2500.72\n",
      "Training until validation scores don't improve for 5 rounds\n",
      "Early stopping, best iteration is:\n",
      "[519]\ttraining's rmse: 2363.56\tvalid_1's rmse: 4262.02\n",
      "Training until validation scores don't improve for 5 rounds\n",
      "Early stopping, best iteration is:\n",
      "[520]\ttraining's rmse: 2842.71\tvalid_1's rmse: 16716.8\n"
     ]
    },
    {
     "name": "stderr",
     "output_type": "stream",
     "text": [
      " 25%|██▍       | 84/339 [27:47<31:17,  7.36s/it]"
     ]
    },
    {
     "name": "stdout",
     "output_type": "stream",
     "text": [
      "Training until validation scores don't improve for 5 rounds\n",
      "Early stopping, best iteration is:\n",
      "[190]\ttraining's rmse: 7919\tvalid_1's rmse: 5419.17\n",
      "Training until validation scores don't improve for 5 rounds\n",
      "Early stopping, best iteration is:\n",
      "[217]\ttraining's rmse: 5836.49\tvalid_1's rmse: 20908.4\n",
      "Training until validation scores don't improve for 5 rounds\n",
      "Early stopping, best iteration is:\n",
      "[437]\ttraining's rmse: 4369.4\tvalid_1's rmse: 22374.1\n"
     ]
    },
    {
     "name": "stderr",
     "output_type": "stream",
     "text": [
      " 25%|██▌       | 85/339 [27:51<27:24,  6.48s/it]"
     ]
    },
    {
     "name": "stdout",
     "output_type": "stream",
     "text": [
      "Training until validation scores don't improve for 5 rounds\n",
      "Early stopping, best iteration is:\n",
      "[223]\ttraining's rmse: 6052.82\tvalid_1's rmse: 3164.67\n",
      "Training until validation scores don't improve for 5 rounds\n",
      "Early stopping, best iteration is:\n",
      "[606]\ttraining's rmse: 3780.38\tvalid_1's rmse: 10486.1\n",
      "Training until validation scores don't improve for 5 rounds\n",
      "Early stopping, best iteration is:\n",
      "[667]\ttraining's rmse: 5757.32\tvalid_1's rmse: 18676.9\n"
     ]
    },
    {
     "name": "stderr",
     "output_type": "stream",
     "text": [
      " 25%|██▌       | 86/339 [27:56<25:43,  6.10s/it]"
     ]
    },
    {
     "name": "stdout",
     "output_type": "stream",
     "text": [
      "Training until validation scores don't improve for 5 rounds\n",
      "Early stopping, best iteration is:\n",
      "[395]\ttraining's rmse: 1137.14\tvalid_1's rmse: 5635.19\n",
      "Training until validation scores don't improve for 5 rounds\n",
      "Early stopping, best iteration is:\n",
      "[917]\ttraining's rmse: 1090.49\tvalid_1's rmse: 7810.88\n"
     ]
    },
    {
     "name": "stderr",
     "output_type": "stream",
     "text": [
      " 26%|██▌       | 87/339 [27:58<21:41,  5.16s/it]"
     ]
    },
    {
     "name": "stdout",
     "output_type": "stream",
     "text": [
      "Training until validation scores don't improve for 5 rounds\n",
      "Early stopping, best iteration is:\n",
      "[734]\ttraining's rmse: 1761.18\tvalid_1's rmse: 6386.52\n",
      "Training until validation scores don't improve for 5 rounds\n",
      "Early stopping, best iteration is:\n",
      "[1213]\ttraining's rmse: 1916.96\tvalid_1's rmse: 37737.1\n"
     ]
    },
    {
     "name": "stderr",
     "output_type": "stream",
     "text": [
      " 26%|██▌       | 88/339 [28:06<24:07,  5.77s/it]"
     ]
    },
    {
     "name": "stdout",
     "output_type": "stream",
     "text": [
      "Training until validation scores don't improve for 5 rounds\n",
      "Early stopping, best iteration is:\n",
      "[348]\ttraining's rmse: 3180.08\tvalid_1's rmse: 2060.46\n",
      "Training until validation scores don't improve for 5 rounds\n",
      "Early stopping, best iteration is:\n",
      "[352]\ttraining's rmse: 2667.63\tvalid_1's rmse: 2369.44\n",
      "Training until validation scores don't improve for 5 rounds\n",
      "Early stopping, best iteration is:\n",
      "[397]\ttraining's rmse: 2493.87\tvalid_1's rmse: 5029.55\n",
      "Training until validation scores don't improve for 5 rounds\n",
      "Early stopping, best iteration is:\n",
      "[1570]\ttraining's rmse: 2621.72\tvalid_1's rmse: 15431.9\n"
     ]
    },
    {
     "name": "stderr",
     "output_type": "stream",
     "text": [
      " 26%|██▋       | 89/339 [28:15<28:44,  6.90s/it]"
     ]
    },
    {
     "name": "stdout",
     "output_type": "stream",
     "text": [
      "Training until validation scores don't improve for 5 rounds\n",
      "Early stopping, best iteration is:\n",
      "[371]\ttraining's rmse: 2783.57\tvalid_1's rmse: 2245.94\n",
      "Training until validation scores don't improve for 5 rounds\n",
      "Early stopping, best iteration is:\n",
      "[420]\ttraining's rmse: 2194.61\tvalid_1's rmse: 21010.1\n"
     ]
    },
    {
     "name": "stderr",
     "output_type": "stream",
     "text": [
      " 27%|██▋       | 90/339 [28:16<21:39,  5.22s/it]"
     ]
    },
    {
     "name": "stdout",
     "output_type": "stream",
     "text": [
      "Training until validation scores don't improve for 5 rounds\n",
      "Early stopping, best iteration is:\n",
      "[439]\ttraining's rmse: 6429.36\tvalid_1's rmse: 9831.04\n",
      "Training until validation scores don't improve for 5 rounds\n",
      "Early stopping, best iteration is:\n",
      "[1208]\ttraining's rmse: 4372.15\tvalid_1's rmse: 24913.2\n"
     ]
    },
    {
     "name": "stderr",
     "output_type": "stream",
     "text": [
      " 27%|██▋       | 91/339 [28:20<19:42,  4.77s/it]"
     ]
    },
    {
     "name": "stdout",
     "output_type": "stream",
     "text": [
      "Training until validation scores don't improve for 5 rounds\n",
      "Early stopping, best iteration is:\n",
      "[355]\ttraining's rmse: 3773.03\tvalid_1's rmse: 2889.64\n",
      "Training until validation scores don't improve for 5 rounds\n",
      "Early stopping, best iteration is:\n",
      "[364]\ttraining's rmse: 3339.76\tvalid_1's rmse: 3084.11\n",
      "Training until validation scores don't improve for 5 rounds\n",
      "Early stopping, best iteration is:\n",
      "[365]\ttraining's rmse: 3253.32\tvalid_1's rmse: 13777.6\n"
     ]
    },
    {
     "name": "stderr",
     "output_type": "stream",
     "text": [
      " 27%|██▋       | 92/339 [28:23<16:46,  4.08s/it]"
     ]
    },
    {
     "name": "stdout",
     "output_type": "stream",
     "text": [
      "Training until validation scores don't improve for 5 rounds\n",
      "Early stopping, best iteration is:\n",
      "[280]\ttraining's rmse: 4437.57\tvalid_1's rmse: 7796.1\n",
      "Training until validation scores don't improve for 5 rounds\n",
      "Early stopping, best iteration is:\n",
      "[287]\ttraining's rmse: 6190.23\tvalid_1's rmse: 26209.8\n"
     ]
    },
    {
     "name": "stderr",
     "output_type": "stream",
     "text": [
      " 27%|██▋       | 93/339 [28:24<13:28,  3.29s/it]"
     ]
    },
    {
     "name": "stdout",
     "output_type": "stream",
     "text": [
      "Training until validation scores don't improve for 5 rounds\n",
      "Early stopping, best iteration is:\n",
      "[241]\ttraining's rmse: 3188.73\tvalid_1's rmse: 2530.21\n",
      "Training until validation scores don't improve for 5 rounds\n",
      "Early stopping, best iteration is:\n",
      "[332]\ttraining's rmse: 2484.89\tvalid_1's rmse: 2089.3\n",
      "Training until validation scores don't improve for 5 rounds\n",
      "Early stopping, best iteration is:\n",
      "[378]\ttraining's rmse: 2206.49\tvalid_1's rmse: 3630.49\n",
      "Training until validation scores don't improve for 5 rounds\n",
      "Early stopping, best iteration is:\n",
      "[755]\ttraining's rmse: 2187.83\tvalid_1's rmse: 24132.6\n"
     ]
    },
    {
     "name": "stderr",
     "output_type": "stream",
     "text": [
      " 28%|██▊       | 94/339 [28:29<15:35,  3.82s/it]"
     ]
    },
    {
     "name": "stdout",
     "output_type": "stream",
     "text": [
      "Training until validation scores don't improve for 5 rounds\n",
      "Early stopping, best iteration is:\n",
      "[399]\ttraining's rmse: 4013.81\tvalid_1's rmse: 4690.07\n",
      "Training until validation scores don't improve for 5 rounds\n",
      "Early stopping, best iteration is:\n",
      "[749]\ttraining's rmse: 3554.69\tvalid_1's rmse: 13918.2\n"
     ]
    },
    {
     "name": "stderr",
     "output_type": "stream",
     "text": [
      " 28%|██▊       | 95/339 [28:34<17:02,  4.19s/it]"
     ]
    },
    {
     "name": "stdout",
     "output_type": "stream",
     "text": [
      "Training until validation scores don't improve for 5 rounds\n",
      "Early stopping, best iteration is:\n",
      "[270]\ttraining's rmse: 2664.79\tvalid_1's rmse: 3072.15\n",
      "Training until validation scores don't improve for 5 rounds\n",
      "Early stopping, best iteration is:\n",
      "[452]\ttraining's rmse: 2284.29\tvalid_1's rmse: 37020\n"
     ]
    },
    {
     "name": "stderr",
     "output_type": "stream",
     "text": [
      " 28%|██▊       | 96/339 [28:36<14:43,  3.63s/it]"
     ]
    },
    {
     "name": "stdout",
     "output_type": "stream",
     "text": [
      "Training until validation scores don't improve for 5 rounds\n",
      "Early stopping, best iteration is:\n",
      "[128]\ttraining's rmse: 7730.71\tvalid_1's rmse: 4691.36\n",
      "Training until validation scores don't improve for 5 rounds\n",
      "Early stopping, best iteration is:\n",
      "[428]\ttraining's rmse: 4013.55\tvalid_1's rmse: 18902\n"
     ]
    },
    {
     "name": "stderr",
     "output_type": "stream",
     "text": [
      " 29%|██▊       | 97/339 [28:38<11:36,  2.88s/it]"
     ]
    },
    {
     "name": "stdout",
     "output_type": "stream",
     "text": [
      "Training until validation scores don't improve for 5 rounds\n",
      "Early stopping, best iteration is:\n",
      "[477]\ttraining's rmse: 2743.49\tvalid_1's rmse: 19889.1\n",
      "Training until validation scores don't improve for 5 rounds\n",
      "Early stopping, best iteration is:\n",
      "[940]\ttraining's rmse: 4492.36\tvalid_1's rmse: 20249.6\n"
     ]
    },
    {
     "name": "stderr",
     "output_type": "stream",
     "text": [
      " 29%|██▉       | 98/339 [28:42<13:58,  3.48s/it]"
     ]
    },
    {
     "name": "stdout",
     "output_type": "stream",
     "text": [
      "Training until validation scores don't improve for 5 rounds\n",
      "Early stopping, best iteration is:\n",
      "[406]\ttraining's rmse: 1893.79\tvalid_1's rmse: 1846.62\n",
      "Training until validation scores don't improve for 5 rounds\n",
      "Early stopping, best iteration is:\n",
      "[551]\ttraining's rmse: 1687.87\tvalid_1's rmse: 16128.4\n"
     ]
    },
    {
     "name": "stderr",
     "output_type": "stream",
     "text": [
      " 29%|██▉       | 100/339 [28:46<10:36,  2.66s/it]"
     ]
    },
    {
     "name": "stdout",
     "output_type": "stream",
     "text": [
      "Training until validation scores don't improve for 5 rounds\n",
      "Early stopping, best iteration is:\n",
      "[284]\ttraining's rmse: 3467.15\tvalid_1's rmse: 3765.91\n",
      "Training until validation scores don't improve for 5 rounds\n",
      "Early stopping, best iteration is:\n",
      "[559]\ttraining's rmse: 2541.15\tvalid_1's rmse: 33147.4\n"
     ]
    },
    {
     "name": "stderr",
     "output_type": "stream",
     "text": [
      " 30%|██▉       | 101/339 [28:49<10:55,  2.75s/it]"
     ]
    },
    {
     "name": "stdout",
     "output_type": "stream",
     "text": [
      "Training until validation scores don't improve for 5 rounds\n",
      "Early stopping, best iteration is:\n",
      "[355]\ttraining's rmse: 2992.4\tvalid_1's rmse: 5529.95\n",
      "Training until validation scores don't improve for 5 rounds\n",
      "Early stopping, best iteration is:\n",
      "[604]\ttraining's rmse: 3318.22\tvalid_1's rmse: 43466.1\n"
     ]
    },
    {
     "name": "stderr",
     "output_type": "stream",
     "text": [
      " 30%|███       | 102/339 [28:51<10:45,  2.72s/it]"
     ]
    },
    {
     "name": "stdout",
     "output_type": "stream",
     "text": [
      "Training until validation scores don't improve for 5 rounds\n",
      "Early stopping, best iteration is:\n",
      "[367]\ttraining's rmse: 2227.28\tvalid_1's rmse: 1836.49\n",
      "Training until validation scores don't improve for 5 rounds\n",
      "Early stopping, best iteration is:\n",
      "[368]\ttraining's rmse: 2038.85\tvalid_1's rmse: 20443\n"
     ]
    },
    {
     "name": "stderr",
     "output_type": "stream",
     "text": [
      " 30%|███       | 103/339 [28:54<09:59,  2.54s/it]"
     ]
    },
    {
     "name": "stdout",
     "output_type": "stream",
     "text": [
      "Training until validation scores don't improve for 5 rounds\n",
      "Early stopping, best iteration is:\n",
      "[241]\ttraining's rmse: 3484.97\tvalid_1's rmse: 3043.12\n",
      "Training until validation scores don't improve for 5 rounds\n",
      "Early stopping, best iteration is:\n",
      "[242]\ttraining's rmse: 3261.91\tvalid_1's rmse: 30830.8\n"
     ]
    },
    {
     "name": "stderr",
     "output_type": "stream",
     "text": [
      " 31%|███       | 104/339 [28:55<08:55,  2.28s/it]"
     ]
    },
    {
     "name": "stdout",
     "output_type": "stream",
     "text": [
      "Training until validation scores don't improve for 5 rounds\n",
      "Early stopping, best iteration is:\n",
      "[213]\ttraining's rmse: 11564\tvalid_1's rmse: 8638.91\n",
      "Training until validation scores don't improve for 5 rounds\n",
      "Early stopping, best iteration is:\n",
      "[551]\ttraining's rmse: 7820.8\tvalid_1's rmse: 41049\n"
     ]
    },
    {
     "name": "stderr",
     "output_type": "stream",
     "text": [
      " 31%|███       | 105/339 [28:56<07:36,  1.95s/it]"
     ]
    },
    {
     "name": "stdout",
     "output_type": "stream",
     "text": [
      "Training until validation scores don't improve for 5 rounds\n",
      "Early stopping, best iteration is:\n",
      "[767]\ttraining's rmse: 4398.32\tvalid_1's rmse: 10755.3\n",
      "Training until validation scores don't improve for 5 rounds\n",
      "Early stopping, best iteration is:\n",
      "[1152]\ttraining's rmse: 4619.76\tvalid_1's rmse: 30236.2\n"
     ]
    },
    {
     "name": "stderr",
     "output_type": "stream",
     "text": [
      " 31%|███▏      | 106/339 [28:59<08:52,  2.28s/it]"
     ]
    },
    {
     "name": "stdout",
     "output_type": "stream",
     "text": [
      "Training until validation scores don't improve for 5 rounds\n",
      "Early stopping, best iteration is:\n",
      "[637]\ttraining's rmse: 1676.24\tvalid_1's rmse: 5630.68\n",
      "Training until validation scores don't improve for 5 rounds\n",
      "Early stopping, best iteration is:\n",
      "[957]\ttraining's rmse: 1666.45\tvalid_1's rmse: 4560.37\n",
      "Training until validation scores don't improve for 5 rounds\n",
      "Early stopping, best iteration is:\n",
      "[1955]\ttraining's rmse: 1873.86\tvalid_1's rmse: 10757.2\n",
      "Training until validation scores don't improve for 5 rounds\n",
      "Early stopping, best iteration is:\n",
      "[2341]\ttraining's rmse: 3329.47\tvalid_1's rmse: 13340.5\n"
     ]
    },
    {
     "name": "stderr",
     "output_type": "stream",
     "text": [
      " 32%|███▏      | 107/339 [29:16<25:04,  6.48s/it]"
     ]
    },
    {
     "name": "stdout",
     "output_type": "stream",
     "text": [
      "Training until validation scores don't improve for 5 rounds\n",
      "Early stopping, best iteration is:\n",
      "[1693]\ttraining's rmse: 2466.81\tvalid_1's rmse: 4904.9\n",
      "Training until validation scores don't improve for 5 rounds\n",
      "Early stopping, best iteration is:\n",
      "[2128]\ttraining's rmse: 2442.54\tvalid_1's rmse: 30137.7\n"
     ]
    },
    {
     "name": "stderr",
     "output_type": "stream",
     "text": [
      " 32%|███▏      | 108/339 [29:23<25:39,  6.66s/it]"
     ]
    },
    {
     "name": "stdout",
     "output_type": "stream",
     "text": [
      "Training until validation scores don't improve for 5 rounds\n",
      "Early stopping, best iteration is:\n",
      "[265]\ttraining's rmse: 2144.43\tvalid_1's rmse: 3002.39\n",
      "Training until validation scores don't improve for 5 rounds\n",
      "Early stopping, best iteration is:\n",
      "[649]\ttraining's rmse: 2073.72\tvalid_1's rmse: 5757.75\n",
      "Training until validation scores don't improve for 5 rounds\n",
      "Early stopping, best iteration is:\n",
      "[901]\ttraining's rmse: 2847\tvalid_1's rmse: 14793.7\n"
     ]
    },
    {
     "name": "stderr",
     "output_type": "stream",
     "text": [
      " 32%|███▏      | 109/339 [29:29<24:30,  6.39s/it]"
     ]
    },
    {
     "name": "stdout",
     "output_type": "stream",
     "text": [
      "Training until validation scores don't improve for 5 rounds\n",
      "Early stopping, best iteration is:\n",
      "[508]\ttraining's rmse: 1891.23\tvalid_1's rmse: 2463.5\n",
      "Training until validation scores don't improve for 5 rounds\n",
      "Early stopping, best iteration is:\n",
      "[792]\ttraining's rmse: 1524.5\tvalid_1's rmse: 22363.2\n"
     ]
    },
    {
     "name": "stderr",
     "output_type": "stream",
     "text": [
      " 32%|███▏      | 110/339 [29:32<21:15,  5.57s/it]"
     ]
    },
    {
     "name": "stdout",
     "output_type": "stream",
     "text": [
      "Training until validation scores don't improve for 5 rounds\n",
      "Early stopping, best iteration is:\n",
      "[498]\ttraining's rmse: 3514.09\tvalid_1's rmse: 6937.88\n",
      "Training until validation scores don't improve for 5 rounds\n",
      "Early stopping, best iteration is:\n",
      "[537]\ttraining's rmse: 5111.22\tvalid_1's rmse: 32122.1\n"
     ]
    },
    {
     "name": "stderr",
     "output_type": "stream",
     "text": [
      " 33%|███▎      | 112/339 [29:35<13:21,  3.53s/it]"
     ]
    },
    {
     "name": "stdout",
     "output_type": "stream",
     "text": [
      "Training until validation scores don't improve for 5 rounds\n",
      "Early stopping, best iteration is:\n",
      "[328]\ttraining's rmse: 3649.91\tvalid_1's rmse: 4040.68\n",
      "Training until validation scores don't improve for 5 rounds\n",
      "Early stopping, best iteration is:\n",
      "[1360]\ttraining's rmse: 2269.52\tvalid_1's rmse: 18671.4\n"
     ]
    },
    {
     "name": "stderr",
     "output_type": "stream",
     "text": [
      " 33%|███▎      | 113/339 [29:41<16:16,  4.32s/it]"
     ]
    },
    {
     "name": "stdout",
     "output_type": "stream",
     "text": [
      "Training until validation scores don't improve for 5 rounds\n",
      "Early stopping, best iteration is:\n",
      "[386]\ttraining's rmse: 3736.72\tvalid_1's rmse: 2715.03\n",
      "Training until validation scores don't improve for 5 rounds\n",
      "Early stopping, best iteration is:\n",
      "[866]\ttraining's rmse: 2679.95\tvalid_1's rmse: 6705.58\n"
     ]
    },
    {
     "name": "stderr",
     "output_type": "stream",
     "text": [
      " 34%|███▎      | 114/339 [29:48<17:57,  4.79s/it]"
     ]
    },
    {
     "name": "stdout",
     "output_type": "stream",
     "text": [
      "Training until validation scores don't improve for 5 rounds\n",
      "Early stopping, best iteration is:\n",
      "[240]\ttraining's rmse: 2498.26\tvalid_1's rmse: 2421.05\n",
      "Training until validation scores don't improve for 5 rounds\n",
      "Early stopping, best iteration is:\n",
      "[256]\ttraining's rmse: 2379.52\tvalid_1's rmse: 29034\n"
     ]
    },
    {
     "name": "stderr",
     "output_type": "stream",
     "text": [
      " 34%|███▍      | 115/339 [29:48<13:47,  3.69s/it]"
     ]
    },
    {
     "name": "stdout",
     "output_type": "stream",
     "text": [
      "Training until validation scores don't improve for 5 rounds\n",
      "Early stopping, best iteration is:\n",
      "[490]\ttraining's rmse: 1457.95\tvalid_1's rmse: 2278.33\n",
      "Training until validation scores don't improve for 5 rounds\n",
      "Early stopping, best iteration is:\n",
      "[884]\ttraining's rmse: 1328.46\tvalid_1's rmse: 20249.2\n"
     ]
    },
    {
     "name": "stderr",
     "output_type": "stream",
     "text": [
      " 34%|███▍      | 116/339 [29:52<13:24,  3.61s/it]"
     ]
    },
    {
     "name": "stdout",
     "output_type": "stream",
     "text": [
      "Training until validation scores don't improve for 5 rounds\n",
      "Early stopping, best iteration is:\n",
      "[378]\ttraining's rmse: 2291.49\tvalid_1's rmse: 2931.62\n",
      "Training until validation scores don't improve for 5 rounds\n",
      "Early stopping, best iteration is:\n",
      "[760]\ttraining's rmse: 1884.46\tvalid_1's rmse: 26601.3\n"
     ]
    },
    {
     "name": "stderr",
     "output_type": "stream",
     "text": [
      " 35%|███▍      | 117/339 [29:56<14:01,  3.79s/it]"
     ]
    },
    {
     "name": "stdout",
     "output_type": "stream",
     "text": [
      "Training until validation scores don't improve for 5 rounds\n",
      "Early stopping, best iteration is:\n",
      "[233]\ttraining's rmse: 7836.81\tvalid_1's rmse: 6672.63\n",
      "Training until validation scores don't improve for 5 rounds\n",
      "Early stopping, best iteration is:\n",
      "[380]\ttraining's rmse: 4831.12\tvalid_1's rmse: 2810.64\n",
      "Training until validation scores don't improve for 5 rounds\n",
      "Early stopping, best iteration is:\n",
      "[615]\ttraining's rmse: 3621.27\tvalid_1's rmse: 2134.16\n",
      "Training until validation scores don't improve for 5 rounds\n",
      "Early stopping, best iteration is:\n",
      "[619]\ttraining's rmse: 3306.18\tvalid_1's rmse: 4384.87\n",
      "Training until validation scores don't improve for 5 rounds\n",
      "Early stopping, best iteration is:\n",
      "[1003]\ttraining's rmse: 2935.7\tvalid_1's rmse: 8273.1\n"
     ]
    },
    {
     "name": "stderr",
     "output_type": "stream",
     "text": [
      " 35%|███▍      | 118/339 [30:03<17:02,  4.63s/it]"
     ]
    },
    {
     "name": "stdout",
     "output_type": "stream",
     "text": [
      "Training until validation scores don't improve for 5 rounds\n",
      "Early stopping, best iteration is:\n",
      "[395]\ttraining's rmse: 1986.12\tvalid_1's rmse: 2660.4\n",
      "Training until validation scores don't improve for 5 rounds\n",
      "Early stopping, best iteration is:\n",
      "[468]\ttraining's rmse: 2160.25\tvalid_1's rmse: 2213.75\n",
      "Training until validation scores don't improve for 5 rounds\n",
      "Early stopping, best iteration is:\n",
      "[491]\ttraining's rmse: 2139.89\tvalid_1's rmse: 1802.33\n",
      "Training until validation scores don't improve for 5 rounds\n",
      "Early stopping, best iteration is:\n",
      "[695]\ttraining's rmse: 1869.79\tvalid_1's rmse: 1941.19\n",
      "Training until validation scores don't improve for 5 rounds\n",
      "Early stopping, best iteration is:\n",
      "[1075]\ttraining's rmse: 1747.8\tvalid_1's rmse: 1956.7\n",
      "Training until validation scores don't improve for 5 rounds\n",
      "Early stopping, best iteration is:\n",
      "[1076]\ttraining's rmse: 1783.69\tvalid_1's rmse: 2735.21\n",
      "Training until validation scores don't improve for 5 rounds\n",
      "Early stopping, best iteration is:\n",
      "[1384]\ttraining's rmse: 1815.23\tvalid_1's rmse: 7143.58\n",
      "Training until validation scores don't improve for 5 rounds\n",
      "Early stopping, best iteration is:\n",
      "[1977]\ttraining's rmse: 2009.98\tvalid_1's rmse: 11956.8\n"
     ]
    },
    {
     "name": "stderr",
     "output_type": "stream",
     "text": [
      " 35%|███▌      | 119/339 [30:18<28:33,  7.79s/it]"
     ]
    },
    {
     "name": "stdout",
     "output_type": "stream",
     "text": [
      "Training until validation scores don't improve for 5 rounds\n",
      "Early stopping, best iteration is:\n",
      "[468]\ttraining's rmse: 2394.47\tvalid_1's rmse: 21621.6\n",
      "Training until validation scores don't improve for 5 rounds\n",
      "Early stopping, best iteration is:\n",
      "[1000]\ttraining's rmse: 3348.94\tvalid_1's rmse: 17994.3\n"
     ]
    },
    {
     "name": "stderr",
     "output_type": "stream",
     "text": [
      " 35%|███▌      | 120/339 [30:24<26:22,  7.22s/it]"
     ]
    },
    {
     "name": "stdout",
     "output_type": "stream",
     "text": [
      "Training until validation scores don't improve for 5 rounds\n",
      "Early stopping, best iteration is:\n",
      "[751]\ttraining's rmse: 2100.81\tvalid_1's rmse: 2796.07\n",
      "Training until validation scores don't improve for 5 rounds\n",
      "Early stopping, best iteration is:\n",
      "[1584]\ttraining's rmse: 1146.02\tvalid_1's rmse: 8301.53\n"
     ]
    },
    {
     "name": "stderr",
     "output_type": "stream",
     "text": [
      " 36%|███▌      | 121/339 [30:27<21:17,  5.86s/it]"
     ]
    },
    {
     "name": "stdout",
     "output_type": "stream",
     "text": [
      "Training until validation scores don't improve for 5 rounds\n",
      "Early stopping, best iteration is:\n",
      "[512]\ttraining's rmse: 1861.21\tvalid_1's rmse: 2539.49\n",
      "Training until validation scores don't improve for 5 rounds\n",
      "Early stopping, best iteration is:\n",
      "[795]\ttraining's rmse: 1651.16\tvalid_1's rmse: 20131.3\n"
     ]
    },
    {
     "name": "stderr",
     "output_type": "stream",
     "text": [
      " 36%|███▌      | 122/339 [30:30<18:35,  5.14s/it]"
     ]
    },
    {
     "name": "stdout",
     "output_type": "stream",
     "text": [
      "Training until validation scores don't improve for 5 rounds\n",
      "Early stopping, best iteration is:\n",
      "[1]\ttraining's rmse: 4036.76\tvalid_1's rmse: 6628.32\n",
      "Training until validation scores don't improve for 5 rounds\n",
      "Early stopping, best iteration is:\n",
      "[553]\ttraining's rmse: 2137.33\tvalid_1's rmse: 22685.1\n"
     ]
    },
    {
     "name": "stderr",
     "output_type": "stream",
     "text": [
      " 36%|███▋      | 123/339 [30:30<13:23,  3.72s/it]"
     ]
    },
    {
     "name": "stdout",
     "output_type": "stream",
     "text": [
      "Training until validation scores don't improve for 5 rounds\n",
      "Early stopping, best iteration is:\n",
      "[805]\ttraining's rmse: 5681.11\tvalid_1's rmse: 9377.63\n",
      "Training until validation scores don't improve for 5 rounds\n",
      "Early stopping, best iteration is:\n",
      "[1149]\ttraining's rmse: 4979.41\tvalid_1's rmse: 32171.4\n"
     ]
    },
    {
     "name": "stderr",
     "output_type": "stream",
     "text": [
      " 37%|███▋      | 125/339 [30:34<10:30,  2.94s/it]"
     ]
    },
    {
     "name": "stdout",
     "output_type": "stream",
     "text": [
      "Training until validation scores don't improve for 5 rounds\n",
      "Early stopping, best iteration is:\n",
      "[460]\ttraining's rmse: 7227.29\tvalid_1's rmse: 15315.8\n",
      "Training until validation scores don't improve for 5 rounds\n",
      "Early stopping, best iteration is:\n",
      "[666]\ttraining's rmse: 9199.71\tvalid_1's rmse: 11242.4\n",
      "Training until validation scores don't improve for 5 rounds\n",
      "Early stopping, best iteration is:\n",
      "[681]\ttraining's rmse: 9801.88\tvalid_1's rmse: 12154.5\n",
      "Training until validation scores don't improve for 5 rounds\n",
      "Early stopping, best iteration is:\n",
      "[1036]\ttraining's rmse: 8876.03\tvalid_1's rmse: 6990.52\n",
      "Training until validation scores don't improve for 5 rounds\n",
      "Early stopping, best iteration is:\n",
      "[1040]\ttraining's rmse: 8524.53\tvalid_1's rmse: 7741.61\n",
      "Training until validation scores don't improve for 5 rounds\n",
      "Early stopping, best iteration is:\n",
      "[1041]\ttraining's rmse: 8395.9\tvalid_1's rmse: 9381.44\n",
      "Training until validation scores don't improve for 5 rounds\n",
      "Early stopping, best iteration is:\n",
      "[1042]\ttraining's rmse: 8537.44\tvalid_1's rmse: 11710.9\n",
      "Training until validation scores don't improve for 5 rounds\n",
      "Early stopping, best iteration is:\n",
      "[1043]\ttraining's rmse: 8986.06\tvalid_1's rmse: 15736.7\n",
      "Training until validation scores don't improve for 5 rounds\n",
      "Early stopping, best iteration is:\n",
      "[1535]\ttraining's rmse: 8566.57\tvalid_1's rmse: 26330.9\n",
      "Training until validation scores don't improve for 5 rounds\n",
      "Early stopping, best iteration is:\n",
      "[1828]\ttraining's rmse: 9293.05\tvalid_1's rmse: 24706.7\n",
      "Training until validation scores don't improve for 5 rounds\n",
      "Early stopping, best iteration is:\n",
      "[2184]\ttraining's rmse: 10047.7\tvalid_1's rmse: 54653.1\n"
     ]
    },
    {
     "name": "stderr",
     "output_type": "stream",
     "text": [
      " 37%|███▋      | 126/339 [30:54<25:16,  7.12s/it]"
     ]
    },
    {
     "name": "stdout",
     "output_type": "stream",
     "text": [
      "Training until validation scores don't improve for 5 rounds\n",
      "Early stopping, best iteration is:\n",
      "[524]\ttraining's rmse: 4216.17\tvalid_1's rmse: 7079.01\n",
      "Training until validation scores don't improve for 5 rounds\n",
      "Early stopping, best iteration is:\n",
      "[2309]\ttraining's rmse: 4004.94\tvalid_1's rmse: 6005.7\n",
      "Training until validation scores don't improve for 5 rounds\n",
      "Early stopping, best iteration is:\n",
      "[2414]\ttraining's rmse: 4575.9\tvalid_1's rmse: 4515.13\n",
      "Training until validation scores don't improve for 5 rounds\n",
      "Early stopping, best iteration is:\n",
      "[2659]\ttraining's rmse: 4288\tvalid_1's rmse: 7703.65\n",
      "Training until validation scores don't improve for 5 rounds\n",
      "Early stopping, best iteration is:\n",
      "[2734]\ttraining's rmse: 4774.26\tvalid_1's rmse: 4803.89\n",
      "Training until validation scores don't improve for 5 rounds\n",
      "Early stopping, best iteration is:\n",
      "[2915]\ttraining's rmse: 4367.47\tvalid_1's rmse: 5572.7\n",
      "Training until validation scores don't improve for 5 rounds\n",
      "Early stopping, best iteration is:\n",
      "[2916]\ttraining's rmse: 4555.98\tvalid_1's rmse: 7951.66\n",
      "Training until validation scores don't improve for 5 rounds\n",
      "Early stopping, best iteration is:\n",
      "[2970]\ttraining's rmse: 4911.14\tvalid_1's rmse: 11691.3\n",
      "Training until validation scores don't improve for 5 rounds\n",
      "Early stopping, best iteration is:\n",
      "[3311]\ttraining's rmse: 5239.53\tvalid_1's rmse: 18631.4\n"
     ]
    },
    {
     "name": "stderr",
     "output_type": "stream",
     "text": [
      " 37%|███▋      | 127/339 [31:26<47:37, 13.48s/it]"
     ]
    },
    {
     "name": "stdout",
     "output_type": "stream",
     "text": [
      "Training until validation scores don't improve for 5 rounds\n",
      "Early stopping, best iteration is:\n",
      "[315]\ttraining's rmse: 10506.9\tvalid_1's rmse: 10223\n",
      "Training until validation scores don't improve for 5 rounds\n",
      "Early stopping, best iteration is:\n",
      "[501]\ttraining's rmse: 8680.31\tvalid_1's rmse: 7974.33\n",
      "Training until validation scores don't improve for 5 rounds\n",
      "Early stopping, best iteration is:\n",
      "[532]\ttraining's rmse: 7966.92\tvalid_1's rmse: 9417.47\n",
      "Training until validation scores don't improve for 5 rounds\n",
      "Early stopping, best iteration is:\n",
      "[607]\ttraining's rmse: 7709\tvalid_1's rmse: 7257.83\n",
      "Training until validation scores don't improve for 5 rounds\n",
      "Early stopping, best iteration is:\n",
      "[608]\ttraining's rmse: 7613.15\tvalid_1's rmse: 5287.08\n",
      "Training until validation scores don't improve for 5 rounds\n",
      "Early stopping, best iteration is:\n",
      "[997]\ttraining's rmse: 6267.72\tvalid_1's rmse: 4658.44\n",
      "Training until validation scores don't improve for 5 rounds\n",
      "Early stopping, best iteration is:\n",
      "[1434]\ttraining's rmse: 5510.57\tvalid_1's rmse: 5907.57\n",
      "Training until validation scores don't improve for 5 rounds\n",
      "Early stopping, best iteration is:\n",
      "[1435]\ttraining's rmse: 5559.94\tvalid_1's rmse: 4802.29\n",
      "Training until validation scores don't improve for 5 rounds\n",
      "Early stopping, best iteration is:\n",
      "[1579]\ttraining's rmse: 5312.81\tvalid_1's rmse: 5098.42\n",
      "Training until validation scores don't improve for 5 rounds\n",
      "Early stopping, best iteration is:\n",
      "[1618]\ttraining's rmse: 5245.06\tvalid_1's rmse: 7263.86\n",
      "Training until validation scores don't improve for 5 rounds\n",
      "Early stopping, best iteration is:\n",
      "[1619]\ttraining's rmse: 5455.34\tvalid_1's rmse: 9152.81\n",
      "Training until validation scores don't improve for 5 rounds\n",
      "Early stopping, best iteration is:\n",
      "[1620]\ttraining's rmse: 5847.11\tvalid_1's rmse: 11007\n",
      "Training until validation scores don't improve for 5 rounds\n",
      "Early stopping, best iteration is:\n",
      "[1621]\ttraining's rmse: 6385.31\tvalid_1's rmse: 13657.2\n",
      "Training until validation scores don't improve for 5 rounds\n",
      "Early stopping, best iteration is:\n",
      "[1939]\ttraining's rmse: 5934.54\tvalid_1's rmse: 12863.1\n",
      "Training until validation scores don't improve for 5 rounds\n",
      "Early stopping, best iteration is:\n",
      "[2278]\ttraining's rmse: 6002.28\tvalid_1's rmse: 19434.1\n"
     ]
    },
    {
     "name": "stderr",
     "output_type": "stream",
     "text": [
      " 38%|███▊      | 128/339 [31:53<1:00:07, 17.09s/it]"
     ]
    },
    {
     "name": "stdout",
     "output_type": "stream",
     "text": [
      "Training until validation scores don't improve for 5 rounds\n",
      "Early stopping, best iteration is:\n",
      "[1196]\ttraining's rmse: 3988.08\tvalid_1's rmse: 11922.4\n",
      "Training until validation scores don't improve for 5 rounds\n",
      "Early stopping, best iteration is:\n",
      "[1688]\ttraining's rmse: 4785.67\tvalid_1's rmse: 30151.2\n"
     ]
    },
    {
     "name": "stderr",
     "output_type": "stream",
     "text": [
      " 38%|███▊      | 129/339 [31:58<48:07, 13.75s/it]  "
     ]
    },
    {
     "name": "stdout",
     "output_type": "stream",
     "text": [
      "Training until validation scores don't improve for 5 rounds\n",
      "Early stopping, best iteration is:\n",
      "[680]\ttraining's rmse: 3557.64\tvalid_1's rmse: 5036.85\n",
      "Training until validation scores don't improve for 5 rounds\n",
      "Early stopping, best iteration is:\n",
      "[844]\ttraining's rmse: 3798.35\tvalid_1's rmse: 23562.7\n"
     ]
    },
    {
     "name": "stderr",
     "output_type": "stream",
     "text": [
      " 38%|███▊      | 130/339 [32:03<39:05, 11.22s/it]"
     ]
    },
    {
     "name": "stdout",
     "output_type": "stream",
     "text": [
      "Training until validation scores don't improve for 5 rounds\n",
      "Early stopping, best iteration is:\n",
      "[273]\ttraining's rmse: 7255.17\tvalid_1's rmse: 9326.34\n",
      "Training until validation scores don't improve for 5 rounds\n",
      "Early stopping, best iteration is:\n",
      "[877]\ttraining's rmse: 5720.78\tvalid_1's rmse: 6677.67\n",
      "Training until validation scores don't improve for 5 rounds\n",
      "Early stopping, best iteration is:\n",
      "[2148]\ttraining's rmse: 5026.64\tvalid_1's rmse: 7404.52\n",
      "Training until validation scores don't improve for 5 rounds\n",
      "Early stopping, best iteration is:\n",
      "[2166]\ttraining's rmse: 5671.43\tvalid_1's rmse: 4926.39\n",
      "Training until validation scores don't improve for 5 rounds\n",
      "Early stopping, best iteration is:\n",
      "[2167]\ttraining's rmse: 5528.13\tvalid_1's rmse: 4806.85\n",
      "Training until validation scores don't improve for 5 rounds\n",
      "Early stopping, best iteration is:\n",
      "[2168]\ttraining's rmse: 5411.82\tvalid_1's rmse: 4976.42\n",
      "Training until validation scores don't improve for 5 rounds\n",
      "Early stopping, best iteration is:\n",
      "[2230]\ttraining's rmse: 5224.36\tvalid_1's rmse: 8337.93\n",
      "Training until validation scores don't improve for 5 rounds\n",
      "Early stopping, best iteration is:\n",
      "[2308]\ttraining's rmse: 5462.02\tvalid_1's rmse: 16482\n",
      "Training until validation scores don't improve for 5 rounds\n",
      "Early stopping, best iteration is:\n",
      "[2925]\ttraining's rmse: 5520.42\tvalid_1's rmse: 22722\n",
      "Training until validation scores don't improve for 5 rounds\n",
      "Early stopping, best iteration is:\n",
      "[3338]\ttraining's rmse: 6397.77\tvalid_1's rmse: 25081.8\n"
     ]
    },
    {
     "name": "stderr",
     "output_type": "stream",
     "text": [
      " 39%|███▊      | 131/339 [32:36<1:00:43, 17.52s/it]"
     ]
    },
    {
     "name": "stdout",
     "output_type": "stream",
     "text": [
      "Training until validation scores don't improve for 5 rounds\n",
      "Early stopping, best iteration is:\n",
      "[335]\ttraining's rmse: 3279.23\tvalid_1's rmse: 2231.25\n",
      "Training until validation scores don't improve for 5 rounds\n",
      "Early stopping, best iteration is:\n",
      "[673]\ttraining's rmse: 2332.52\tvalid_1's rmse: 11788.6\n"
     ]
    },
    {
     "name": "stderr",
     "output_type": "stream",
     "text": [
      " 39%|███▉      | 132/339 [32:39<46:31, 13.48s/it]  "
     ]
    },
    {
     "name": "stdout",
     "output_type": "stream",
     "text": [
      "Training until validation scores don't improve for 5 rounds\n",
      "Early stopping, best iteration is:\n",
      "[586]\ttraining's rmse: 2090.98\tvalid_1's rmse: 2593.85\n",
      "Training until validation scores don't improve for 5 rounds\n",
      "Early stopping, best iteration is:\n",
      "[587]\ttraining's rmse: 2352.72\tvalid_1's rmse: 47331.5\n"
     ]
    },
    {
     "name": "stderr",
     "output_type": "stream",
     "text": [
      " 39%|███▉      | 133/339 [32:44<37:39, 10.97s/it]"
     ]
    },
    {
     "name": "stdout",
     "output_type": "stream",
     "text": [
      "Training until validation scores don't improve for 5 rounds\n",
      "Early stopping, best iteration is:\n",
      "[502]\ttraining's rmse: 2732.37\tvalid_1's rmse: 12641.5\n",
      "Training until validation scores don't improve for 5 rounds\n",
      "Early stopping, best iteration is:\n",
      "[1239]\ttraining's rmse: 3774.52\tvalid_1's rmse: 20403\n"
     ]
    },
    {
     "name": "stderr",
     "output_type": "stream",
     "text": [
      " 40%|███▉      | 134/339 [32:52<33:53,  9.92s/it]"
     ]
    },
    {
     "name": "stdout",
     "output_type": "stream",
     "text": [
      "Training until validation scores don't improve for 5 rounds\n",
      "Early stopping, best iteration is:\n",
      "[282]\ttraining's rmse: 2442.98\tvalid_1's rmse: 2892.15\n",
      "Training until validation scores don't improve for 5 rounds\n",
      "Early stopping, best iteration is:\n",
      "[610]\ttraining's rmse: 2091.78\tvalid_1's rmse: 27987.2\n"
     ]
    },
    {
     "name": "stderr",
     "output_type": "stream",
     "text": [
      " 40%|███▉      | 135/339 [32:55<27:06,  7.97s/it]"
     ]
    },
    {
     "name": "stdout",
     "output_type": "stream",
     "text": [
      "Training until validation scores don't improve for 5 rounds\n",
      "Early stopping, best iteration is:\n",
      "[377]\ttraining's rmse: 12091.5\tvalid_1's rmse: 17955.4\n",
      "Training until validation scores don't improve for 5 rounds\n",
      "Early stopping, best iteration is:\n",
      "[690]\ttraining's rmse: 6213.44\tvalid_1's rmse: 31561.9\n",
      "Training until validation scores don't improve for 5 rounds\n",
      "Early stopping, best iteration is:\n",
      "[863]\ttraining's rmse: 7482\tvalid_1's rmse: 54843.3\n"
     ]
    },
    {
     "name": "stderr",
     "output_type": "stream",
     "text": [
      " 40%|████      | 136/339 [33:01<24:45,  7.32s/it]"
     ]
    },
    {
     "name": "stdout",
     "output_type": "stream",
     "text": [
      "Training until validation scores don't improve for 5 rounds\n",
      "Early stopping, best iteration is:\n",
      "[1470]\ttraining's rmse: 2998.78\tvalid_1's rmse: 10085.1\n",
      "Training until validation scores don't improve for 5 rounds\n",
      "Early stopping, best iteration is:\n",
      "[1671]\ttraining's rmse: 6035.47\tvalid_1's rmse: 22952.2\n"
     ]
    },
    {
     "name": "stderr",
     "output_type": "stream",
     "text": [
      " 40%|████      | 137/339 [33:11<27:14,  8.09s/it]"
     ]
    },
    {
     "name": "stdout",
     "output_type": "stream",
     "text": [
      "Training until validation scores don't improve for 5 rounds\n",
      "Early stopping, best iteration is:\n",
      "[340]\ttraining's rmse: 3099.82\tvalid_1's rmse: 4414.13\n",
      "Training until validation scores don't improve for 5 rounds\n",
      "Early stopping, best iteration is:\n",
      "[613]\ttraining's rmse: 3117.17\tvalid_1's rmse: 33624.5\n"
     ]
    },
    {
     "name": "stderr",
     "output_type": "stream",
     "text": [
      " 41%|████      | 138/339 [33:14<22:46,  6.80s/it]"
     ]
    },
    {
     "name": "stdout",
     "output_type": "stream",
     "text": [
      "Training until validation scores don't improve for 5 rounds\n",
      "Early stopping, best iteration is:\n",
      "[236]\ttraining's rmse: 3878.24\tvalid_1's rmse: 2272.57\n",
      "Training until validation scores don't improve for 5 rounds\n",
      "Early stopping, best iteration is:\n",
      "[413]\ttraining's rmse: 2382.76\tvalid_1's rmse: 19850.1\n"
     ]
    },
    {
     "name": "stderr",
     "output_type": "stream",
     "text": [
      " 41%|████      | 139/339 [33:16<17:17,  5.19s/it]"
     ]
    },
    {
     "name": "stdout",
     "output_type": "stream",
     "text": [
      "Training until validation scores don't improve for 5 rounds\n",
      "Early stopping, best iteration is:\n",
      "[285]\ttraining's rmse: 1943.12\tvalid_1's rmse: 1596.31\n",
      "Training until validation scores don't improve for 5 rounds\n",
      "Early stopping, best iteration is:\n",
      "[351]\ttraining's rmse: 1629.95\tvalid_1's rmse: 3272.88\n",
      "Training until validation scores don't improve for 5 rounds\n",
      "Early stopping, best iteration is:\n",
      "[577]\ttraining's rmse: 1755.57\tvalid_1's rmse: 18554.5\n"
     ]
    },
    {
     "name": "stderr",
     "output_type": "stream",
     "text": [
      " 42%|████▏     | 141/339 [33:20<12:16,  3.72s/it]"
     ]
    },
    {
     "name": "stdout",
     "output_type": "stream",
     "text": [
      "Training until validation scores don't improve for 5 rounds\n",
      "Early stopping, best iteration is:\n",
      "[921]\ttraining's rmse: 2176.96\tvalid_1's rmse: 3338.81\n",
      "Training until validation scores don't improve for 5 rounds\n",
      "Early stopping, best iteration is:\n",
      "[1458]\ttraining's rmse: 2000.28\tvalid_1's rmse: 13245.2\n"
     ]
    },
    {
     "name": "stderr",
     "output_type": "stream",
     "text": [
      " 42%|████▏     | 142/339 [33:23<11:21,  3.46s/it]"
     ]
    },
    {
     "name": "stdout",
     "output_type": "stream",
     "text": [
      "Training until validation scores don't improve for 5 rounds\n",
      "Early stopping, best iteration is:\n",
      "[418]\ttraining's rmse: 3983.71\tvalid_1's rmse: 15374.4\n",
      "Training until validation scores don't improve for 5 rounds\n",
      "Early stopping, best iteration is:\n",
      "[967]\ttraining's rmse: 5800.47\tvalid_1's rmse: 34167.9\n"
     ]
    },
    {
     "name": "stderr",
     "output_type": "stream",
     "text": [
      " 42%|████▏     | 143/339 [33:25<10:08,  3.10s/it]"
     ]
    },
    {
     "name": "stdout",
     "output_type": "stream",
     "text": [
      "Training until validation scores don't improve for 5 rounds\n",
      "Early stopping, best iteration is:\n",
      "[309]\ttraining's rmse: 5707.18\tvalid_1's rmse: 5870.82\n",
      "Training until validation scores don't improve for 5 rounds\n",
      "Early stopping, best iteration is:\n",
      "[453]\ttraining's rmse: 4350.56\tvalid_1's rmse: 4285.59\n",
      "Training until validation scores don't improve for 5 rounds\n",
      "Early stopping, best iteration is:\n",
      "[911]\ttraining's rmse: 3632.78\tvalid_1's rmse: 6323.64\n",
      "Training until validation scores don't improve for 5 rounds\n",
      "Early stopping, best iteration is:\n",
      "[1362]\ttraining's rmse: 3797.23\tvalid_1's rmse: 10619.8\n",
      "Training until validation scores don't improve for 5 rounds\n",
      "Early stopping, best iteration is:\n",
      "[2963]\ttraining's rmse: 4307.28\tvalid_1's rmse: 16279.1\n"
     ]
    },
    {
     "name": "stderr",
     "output_type": "stream",
     "text": [
      " 42%|████▏     | 144/339 [33:45<25:23,  7.81s/it]"
     ]
    },
    {
     "name": "stdout",
     "output_type": "stream",
     "text": [
      "Training until validation scores don't improve for 5 rounds\n",
      "Early stopping, best iteration is:\n",
      "[331]\ttraining's rmse: 2946.56\tvalid_1's rmse: 4230\n",
      "Training until validation scores don't improve for 5 rounds\n",
      "Early stopping, best iteration is:\n",
      "[1051]\ttraining's rmse: 2280.33\tvalid_1's rmse: 10272\n",
      "Training until validation scores don't improve for 5 rounds\n",
      "Early stopping, best iteration is:\n",
      "[1305]\ttraining's rmse: 2749.92\tvalid_1's rmse: 16299.4\n",
      "Training until validation scores don't improve for 5 rounds\n",
      "Early stopping, best iteration is:\n",
      "[1845]\ttraining's rmse: 3762.52\tvalid_1's rmse: 13535.1\n"
     ]
    },
    {
     "name": "stderr",
     "output_type": "stream",
     "text": [
      " 43%|████▎     | 145/339 [33:57<28:50,  8.92s/it]"
     ]
    },
    {
     "name": "stdout",
     "output_type": "stream",
     "text": [
      "Training until validation scores don't improve for 5 rounds\n",
      "Early stopping, best iteration is:\n",
      "[513]\ttraining's rmse: 2433.02\tvalid_1's rmse: 2628.44\n",
      "Training until validation scores don't improve for 5 rounds\n",
      "Early stopping, best iteration is:\n",
      "[531]\ttraining's rmse: 2481.18\tvalid_1's rmse: 2157.96\n",
      "Training until validation scores don't improve for 5 rounds\n",
      "Early stopping, best iteration is:\n",
      "[1174]\ttraining's rmse: 2067.41\tvalid_1's rmse: 7595.89\n",
      "Training until validation scores don't improve for 5 rounds\n",
      "Early stopping, best iteration is:\n",
      "[1394]\ttraining's rmse: 2703.82\tvalid_1's rmse: 3636.98\n",
      "Training until validation scores don't improve for 5 rounds\n",
      "Early stopping, best iteration is:\n",
      "[1421]\ttraining's rmse: 2723.61\tvalid_1's rmse: 6427.3\n",
      "Training until validation scores don't improve for 5 rounds\n",
      "Early stopping, best iteration is:\n",
      "[1913]\ttraining's rmse: 2721.48\tvalid_1's rmse: 9236.21\n",
      "Training until validation scores don't improve for 5 rounds\n",
      "Early stopping, best iteration is:\n",
      "[2497]\ttraining's rmse: 3104.72\tvalid_1's rmse: 15981.7\n"
     ]
    },
    {
     "name": "stderr",
     "output_type": "stream",
     "text": [
      " 43%|████▎     | 146/339 [34:17<38:49, 12.07s/it]"
     ]
    },
    {
     "name": "stdout",
     "output_type": "stream",
     "text": [
      "Training until validation scores don't improve for 5 rounds\n",
      "Early stopping, best iteration is:\n",
      "[328]\ttraining's rmse: 2718.21\tvalid_1's rmse: 2421.99\n",
      "Training until validation scores don't improve for 5 rounds\n",
      "Early stopping, best iteration is:\n",
      "[329]\ttraining's rmse: 2571.32\tvalid_1's rmse: 3668.94\n",
      "Training until validation scores don't improve for 5 rounds\n",
      "Early stopping, best iteration is:\n",
      "[585]\ttraining's rmse: 2547.3\tvalid_1's rmse: 25331.5\n"
     ]
    },
    {
     "name": "stderr",
     "output_type": "stream",
     "text": [
      " 43%|████▎     | 147/339 [34:21<31:06,  9.72s/it]"
     ]
    },
    {
     "name": "stdout",
     "output_type": "stream",
     "text": [
      "Training until validation scores don't improve for 5 rounds\n",
      "Early stopping, best iteration is:\n",
      "[789]\ttraining's rmse: 2485.92\tvalid_1's rmse: 3165.36\n",
      "Training until validation scores don't improve for 5 rounds\n",
      "Early stopping, best iteration is:\n",
      "[1728]\ttraining's rmse: 2021.86\tvalid_1's rmse: 21375.4\n"
     ]
    },
    {
     "name": "stderr",
     "output_type": "stream",
     "text": [
      " 44%|████▎     | 148/339 [34:23<23:49,  7.48s/it]"
     ]
    },
    {
     "name": "stdout",
     "output_type": "stream",
     "text": [
      "Training until validation scores don't improve for 5 rounds\n",
      "Early stopping, best iteration is:\n",
      "[206]\ttraining's rmse: 4219.67\tvalid_1's rmse: 2843.94\n",
      "Training until validation scores don't improve for 5 rounds\n",
      "Early stopping, best iteration is:\n",
      "[590]\ttraining's rmse: 2547.18\tvalid_1's rmse: 16116.4\n"
     ]
    },
    {
     "name": "stderr",
     "output_type": "stream",
     "text": [
      " 44%|████▍     | 149/339 [34:24<17:29,  5.52s/it]"
     ]
    },
    {
     "name": "stdout",
     "output_type": "stream",
     "text": [
      "Training until validation scores don't improve for 5 rounds\n",
      "Early stopping, best iteration is:\n",
      "[418]\ttraining's rmse: 1887.4\tvalid_1's rmse: 2359.69\n",
      "Training until validation scores don't improve for 5 rounds\n",
      "Early stopping, best iteration is:\n",
      "[485]\ttraining's rmse: 2000.96\tvalid_1's rmse: 2480.5\n",
      "Training until validation scores don't improve for 5 rounds\n",
      "Early stopping, best iteration is:\n",
      "[541]\ttraining's rmse: 2065.5\tvalid_1's rmse: 2095.32\n",
      "Training until validation scores don't improve for 5 rounds\n",
      "Early stopping, best iteration is:\n",
      "[614]\ttraining's rmse: 1974.45\tvalid_1's rmse: 2184.36\n",
      "Training until validation scores don't improve for 5 rounds\n",
      "Early stopping, best iteration is:\n",
      "[615]\ttraining's rmse: 2016.41\tvalid_1's rmse: 2643.52\n",
      "Training until validation scores don't improve for 5 rounds\n",
      "Early stopping, best iteration is:\n",
      "[696]\ttraining's rmse: 2053.09\tvalid_1's rmse: 2434\n",
      "Training until validation scores don't improve for 5 rounds\n",
      "Early stopping, best iteration is:\n",
      "[874]\ttraining's rmse: 1974.86\tvalid_1's rmse: 3260.77\n",
      "Training until validation scores don't improve for 5 rounds\n",
      "Early stopping, best iteration is:\n",
      "[875]\ttraining's rmse: 2174.06\tvalid_1's rmse: 6842.35\n",
      "Training until validation scores don't improve for 5 rounds\n",
      "Early stopping, best iteration is:\n",
      "[1416]\ttraining's rmse: 2587.89\tvalid_1's rmse: 8191.55\n",
      "Training until validation scores don't improve for 5 rounds\n",
      "Early stopping, best iteration is:\n",
      "[1914]\ttraining's rmse: 2855.38\tvalid_1's rmse: 10694.5\n"
     ]
    },
    {
     "name": "stderr",
     "output_type": "stream",
     "text": [
      " 44%|████▍     | 150/339 [34:42<29:34,  9.39s/it]"
     ]
    },
    {
     "name": "stdout",
     "output_type": "stream",
     "text": [
      "Training until validation scores don't improve for 5 rounds\n",
      "Early stopping, best iteration is:\n",
      "[266]\ttraining's rmse: 2422.42\tvalid_1's rmse: 3088.69\n",
      "Training until validation scores don't improve for 5 rounds\n",
      "Early stopping, best iteration is:\n",
      "[352]\ttraining's rmse: 2557.58\tvalid_1's rmse: 2227.69\n",
      "Training until validation scores don't improve for 5 rounds\n",
      "Early stopping, best iteration is:\n",
      "[492]\ttraining's rmse: 2292.5\tvalid_1's rmse: 1861.86\n",
      "Training until validation scores don't improve for 5 rounds\n",
      "Early stopping, best iteration is:\n",
      "[629]\ttraining's rmse: 2103.56\tvalid_1's rmse: 2536.9\n",
      "Training until validation scores don't improve for 5 rounds\n",
      "Early stopping, best iteration is:\n",
      "[645]\ttraining's rmse: 2176.49\tvalid_1's rmse: 2145.42\n",
      "Training until validation scores don't improve for 5 rounds\n",
      "Early stopping, best iteration is:\n",
      "[768]\ttraining's rmse: 2070.57\tvalid_1's rmse: 2471.52\n",
      "Training until validation scores don't improve for 5 rounds\n",
      "Early stopping, best iteration is:\n",
      "[1072]\ttraining's rmse: 2013.97\tvalid_1's rmse: 4201.69\n",
      "Training until validation scores don't improve for 5 rounds\n",
      "Early stopping, best iteration is:\n",
      "[1623]\ttraining's rmse: 2222.43\tvalid_1's rmse: 5184.67\n",
      "Training until validation scores don't improve for 5 rounds\n",
      "Early stopping, best iteration is:\n",
      "[1989]\ttraining's rmse: 2271.58\tvalid_1's rmse: 11900\n"
     ]
    },
    {
     "name": "stderr",
     "output_type": "stream",
     "text": [
      " 45%|████▍     | 151/339 [35:00<37:10, 11.86s/it]"
     ]
    },
    {
     "name": "stdout",
     "output_type": "stream",
     "text": [
      "Training until validation scores don't improve for 5 rounds\n",
      "Early stopping, best iteration is:\n",
      "[656]\ttraining's rmse: 6066.12\tvalid_1's rmse: 4489.3\n",
      "Training until validation scores don't improve for 5 rounds\n",
      "Early stopping, best iteration is:\n",
      "[926]\ttraining's rmse: 3898.94\tvalid_1's rmse: 22339.8\n"
     ]
    },
    {
     "name": "stderr",
     "output_type": "stream",
     "text": [
      " 45%|████▍     | 152/339 [35:01<26:46,  8.59s/it]"
     ]
    },
    {
     "name": "stdout",
     "output_type": "stream",
     "text": [
      "Training until validation scores don't improve for 5 rounds\n",
      "Early stopping, best iteration is:\n",
      "[214]\ttraining's rmse: 2530.59\tvalid_1's rmse: 3333.49\n",
      "Training until validation scores don't improve for 5 rounds\n",
      "Early stopping, best iteration is:\n",
      "[618]\ttraining's rmse: 1714.17\tvalid_1's rmse: 18577.4\n"
     ]
    },
    {
     "name": "stderr",
     "output_type": "stream",
     "text": [
      " 45%|████▌     | 153/339 [35:03<20:32,  6.62s/it]"
     ]
    },
    {
     "name": "stdout",
     "output_type": "stream",
     "text": [
      "Training until validation scores don't improve for 5 rounds\n",
      "Early stopping, best iteration is:\n",
      "[194]\ttraining's rmse: 2460.04\tvalid_1's rmse: 3525.71\n",
      "Training until validation scores don't improve for 5 rounds\n",
      "Early stopping, best iteration is:\n",
      "[744]\ttraining's rmse: 1476.75\tvalid_1's rmse: 21459.6\n"
     ]
    },
    {
     "name": "stderr",
     "output_type": "stream",
     "text": [
      " 45%|████▌     | 154/339 [35:07<17:41,  5.74s/it]"
     ]
    },
    {
     "name": "stdout",
     "output_type": "stream",
     "text": [
      "Training until validation scores don't improve for 5 rounds\n",
      "Early stopping, best iteration is:\n",
      "[1]\ttraining's rmse: 1448.06\tvalid_1's rmse: 3272.84\n",
      "Training until validation scores don't improve for 5 rounds\n",
      "Early stopping, best iteration is:\n",
      "[2]\ttraining's rmse: 2503.05\tvalid_1's rmse: 25142.7\n",
      "Training until validation scores don't improve for 5 rounds\n",
      "Early stopping, best iteration is:\n",
      "[335]\ttraining's rmse: 2715.95\tvalid_1's rmse: 3124.2\n",
      "Training until validation scores don't improve for 5 rounds\n",
      "Early stopping, best iteration is:\n",
      "[671]\ttraining's rmse: 1725.39\tvalid_1's rmse: 16608.9\n"
     ]
    },
    {
     "name": "stderr",
     "output_type": "stream",
     "text": [
      " 47%|████▋     | 159/339 [35:09<06:20,  2.12s/it]"
     ]
    },
    {
     "name": "stdout",
     "output_type": "stream",
     "text": [
      "Training until validation scores don't improve for 5 rounds\n",
      "Early stopping, best iteration is:\n",
      "[219]\ttraining's rmse: 3161.18\tvalid_1's rmse: 38123.3\n",
      "Training until validation scores don't improve for 5 rounds\n",
      "Early stopping, best iteration is:\n",
      "[1184]\ttraining's rmse: 3205.23\tvalid_1's rmse: 11261.3\n"
     ]
    },
    {
     "name": "stderr",
     "output_type": "stream",
     "text": [
      " 47%|████▋     | 161/339 [35:13<06:18,  2.13s/it]"
     ]
    },
    {
     "name": "stdout",
     "output_type": "stream",
     "text": [
      "Training until validation scores don't improve for 5 rounds\n",
      "Early stopping, best iteration is:\n",
      "[317]\ttraining's rmse: 2224.58\tvalid_1's rmse: 2519.16\n",
      "Training until validation scores don't improve for 5 rounds\n",
      "Early stopping, best iteration is:\n",
      "[586]\ttraining's rmse: 1703.22\tvalid_1's rmse: 21555.1\n"
     ]
    },
    {
     "name": "stderr",
     "output_type": "stream",
     "text": [
      " 48%|████▊     | 162/339 [35:16<06:36,  2.24s/it]"
     ]
    },
    {
     "name": "stdout",
     "output_type": "stream",
     "text": [
      "Training until validation scores don't improve for 5 rounds\n",
      "Early stopping, best iteration is:\n",
      "[290]\ttraining's rmse: 1828.15\tvalid_1's rmse: 1856.87\n",
      "Training until validation scores don't improve for 5 rounds\n",
      "Early stopping, best iteration is:\n",
      "[613]\ttraining's rmse: 1568\tvalid_1's rmse: 13072.3\n"
     ]
    },
    {
     "name": "stderr",
     "output_type": "stream",
     "text": [
      " 48%|████▊     | 163/339 [35:19<07:19,  2.50s/it]"
     ]
    },
    {
     "name": "stdout",
     "output_type": "stream",
     "text": [
      "Training until validation scores don't improve for 5 rounds\n",
      "Early stopping, best iteration is:\n",
      "[229]\ttraining's rmse: 2159.56\tvalid_1's rmse: 1775.32\n",
      "Training until validation scores don't improve for 5 rounds\n",
      "Early stopping, best iteration is:\n",
      "[412]\ttraining's rmse: 1587.42\tvalid_1's rmse: 2538.74\n",
      "Training until validation scores don't improve for 5 rounds\n",
      "Early stopping, best iteration is:\n",
      "[789]\ttraining's rmse: 1631.55\tvalid_1's rmse: 20978.7\n"
     ]
    },
    {
     "name": "stderr",
     "output_type": "stream",
     "text": [
      " 48%|████▊     | 164/339 [35:25<09:09,  3.14s/it]"
     ]
    },
    {
     "name": "stdout",
     "output_type": "stream",
     "text": [
      "Training until validation scores don't improve for 5 rounds\n",
      "Early stopping, best iteration is:\n",
      "[492]\ttraining's rmse: 1892.42\tvalid_1's rmse: 9252.33\n",
      "Training until validation scores don't improve for 5 rounds\n",
      "Early stopping, best iteration is:\n",
      "[955]\ttraining's rmse: 2219.9\tvalid_1's rmse: 19565.2\n"
     ]
    },
    {
     "name": "stderr",
     "output_type": "stream",
     "text": [
      " 49%|████▊     | 165/339 [35:31<11:01,  3.80s/it]"
     ]
    },
    {
     "name": "stdout",
     "output_type": "stream",
     "text": [
      "Training until validation scores don't improve for 5 rounds\n",
      "Early stopping, best iteration is:\n",
      "[439]\ttraining's rmse: 1575.96\tvalid_1's rmse: 3308.83\n",
      "Training until validation scores don't improve for 5 rounds\n",
      "Early stopping, best iteration is:\n",
      "[845]\ttraining's rmse: 1862.96\tvalid_1's rmse: 2265.37\n",
      "Training until validation scores don't improve for 5 rounds\n",
      "Early stopping, best iteration is:\n",
      "[876]\ttraining's rmse: 1939.82\tvalid_1's rmse: 1814.23\n",
      "Training until validation scores don't improve for 5 rounds\n",
      "Early stopping, best iteration is:\n",
      "[883]\ttraining's rmse: 1899.19\tvalid_1's rmse: 1549.95\n",
      "Training until validation scores don't improve for 5 rounds\n",
      "Early stopping, best iteration is:\n",
      "[1030]\ttraining's rmse: 1716.18\tvalid_1's rmse: 1376.34\n",
      "Training until validation scores don't improve for 5 rounds\n",
      "Early stopping, best iteration is:\n",
      "[1031]\ttraining's rmse: 1663.8\tvalid_1's rmse: 1717.74\n",
      "Training until validation scores don't improve for 5 rounds\n",
      "Early stopping, best iteration is:\n",
      "[1228]\ttraining's rmse: 1591.67\tvalid_1's rmse: 1900.34\n",
      "Training until validation scores don't improve for 5 rounds\n",
      "Early stopping, best iteration is:\n",
      "[1471]\ttraining's rmse: 1566.47\tvalid_1's rmse: 1819.88\n",
      "Training until validation scores don't improve for 5 rounds\n",
      "Early stopping, best iteration is:\n",
      "[1714]\ttraining's rmse: 1540.87\tvalid_1's rmse: 2342.43\n",
      "Training until validation scores don't improve for 5 rounds\n",
      "Early stopping, best iteration is:\n",
      "[1715]\ttraining's rmse: 1637.91\tvalid_1's rmse: 3920.86\n",
      "Training until validation scores don't improve for 5 rounds\n",
      "Early stopping, best iteration is:\n",
      "[2207]\ttraining's rmse: 1743.41\tvalid_1's rmse: 5357.27\n",
      "Training until validation scores don't improve for 5 rounds\n",
      "Early stopping, best iteration is:\n",
      "[2778]\ttraining's rmse: 2044.13\tvalid_1's rmse: 7199.82\n"
     ]
    },
    {
     "name": "stderr",
     "output_type": "stream",
     "text": [
      " 49%|████▉     | 166/339 [35:59<28:56, 10.04s/it]"
     ]
    },
    {
     "name": "stdout",
     "output_type": "stream",
     "text": [
      "Training until validation scores don't improve for 5 rounds\n",
      "Early stopping, best iteration is:\n",
      "[1]\ttraining's rmse: 4755.64\tvalid_1's rmse: 10517\n",
      "Training until validation scores don't improve for 5 rounds\n"
     ]
    },
    {
     "name": "stderr",
     "output_type": "stream",
     "text": [
      " 49%|████▉     | 167/339 [36:00<21:31,  7.51s/it]"
     ]
    },
    {
     "name": "stdout",
     "output_type": "stream",
     "text": [
      "Early stopping, best iteration is:\n",
      "[596]\ttraining's rmse: 2721.53\tvalid_1's rmse: 19186.2\n",
      "Training until validation scores don't improve for 5 rounds\n",
      "Early stopping, best iteration is:\n",
      "[516]\ttraining's rmse: 3810.57\tvalid_1's rmse: 8590.78\n",
      "Training until validation scores don't improve for 5 rounds\n",
      "Early stopping, best iteration is:\n",
      "[969]\ttraining's rmse: 4268.8\tvalid_1's rmse: 27016.3\n"
     ]
    },
    {
     "name": "stderr",
     "output_type": "stream",
     "text": [
      " 50%|████▉     | 168/339 [36:02<17:25,  6.11s/it]"
     ]
    },
    {
     "name": "stdout",
     "output_type": "stream",
     "text": [
      "Training until validation scores don't improve for 5 rounds\n",
      "Early stopping, best iteration is:\n",
      "[165]\ttraining's rmse: 4233.71\tvalid_1's rmse: 3501.57\n",
      "Training until validation scores don't improve for 5 rounds\n",
      "Early stopping, best iteration is:\n",
      "[421]\ttraining's rmse: 2068.5\tvalid_1's rmse: 17931.8\n"
     ]
    },
    {
     "name": "stderr",
     "output_type": "stream",
     "text": [
      " 51%|█████     | 173/339 [36:03<06:08,  2.22s/it]"
     ]
    },
    {
     "name": "stdout",
     "output_type": "stream",
     "text": [
      "Training until validation scores don't improve for 5 rounds\n",
      "Early stopping, best iteration is:\n",
      "[156]\ttraining's rmse: 6550.63\tvalid_1's rmse: 3563.76\n",
      "Training until validation scores don't improve for 5 rounds\n",
      "Early stopping, best iteration is:\n",
      "[399]\ttraining's rmse: 3518.42\tvalid_1's rmse: 8454.55\n"
     ]
    },
    {
     "name": "stderr",
     "output_type": "stream",
     "text": [
      " 51%|█████▏    | 174/339 [36:05<05:41,  2.07s/it]"
     ]
    },
    {
     "name": "stdout",
     "output_type": "stream",
     "text": [
      "Training until validation scores don't improve for 5 rounds\n",
      "Early stopping, best iteration is:\n",
      "[409]\ttraining's rmse: 1817.34\tvalid_1's rmse: 2037.44\n",
      "Training until validation scores don't improve for 5 rounds\n",
      "Early stopping, best iteration is:\n",
      "[620]\ttraining's rmse: 1642.11\tvalid_1's rmse: 1611.98\n",
      "Training until validation scores don't improve for 5 rounds\n",
      "Early stopping, best iteration is:\n",
      "[621]\ttraining's rmse: 1630.05\tvalid_1's rmse: 1952.01\n",
      "Training until validation scores don't improve for 5 rounds\n",
      "Early stopping, best iteration is:\n",
      "[622]\ttraining's rmse: 1714.23\tvalid_1's rmse: 4021.81\n",
      "Training until validation scores don't improve for 5 rounds\n",
      "Early stopping, best iteration is:\n",
      "[1094]\ttraining's rmse: 1879.41\tvalid_1's rmse: 14438.8\n"
     ]
    },
    {
     "name": "stderr",
     "output_type": "stream",
     "text": [
      " 52%|█████▏    | 176/339 [36:13<07:25,  2.74s/it]"
     ]
    },
    {
     "name": "stdout",
     "output_type": "stream",
     "text": [
      "Training until validation scores don't improve for 5 rounds\n",
      "Early stopping, best iteration is:\n",
      "[1123]\ttraining's rmse: 1612.21\tvalid_1's rmse: 13415.3\n",
      "Training until validation scores don't improve for 5 rounds\n",
      "Early stopping, best iteration is:\n",
      "[1184]\ttraining's rmse: 5584.05\tvalid_1's rmse: 2359.71\n",
      "Training until validation scores don't improve for 5 rounds\n",
      "Early stopping, best iteration is:\n",
      "[1543]\ttraining's rmse: 1986.97\tvalid_1's rmse: 2112.19\n",
      "Training until validation scores don't improve for 5 rounds\n",
      "Early stopping, best iteration is:\n",
      "[1544]\ttraining's rmse: 2016.84\tvalid_1's rmse: 3058.9\n",
      "Training until validation scores don't improve for 5 rounds\n",
      "Early stopping, best iteration is:\n",
      "[2088]\ttraining's rmse: 1726.86\tvalid_1's rmse: 2455.34\n",
      "Training until validation scores don't improve for 5 rounds\n",
      "Early stopping, best iteration is:\n",
      "[2089]\ttraining's rmse: 1865.47\tvalid_1's rmse: 5553.68\n",
      "Training until validation scores don't improve for 5 rounds\n",
      "Early stopping, best iteration is:\n",
      "[2213]\ttraining's rmse: 2285.74\tvalid_1's rmse: 11442.4\n"
     ]
    },
    {
     "name": "stderr",
     "output_type": "stream",
     "text": [
      " 52%|█████▏    | 177/339 [36:35<16:37,  6.15s/it]"
     ]
    },
    {
     "name": "stdout",
     "output_type": "stream",
     "text": [
      "Training until validation scores don't improve for 5 rounds\n",
      "Early stopping, best iteration is:\n",
      "[242]\ttraining's rmse: 5066.59\tvalid_1's rmse: 5196.48\n",
      "Training until validation scores don't improve for 5 rounds\n",
      "Early stopping, best iteration is:\n",
      "[317]\ttraining's rmse: 4774.13\tvalid_1's rmse: 5597.07\n",
      "Training until validation scores don't improve for 5 rounds\n",
      "Early stopping, best iteration is:\n",
      "[346]\ttraining's rmse: 4982.35\tvalid_1's rmse: 3027.01\n",
      "Training until validation scores don't improve for 5 rounds\n",
      "Early stopping, best iteration is:\n",
      "[347]\ttraining's rmse: 4570.86\tvalid_1's rmse: 2073.9\n",
      "Training until validation scores don't improve for 5 rounds\n",
      "Early stopping, best iteration is:\n",
      "[563]\ttraining's rmse: 4018.1\tvalid_1's rmse: 2401.67\n",
      "Training until validation scores don't improve for 5 rounds\n",
      "Early stopping, best iteration is:\n",
      "[585]\ttraining's rmse: 3783.49\tvalid_1's rmse: 2593.09\n",
      "Training until validation scores don't improve for 5 rounds\n",
      "Early stopping, best iteration is:\n",
      "[586]\ttraining's rmse: 3635.81\tvalid_1's rmse: 3250.61\n",
      "Training until validation scores don't improve for 5 rounds\n",
      "Early stopping, best iteration is:\n",
      "[587]\ttraining's rmse: 3589.21\tvalid_1's rmse: 3463.95\n",
      "Training until validation scores don't improve for 5 rounds\n",
      "Early stopping, best iteration is:\n",
      "[770]\ttraining's rmse: 3489.48\tvalid_1's rmse: 3964.17\n",
      "Training until validation scores don't improve for 5 rounds\n",
      "Early stopping, best iteration is:\n",
      "[810]\ttraining's rmse: 3520.73\tvalid_1's rmse: 5475.93\n",
      "Training until validation scores don't improve for 5 rounds\n",
      "Early stopping, best iteration is:\n",
      "[837]\ttraining's rmse: 3695.44\tvalid_1's rmse: 15272.7\n",
      "Training until validation scores don't improve for 5 rounds\n",
      "Early stopping, best iteration is:\n",
      "[1411]\ttraining's rmse: 4018.59\tvalid_1's rmse: 21431.7\n"
     ]
    },
    {
     "name": "stderr",
     "output_type": "stream",
     "text": [
      " 53%|█████▎    | 178/339 [36:48<20:42,  7.72s/it]"
     ]
    },
    {
     "name": "stdout",
     "output_type": "stream",
     "text": [
      "Training until validation scores don't improve for 5 rounds\n",
      "Early stopping, best iteration is:\n",
      "[385]\ttraining's rmse: 3132.45\tvalid_1's rmse: 1726.03\n",
      "Training until validation scores don't improve for 5 rounds\n",
      "Early stopping, best iteration is:\n",
      "[402]\ttraining's rmse: 2498.88\tvalid_1's rmse: 2690.96\n",
      "Training until validation scores don't improve for 5 rounds\n",
      "Early stopping, best iteration is:\n",
      "[403]\ttraining's rmse: 2562.18\tvalid_1's rmse: 17389.6\n"
     ]
    },
    {
     "name": "stderr",
     "output_type": "stream",
     "text": [
      " 53%|█████▎    | 179/339 [36:51<17:39,  6.62s/it]"
     ]
    },
    {
     "name": "stdout",
     "output_type": "stream",
     "text": [
      "Training until validation scores don't improve for 5 rounds\n",
      "Early stopping, best iteration is:\n",
      "[487]\ttraining's rmse: 2340.83\tvalid_1's rmse: 2501.44\n",
      "Training until validation scores don't improve for 5 rounds\n",
      "Early stopping, best iteration is:\n",
      "[1598]\ttraining's rmse: 1657.84\tvalid_1's rmse: 14979.6\n"
     ]
    },
    {
     "name": "stderr",
     "output_type": "stream",
     "text": [
      " 53%|█████▎    | 180/339 [37:02<20:11,  7.62s/it]"
     ]
    },
    {
     "name": "stdout",
     "output_type": "stream",
     "text": [
      "Training until validation scores don't improve for 5 rounds\n",
      "Early stopping, best iteration is:\n",
      "[413]\ttraining's rmse: 8374.09\tvalid_1's rmse: 6823.29\n",
      "Training until validation scores don't improve for 5 rounds\n",
      "Early stopping, best iteration is:\n",
      "[414]\ttraining's rmse: 7627\tvalid_1's rmse: 4359.43\n",
      "Training until validation scores don't improve for 5 rounds\n",
      "Early stopping, best iteration is:\n",
      "[670]\ttraining's rmse: 5904.53\tvalid_1's rmse: 3003.92\n",
      "Training until validation scores don't improve for 5 rounds\n",
      "Early stopping, best iteration is:\n",
      "[964]\ttraining's rmse: 5107.54\tvalid_1's rmse: 4927.45\n",
      "Training until validation scores don't improve for 5 rounds\n",
      "Early stopping, best iteration is:\n",
      "[965]\ttraining's rmse: 5067.5\tvalid_1's rmse: 8018.8\n",
      "Training until validation scores don't improve for 5 rounds\n",
      "Early stopping, best iteration is:\n",
      "[1285]\ttraining's rmse: 5189.82\tvalid_1's rmse: 10337.3\n",
      "Training until validation scores don't improve for 5 rounds\n",
      "Early stopping, best iteration is:\n",
      "[1601]\ttraining's rmse: 5546.87\tvalid_1's rmse: 24785.3\n"
     ]
    },
    {
     "name": "stderr",
     "output_type": "stream",
     "text": [
      " 53%|█████▎    | 181/339 [37:15<24:11,  9.19s/it]"
     ]
    },
    {
     "name": "stdout",
     "output_type": "stream",
     "text": [
      "Training until validation scores don't improve for 5 rounds\n",
      "Early stopping, best iteration is:\n",
      "[730]\ttraining's rmse: 3519.19\tvalid_1's rmse: 4351.13\n",
      "Training until validation scores don't improve for 5 rounds\n",
      "Early stopping, best iteration is:\n",
      "[1461]\ttraining's rmse: 2972.82\tvalid_1's rmse: 21693.4\n"
     ]
    },
    {
     "name": "stderr",
     "output_type": "stream",
     "text": [
      " 54%|█████▎    | 182/339 [37:21<21:37,  8.26s/it]"
     ]
    },
    {
     "name": "stdout",
     "output_type": "stream",
     "text": [
      "Training until validation scores don't improve for 5 rounds\n",
      "Early stopping, best iteration is:\n",
      "[353]\ttraining's rmse: 4593.72\tvalid_1's rmse: 3281.48\n",
      "Training until validation scores don't improve for 5 rounds\n",
      "Early stopping, best iteration is:\n",
      "[517]\ttraining's rmse: 3697.89\tvalid_1's rmse: 2435.04\n",
      "Training until validation scores don't improve for 5 rounds\n",
      "Early stopping, best iteration is:\n",
      "[858]\ttraining's rmse: 3116.37\tvalid_1's rmse: 6707.58\n",
      "Training until validation scores don't improve for 5 rounds\n",
      "Early stopping, best iteration is:\n",
      "[1214]\ttraining's rmse: 3675.6\tvalid_1's rmse: 21798\n"
     ]
    },
    {
     "name": "stderr",
     "output_type": "stream",
     "text": [
      " 54%|█████▍    | 183/339 [37:29<21:28,  8.26s/it]"
     ]
    },
    {
     "name": "stdout",
     "output_type": "stream",
     "text": [
      "Training until validation scores don't improve for 5 rounds\n",
      "Early stopping, best iteration is:\n",
      "[385]\ttraining's rmse: 7199.01\tvalid_1's rmse: 6932.87\n",
      "Training until validation scores don't improve for 5 rounds\n",
      "Early stopping, best iteration is:\n",
      "[394]\ttraining's rmse: 6983.39\tvalid_1's rmse: 4995.76\n",
      "Training until validation scores don't improve for 5 rounds\n",
      "Early stopping, best iteration is:\n",
      "[488]\ttraining's rmse: 5974.07\tvalid_1's rmse: 5013.76\n",
      "Training until validation scores don't improve for 5 rounds\n",
      "Early stopping, best iteration is:\n",
      "[531]\ttraining's rmse: 5632.87\tvalid_1's rmse: 9214.26\n",
      "Training until validation scores don't improve for 5 rounds\n",
      "Early stopping, best iteration is:\n",
      "[576]\ttraining's rmse: 6264.19\tvalid_1's rmse: 26231.7\n"
     ]
    },
    {
     "name": "stderr",
     "output_type": "stream",
     "text": [
      " 54%|█████▍    | 184/339 [37:34<18:45,  7.26s/it]"
     ]
    },
    {
     "name": "stdout",
     "output_type": "stream",
     "text": [
      "Training until validation scores don't improve for 5 rounds\n",
      "Early stopping, best iteration is:\n",
      "[492]\ttraining's rmse: 6884.47\tvalid_1's rmse: 10020.5\n",
      "Training until validation scores don't improve for 5 rounds\n",
      "Early stopping, best iteration is:\n",
      "[508]\ttraining's rmse: 8377.57\tvalid_1's rmse: 4929.53\n",
      "Training until validation scores don't improve for 5 rounds\n",
      "Early stopping, best iteration is:\n",
      "[618]\ttraining's rmse: 6879.73\tvalid_1's rmse: 3970.13\n",
      "Training until validation scores don't improve for 5 rounds\n",
      "Early stopping, best iteration is:\n",
      "[671]\ttraining's rmse: 6155.09\tvalid_1's rmse: 4024.19\n",
      "Training until validation scores don't improve for 5 rounds\n",
      "Early stopping, best iteration is:\n",
      "[705]\ttraining's rmse: 5716.89\tvalid_1's rmse: 8829.27\n",
      "Training until validation scores don't improve for 5 rounds\n",
      "Early stopping, best iteration is:\n",
      "[706]\ttraining's rmse: 6332.8\tvalid_1's rmse: 14110.5\n",
      "Training until validation scores don't improve for 5 rounds\n",
      "Early stopping, best iteration is:\n",
      "[903]\ttraining's rmse: 6890.73\tvalid_1's rmse: 15057.2\n",
      "Training until validation scores don't improve for 5 rounds\n",
      "Early stopping, best iteration is:\n",
      "[1103]\ttraining's rmse: 7433.39\tvalid_1's rmse: 24182.1\n"
     ]
    },
    {
     "name": "stderr",
     "output_type": "stream",
     "text": [
      " 55%|█████▍    | 186/339 [37:44<15:36,  6.12s/it]"
     ]
    },
    {
     "name": "stdout",
     "output_type": "stream",
     "text": [
      "Training until validation scores don't improve for 5 rounds\n",
      "Early stopping, best iteration is:\n",
      "[276]\ttraining's rmse: 6164.53\tvalid_1's rmse: 2810.46\n",
      "Training until validation scores don't improve for 5 rounds\n",
      "Early stopping, best iteration is:\n",
      "[677]\ttraining's rmse: 4107.15\tvalid_1's rmse: 6794.53\n",
      "Training until validation scores don't improve for 5 rounds\n",
      "Early stopping, best iteration is:\n",
      "[1080]\ttraining's rmse: 4194.56\tvalid_1's rmse: 15254.9\n"
     ]
    },
    {
     "name": "stderr",
     "output_type": "stream",
     "text": [
      " 55%|█████▌    | 187/339 [37:51<16:02,  6.33s/it]"
     ]
    },
    {
     "name": "stdout",
     "output_type": "stream",
     "text": [
      "Training until validation scores don't improve for 5 rounds\n",
      "Early stopping, best iteration is:\n",
      "[480]\ttraining's rmse: 8788.85\tvalid_1's rmse: 13775\n",
      "Training until validation scores don't improve for 5 rounds\n",
      "Early stopping, best iteration is:\n",
      "[543]\ttraining's rmse: 9941.42\tvalid_1's rmse: 9434.58\n",
      "Training until validation scores don't improve for 5 rounds\n",
      "Early stopping, best iteration is:\n",
      "[544]\ttraining's rmse: 9764.41\tvalid_1's rmse: 6549.68\n",
      "Training until validation scores don't improve for 5 rounds\n",
      "Early stopping, best iteration is:\n",
      "[996]\ttraining's rmse: 7940.97\tvalid_1's rmse: 5597.92\n",
      "Training until validation scores don't improve for 5 rounds\n",
      "Early stopping, best iteration is:\n",
      "[1057]\ttraining's rmse: 7417.63\tvalid_1's rmse: 5600.68\n",
      "Training until validation scores don't improve for 5 rounds\n",
      "Early stopping, best iteration is:\n",
      "[1086]\ttraining's rmse: 7086.91\tvalid_1's rmse: 4586.03\n",
      "Training until validation scores don't improve for 5 rounds\n",
      "Early stopping, best iteration is:\n",
      "[1109]\ttraining's rmse: 6742.95\tvalid_1's rmse: 5546.12\n",
      "Training until validation scores don't improve for 5 rounds\n",
      "Early stopping, best iteration is:\n",
      "[1110]\ttraining's rmse: 6603.04\tvalid_1's rmse: 7790.95\n",
      "Training until validation scores don't improve for 5 rounds\n",
      "Early stopping, best iteration is:\n",
      "[1206]\ttraining's rmse: 6415.72\tvalid_1's rmse: 10027.6\n",
      "Training until validation scores don't improve for 5 rounds\n",
      "Early stopping, best iteration is:\n",
      "[1212]\ttraining's rmse: 6817.89\tvalid_1's rmse: 10721.2\n",
      "Training until validation scores don't improve for 5 rounds\n",
      "Early stopping, best iteration is:\n",
      "[1355]\ttraining's rmse: 6828.87\tvalid_1's rmse: 15139.5\n",
      "Training until validation scores don't improve for 5 rounds\n",
      "Early stopping, best iteration is:\n",
      "[1534]\ttraining's rmse: 7258.1\tvalid_1's rmse: 12145.9\n",
      "Training until validation scores don't improve for 5 rounds\n",
      "Early stopping, best iteration is:\n",
      "[1559]\ttraining's rmse: 7671.59\tvalid_1's rmse: 16637\n",
      "Training until validation scores don't improve for 5 rounds\n",
      "Early stopping, best iteration is:\n",
      "[2041]\ttraining's rmse: 8031.26\tvalid_1's rmse: 22377.6\n"
     ]
    },
    {
     "name": "stderr",
     "output_type": "stream",
     "text": [
      " 55%|█████▌    | 188/339 [38:12<25:52, 10.28s/it]"
     ]
    },
    {
     "name": "stdout",
     "output_type": "stream",
     "text": [
      "Training until validation scores don't improve for 5 rounds\n",
      "Early stopping, best iteration is:\n",
      "[456]\ttraining's rmse: 2856.44\tvalid_1's rmse: 3947.8\n",
      "Training until validation scores don't improve for 5 rounds\n",
      "Early stopping, best iteration is:\n",
      "[1482]\ttraining's rmse: 2241.16\tvalid_1's rmse: 8378.69\n",
      "Training until validation scores don't improve for 5 rounds\n",
      "Early stopping, best iteration is:\n",
      "[2090]\ttraining's rmse: 3262.37\tvalid_1's rmse: 9880.41\n",
      "Training until validation scores don't improve for 5 rounds\n",
      "Early stopping, best iteration is:\n",
      "[2501]\ttraining's rmse: 3586.98\tvalid_1's rmse: 13665.8\n"
     ]
    },
    {
     "name": "stderr",
     "output_type": "stream",
     "text": [
      " 56%|█████▌    | 189/339 [38:32<31:52, 12.75s/it]"
     ]
    },
    {
     "name": "stdout",
     "output_type": "stream",
     "text": [
      "Training until validation scores don't improve for 5 rounds\n",
      "Early stopping, best iteration is:\n",
      "[319]\ttraining's rmse: 4125.11\tvalid_1's rmse: 2951.71\n",
      "Training until validation scores don't improve for 5 rounds\n",
      "Early stopping, best iteration is:\n",
      "[329]\ttraining's rmse: 3540.09\tvalid_1's rmse: 2191.09\n",
      "Training until validation scores don't improve for 5 rounds\n",
      "Early stopping, best iteration is:\n",
      "[330]\ttraining's rmse: 3149.82\tvalid_1's rmse: 2952.96\n",
      "Training until validation scores don't improve for 5 rounds\n",
      "Early stopping, best iteration is:\n",
      "[369]\ttraining's rmse: 2896.31\tvalid_1's rmse: 5121.84\n",
      "Training until validation scores don't improve for 5 rounds\n",
      "Early stopping, best iteration is:\n",
      "[671]\ttraining's rmse: 2864.39\tvalid_1's rmse: 22843.6\n"
     ]
    },
    {
     "name": "stderr",
     "output_type": "stream",
     "text": [
      " 56%|█████▌    | 190/339 [38:37<26:45, 10.77s/it]"
     ]
    },
    {
     "name": "stdout",
     "output_type": "stream",
     "text": [
      "Training until validation scores don't improve for 5 rounds\n",
      "Early stopping, best iteration is:\n",
      "[222]\ttraining's rmse: 5259.91\tvalid_1's rmse: 7649.87\n",
      "Training until validation scores don't improve for 5 rounds\n",
      "Early stopping, best iteration is:\n",
      "[223]\ttraining's rmse: 6534.89\tvalid_1's rmse: 6127.26\n",
      "Training until validation scores don't improve for 5 rounds\n",
      "Early stopping, best iteration is:\n",
      "[367]\ttraining's rmse: 5328.6\tvalid_1's rmse: 6104.38\n",
      "Training until validation scores don't improve for 5 rounds\n",
      "Early stopping, best iteration is:\n",
      "[524]\ttraining's rmse: 5185.21\tvalid_1's rmse: 3958.91\n",
      "Training until validation scores don't improve for 5 rounds\n",
      "Early stopping, best iteration is:\n",
      "[719]\ttraining's rmse: 4754.33\tvalid_1's rmse: 3541.96\n",
      "Training until validation scores don't improve for 5 rounds\n",
      "Early stopping, best iteration is:\n",
      "[822]\ttraining's rmse: 4471.24\tvalid_1's rmse: 3491.88\n",
      "Training until validation scores don't improve for 5 rounds\n",
      "Early stopping, best iteration is:\n",
      "[837]\ttraining's rmse: 4327.03\tvalid_1's rmse: 3219.33\n",
      "Training until validation scores don't improve for 5 rounds\n",
      "Early stopping, best iteration is:\n",
      "[870]\ttraining's rmse: 4164.57\tvalid_1's rmse: 2687.31\n",
      "Training until validation scores don't improve for 5 rounds\n",
      "Early stopping, best iteration is:\n",
      "[871]\ttraining's rmse: 4026.19\tvalid_1's rmse: 3852.57\n",
      "Training until validation scores don't improve for 5 rounds\n",
      "Early stopping, best iteration is:\n",
      "[917]\ttraining's rmse: 3959.96\tvalid_1's rmse: 4660.28\n",
      "Training until validation scores don't improve for 5 rounds\n",
      "Early stopping, best iteration is:\n",
      "[919]\ttraining's rmse: 4025.2\tvalid_1's rmse: 5799.61\n",
      "Training until validation scores don't improve for 5 rounds\n",
      "Early stopping, best iteration is:\n",
      "[920]\ttraining's rmse: 4198.67\tvalid_1's rmse: 4534.94\n",
      "Training until validation scores don't improve for 5 rounds\n",
      "Early stopping, best iteration is:\n",
      "[1221]\ttraining's rmse: 3936.3\tvalid_1's rmse: 5904.47\n",
      "Training until validation scores don't improve for 5 rounds\n",
      "Early stopping, best iteration is:\n",
      "[1222]\ttraining's rmse: 4106.59\tvalid_1's rmse: 8860.51\n",
      "Training until validation scores don't improve for 5 rounds\n",
      "Early stopping, best iteration is:\n",
      "[1223]\ttraining's rmse: 4574.74\tvalid_1's rmse: 11993.2\n",
      "Training until validation scores don't improve for 5 rounds\n",
      "Early stopping, best iteration is:\n",
      "[1553]\ttraining's rmse: 4681.31\tvalid_1's rmse: 9917.26\n",
      "Training until validation scores don't improve for 5 rounds\n",
      "Early stopping, best iteration is:\n",
      "[1838]\ttraining's rmse: 4910.09\tvalid_1's rmse: 10861.5\n"
     ]
    },
    {
     "name": "stderr",
     "output_type": "stream",
     "text": [
      " 56%|█████▋    | 191/339 [38:58<33:10, 13.45s/it]"
     ]
    },
    {
     "name": "stdout",
     "output_type": "stream",
     "text": [
      "Training until validation scores don't improve for 5 rounds\n",
      "Early stopping, best iteration is:\n",
      "[305]\ttraining's rmse: 1289.95\tvalid_1's rmse: 2138.93\n",
      "Training until validation scores don't improve for 5 rounds\n",
      "Early stopping, best iteration is:\n",
      "[738]\ttraining's rmse: 1303.98\tvalid_1's rmse: 4041.68\n",
      "Training until validation scores don't improve for 5 rounds\n",
      "Early stopping, best iteration is:\n",
      "[897]\ttraining's rmse: 1444.25\tvalid_1's rmse: 1447.08\n",
      "Training until validation scores don't improve for 5 rounds\n",
      "Early stopping, best iteration is:\n",
      "[941]\ttraining's rmse: 1374.38\tvalid_1's rmse: 1321.77\n",
      "Training until validation scores don't improve for 5 rounds\n",
      "Early stopping, best iteration is:\n",
      "[995]\ttraining's rmse: 1302.38\tvalid_1's rmse: 1362.42\n",
      "Training until validation scores don't improve for 5 rounds\n",
      "Early stopping, best iteration is:\n",
      "[1148]\ttraining's rmse: 1231.24\tvalid_1's rmse: 2047.1\n",
      "Training until validation scores don't improve for 5 rounds\n",
      "Early stopping, best iteration is:\n",
      "[1534]\ttraining's rmse: 1151.34\tvalid_1's rmse: 1507.42\n",
      "Training until validation scores don't improve for 5 rounds\n",
      "Early stopping, best iteration is:\n",
      "[1535]\ttraining's rmse: 1200.95\tvalid_1's rmse: 1631.15\n",
      "Training until validation scores don't improve for 5 rounds\n",
      "Early stopping, best iteration is:\n",
      "[1577]\ttraining's rmse: 1221.81\tvalid_1's rmse: 2212.28\n",
      "Training until validation scores don't improve for 5 rounds\n",
      "Early stopping, best iteration is:\n",
      "[1578]\ttraining's rmse: 1352.19\tvalid_1's rmse: 3183.29\n",
      "Training until validation scores don't improve for 5 rounds\n",
      "Early stopping, best iteration is:\n",
      "[1902]\ttraining's rmse: 1389.03\tvalid_1's rmse: 3752.9\n",
      "Training until validation scores don't improve for 5 rounds\n",
      "Early stopping, best iteration is:\n",
      "[2311]\ttraining's rmse: 1482.13\tvalid_1's rmse: 6538.36\n",
      "Training until validation scores don't improve for 5 rounds\n",
      "Early stopping, best iteration is:\n",
      "[2921]\ttraining's rmse: 1696.27\tvalid_1's rmse: 5413.95\n"
     ]
    },
    {
     "name": "stderr",
     "output_type": "stream",
     "text": [
      " 57%|█████▋    | 192/339 [39:26<43:10, 17.62s/it]"
     ]
    },
    {
     "name": "stdout",
     "output_type": "stream",
     "text": [
      "Training until validation scores don't improve for 5 rounds\n",
      "Early stopping, best iteration is:\n",
      "[311]\ttraining's rmse: 5050.5\tvalid_1's rmse: 4801.6\n",
      "Training until validation scores don't improve for 5 rounds\n",
      "Early stopping, best iteration is:\n",
      "[357]\ttraining's rmse: 4616.72\tvalid_1's rmse: 7563.1\n",
      "Training until validation scores don't improve for 5 rounds\n",
      "Early stopping, best iteration is:\n",
      "[358]\ttraining's rmse: 5745.92\tvalid_1's rmse: 5382.17\n",
      "Training until validation scores don't improve for 5 rounds\n",
      "Early stopping, best iteration is:\n",
      "[507]\ttraining's rmse: 4705.66\tvalid_1's rmse: 4302.14\n",
      "Training until validation scores don't improve for 5 rounds\n",
      "Early stopping, best iteration is:\n",
      "[662]\ttraining's rmse: 4381.13\tvalid_1's rmse: 3094.65\n",
      "Training until validation scores don't improve for 5 rounds\n",
      "Early stopping, best iteration is:\n",
      "[663]\ttraining's rmse: 4192.83\tvalid_1's rmse: 3194.5\n",
      "Training until validation scores don't improve for 5 rounds\n",
      "Early stopping, best iteration is:\n",
      "[664]\ttraining's rmse: 4063.6\tvalid_1's rmse: 3057.31\n",
      "Training until validation scores don't improve for 5 rounds\n",
      "Early stopping, best iteration is:\n",
      "[708]\ttraining's rmse: 3889\tvalid_1's rmse: 2666.47\n",
      "Training until validation scores don't improve for 5 rounds\n",
      "Early stopping, best iteration is:\n",
      "[1293]\ttraining's rmse: 3519.89\tvalid_1's rmse: 2700.48\n",
      "Training until validation scores don't improve for 5 rounds\n",
      "Early stopping, best iteration is:\n",
      "[1294]\ttraining's rmse: 3446.21\tvalid_1's rmse: 2862.61\n",
      "Training until validation scores don't improve for 5 rounds\n",
      "Early stopping, best iteration is:\n",
      "[1309]\ttraining's rmse: 3388.3\tvalid_1's rmse: 2118.9\n",
      "Training until validation scores don't improve for 5 rounds\n",
      "Early stopping, best iteration is:\n",
      "[1311]\ttraining's rmse: 3300.35\tvalid_1's rmse: 2845.52\n",
      "Training until validation scores don't improve for 5 rounds\n",
      "Early stopping, best iteration is:\n",
      "[1319]\ttraining's rmse: 3261.7\tvalid_1's rmse: 3214.52\n",
      "Training until validation scores don't improve for 5 rounds\n",
      "Early stopping, best iteration is:\n",
      "[1320]\ttraining's rmse: 3256.98\tvalid_1's rmse: 3557.2\n",
      "Training until validation scores don't improve for 5 rounds\n",
      "Early stopping, best iteration is:\n",
      "[1385]\ttraining's rmse: 3232.32\tvalid_1's rmse: 5231.36\n",
      "Training until validation scores don't improve for 5 rounds\n",
      "Early stopping, best iteration is:\n",
      "[1401]\ttraining's rmse: 3370.12\tvalid_1's rmse: 3377.7\n",
      "Training until validation scores don't improve for 5 rounds\n",
      "Early stopping, best iteration is:\n",
      "[1402]\ttraining's rmse: 3369.35\tvalid_1's rmse: 6006.28\n",
      "Training until validation scores don't improve for 5 rounds\n",
      "Early stopping, best iteration is:\n",
      "[1448]\ttraining's rmse: 3493.27\tvalid_1's rmse: 4330.64\n",
      "Training until validation scores don't improve for 5 rounds\n",
      "Early stopping, best iteration is:\n",
      "[1708]\ttraining's rmse: 3410.9\tvalid_1's rmse: 9025.33\n",
      "Training until validation scores don't improve for 5 rounds\n",
      "Early stopping, best iteration is:\n",
      "[1709]\ttraining's rmse: 3885.47\tvalid_1's rmse: 8516.26\n",
      "Training until validation scores don't improve for 5 rounds\n",
      "Early stopping, best iteration is:\n",
      "[1945]\ttraining's rmse: 3877.88\tvalid_1's rmse: 9171.91\n",
      "Training until validation scores don't improve for 5 rounds\n",
      "Early stopping, best iteration is:\n",
      "[1994]\ttraining's rmse: 4187.28\tvalid_1's rmse: 12973.5\n",
      "Training until validation scores don't improve for 5 rounds\n",
      "Early stopping, best iteration is:\n",
      "[2308]\ttraining's rmse: 4344.39\tvalid_1's rmse: 9425.17\n"
     ]
    },
    {
     "name": "stderr",
     "output_type": "stream",
     "text": [
      " 57%|█████▋    | 193/339 [39:58<53:14, 21.88s/it]"
     ]
    },
    {
     "name": "stdout",
     "output_type": "stream",
     "text": [
      "Training until validation scores don't improve for 5 rounds\n",
      "Early stopping, best iteration is:\n",
      "[389]\ttraining's rmse: 2269.3\tvalid_1's rmse: 2592.38\n",
      "Training until validation scores don't improve for 5 rounds\n",
      "Early stopping, best iteration is:\n",
      "[409]\ttraining's rmse: 2345.93\tvalid_1's rmse: 25063.5\n"
     ]
    },
    {
     "name": "stderr",
     "output_type": "stream",
     "text": [
      " 57%|█████▋    | 194/339 [40:00<38:55, 16.11s/it]"
     ]
    },
    {
     "name": "stdout",
     "output_type": "stream",
     "text": [
      "Training until validation scores don't improve for 5 rounds\n",
      "Early stopping, best iteration is:\n",
      "[463]\ttraining's rmse: 1668.46\tvalid_1's rmse: 2634.14\n",
      "Training until validation scores don't improve for 5 rounds\n",
      "Early stopping, best iteration is:\n",
      "[938]\ttraining's rmse: 1626.05\tvalid_1's rmse: 22863.4\n"
     ]
    },
    {
     "name": "stderr",
     "output_type": "stream",
     "text": [
      " 58%|█████▊    | 195/339 [40:05<30:40, 12.78s/it]"
     ]
    },
    {
     "name": "stdout",
     "output_type": "stream",
     "text": [
      "Training until validation scores don't improve for 5 rounds\n",
      "Early stopping, best iteration is:\n",
      "[260]\ttraining's rmse: 5421.44\tvalid_1's rmse: 3586.85\n",
      "Training until validation scores don't improve for 5 rounds\n",
      "Early stopping, best iteration is:\n",
      "[803]\ttraining's rmse: 2704.79\tvalid_1's rmse: 5465.04\n",
      "Training until validation scores don't improve for 5 rounds\n",
      "Early stopping, best iteration is:\n",
      "[1911]\ttraining's rmse: 2034.36\tvalid_1's rmse: 17502.5\n"
     ]
    },
    {
     "name": "stderr",
     "output_type": "stream",
     "text": [
      " 58%|█████▊    | 196/339 [40:16<29:25, 12.35s/it]"
     ]
    },
    {
     "name": "stdout",
     "output_type": "stream",
     "text": [
      "Training until validation scores don't improve for 5 rounds\n",
      "Early stopping, best iteration is:\n",
      "[241]\ttraining's rmse: 2262.85\tvalid_1's rmse: 1928.81\n",
      "Training until validation scores don't improve for 5 rounds\n",
      "Early stopping, best iteration is:\n",
      "[1191]\ttraining's rmse: 1429.94\tvalid_1's rmse: 1561.36\n",
      "Training until validation scores don't improve for 5 rounds\n",
      "Early stopping, best iteration is:\n",
      "[1242]\ttraining's rmse: 1426.58\tvalid_1's rmse: 2186.84\n",
      "Training until validation scores don't improve for 5 rounds\n",
      "Early stopping, best iteration is:\n",
      "[1243]\ttraining's rmse: 1647.04\tvalid_1's rmse: 5914.61\n",
      "Training until validation scores don't improve for 5 rounds\n",
      "Early stopping, best iteration is:\n",
      "[1726]\ttraining's rmse: 1812.15\tvalid_1's rmse: 10684.1\n"
     ]
    },
    {
     "name": "stderr",
     "output_type": "stream",
     "text": [
      " 58%|█████▊    | 197/339 [40:28<28:50, 12.19s/it]"
     ]
    },
    {
     "name": "stdout",
     "output_type": "stream",
     "text": [
      "Training until validation scores don't improve for 5 rounds\n",
      "Early stopping, best iteration is:\n",
      "[602]\ttraining's rmse: 1976.88\tvalid_1's rmse: 4828.66\n",
      "Training until validation scores don't improve for 5 rounds\n",
      "Early stopping, best iteration is:\n",
      "[1156]\ttraining's rmse: 1470.66\tvalid_1's rmse: 28042.6\n"
     ]
    },
    {
     "name": "stderr",
     "output_type": "stream",
     "text": [
      " 58%|█████▊    | 198/339 [40:33<23:26,  9.98s/it]"
     ]
    },
    {
     "name": "stdout",
     "output_type": "stream",
     "text": [
      "Training until validation scores don't improve for 5 rounds\n",
      "Early stopping, best iteration is:\n",
      "[400]\ttraining's rmse: 2889.9\tvalid_1's rmse: 2667.03\n",
      "Training until validation scores don't improve for 5 rounds\n",
      "Early stopping, best iteration is:\n",
      "[401]\ttraining's rmse: 2777.69\tvalid_1's rmse: 24501\n"
     ]
    },
    {
     "name": "stderr",
     "output_type": "stream",
     "text": [
      " 59%|█████▊    | 199/339 [40:35<18:09,  7.78s/it]"
     ]
    },
    {
     "name": "stdout",
     "output_type": "stream",
     "text": [
      "Training until validation scores don't improve for 5 rounds\n",
      "Early stopping, best iteration is:\n",
      "[400]\ttraining's rmse: 2537.75\tvalid_1's rmse: 2526.15\n",
      "Training until validation scores don't improve for 5 rounds\n",
      "Early stopping, best iteration is:\n",
      "[932]\ttraining's rmse: 2140.02\tvalid_1's rmse: 25714.5\n"
     ]
    },
    {
     "name": "stderr",
     "output_type": "stream",
     "text": [
      " 59%|█████▉    | 200/339 [40:41<16:40,  7.19s/it]"
     ]
    },
    {
     "name": "stdout",
     "output_type": "stream",
     "text": [
      "Training until validation scores don't improve for 5 rounds\n",
      "Early stopping, best iteration is:\n",
      "[167]\ttraining's rmse: 5614.2\tvalid_1's rmse: 4691.17\n",
      "Training until validation scores don't improve for 5 rounds\n",
      "Early stopping, best iteration is:\n",
      "[168]\ttraining's rmse: 5136.2\tvalid_1's rmse: 24046.8\n"
     ]
    },
    {
     "name": "stderr",
     "output_type": "stream",
     "text": [
      " 59%|█████▉    | 201/339 [40:42<11:57,  5.20s/it]"
     ]
    },
    {
     "name": "stdout",
     "output_type": "stream",
     "text": [
      "Training until validation scores don't improve for 5 rounds\n",
      "Early stopping, best iteration is:\n",
      "[628]\ttraining's rmse: 1169.03\tvalid_1's rmse: 2341.55\n",
      "Training until validation scores don't improve for 5 rounds\n",
      "Early stopping, best iteration is:\n",
      "[1110]\ttraining's rmse: 1131.84\tvalid_1's rmse: 24388.3\n"
     ]
    },
    {
     "name": "stderr",
     "output_type": "stream",
     "text": [
      " 60%|█████▉    | 202/339 [40:47<11:59,  5.25s/it]"
     ]
    },
    {
     "name": "stdout",
     "output_type": "stream",
     "text": [
      "Training until validation scores don't improve for 5 rounds\n",
      "Early stopping, best iteration is:\n",
      "[1]\ttraining's rmse: 862.568\tvalid_1's rmse: 2560.18\n",
      "Training until validation scores don't improve for 5 rounds\n"
     ]
    },
    {
     "name": "stderr",
     "output_type": "stream",
     "text": [
      " 60%|█████▉    | 203/339 [40:48<08:41,  3.84s/it]"
     ]
    },
    {
     "name": "stdout",
     "output_type": "stream",
     "text": [
      "Early stopping, best iteration is:\n",
      "[913]\ttraining's rmse: 771.744\tvalid_1's rmse: 1243.61\n",
      "Training until validation scores don't improve for 5 rounds\n",
      "Early stopping, best iteration is:\n",
      "[135]\ttraining's rmse: 3504.25\tvalid_1's rmse: 2452.33\n",
      "Training until validation scores don't improve for 5 rounds\n",
      "Early stopping, best iteration is:\n",
      "[315]\ttraining's rmse: 2377.28\tvalid_1's rmse: 24371\n"
     ]
    },
    {
     "name": "stderr",
     "output_type": "stream",
     "text": [
      " 60%|██████    | 204/339 [40:48<06:17,  2.80s/it]"
     ]
    },
    {
     "name": "stdout",
     "output_type": "stream",
     "text": [
      "Training until validation scores don't improve for 5 rounds\n",
      "Early stopping, best iteration is:\n",
      "[377]\ttraining's rmse: 1928.88\tvalid_1's rmse: 2465.06\n",
      "Training until validation scores don't improve for 5 rounds\n",
      "Early stopping, best iteration is:\n",
      "[816]\ttraining's rmse: 1575.95\tvalid_1's rmse: 27686\n"
     ]
    },
    {
     "name": "stderr",
     "output_type": "stream",
     "text": [
      " 60%|██████    | 205/339 [40:52<07:12,  3.23s/it]"
     ]
    },
    {
     "name": "stdout",
     "output_type": "stream",
     "text": [
      "Training until validation scores don't improve for 5 rounds\n",
      "Early stopping, best iteration is:\n",
      "[483]\ttraining's rmse: 1450.56\tvalid_1's rmse: 1655.21\n",
      "Training until validation scores don't improve for 5 rounds\n",
      "Early stopping, best iteration is:\n",
      "[693]\ttraining's rmse: 1327.26\tvalid_1's rmse: 18397.3\n"
     ]
    },
    {
     "name": "stderr",
     "output_type": "stream",
     "text": [
      " 61%|██████    | 206/339 [40:57<07:48,  3.53s/it]"
     ]
    },
    {
     "name": "stdout",
     "output_type": "stream",
     "text": [
      "Training until validation scores don't improve for 5 rounds\n",
      "Early stopping, best iteration is:\n",
      "[424]\ttraining's rmse: 1730.38\tvalid_1's rmse: 1919.55\n",
      "Training until validation scores don't improve for 5 rounds\n",
      "Early stopping, best iteration is:\n",
      "[458]\ttraining's rmse: 1736.05\tvalid_1's rmse: 1589.69\n",
      "Training until validation scores don't improve for 5 rounds\n",
      "Early stopping, best iteration is:\n",
      "[933]\ttraining's rmse: 1455\tvalid_1's rmse: 1642.16\n",
      "Training until validation scores don't improve for 5 rounds\n",
      "Early stopping, best iteration is:\n",
      "[955]\ttraining's rmse: 1492.46\tvalid_1's rmse: 2308.33\n",
      "Training until validation scores don't improve for 5 rounds\n",
      "Early stopping, best iteration is:\n",
      "[956]\ttraining's rmse: 1685.94\tvalid_1's rmse: 8648.13\n",
      "Training until validation scores don't improve for 5 rounds\n",
      "Early stopping, best iteration is:\n",
      "[2404]\ttraining's rmse: 2009.71\tvalid_1's rmse: 10757.1\n",
      "Training until validation scores don't improve for 5 rounds\n",
      "Early stopping, best iteration is:\n",
      "[2872]\ttraining's rmse: 2593.31\tvalid_1's rmse: 9889.77\n"
     ]
    },
    {
     "name": "stderr",
     "output_type": "stream",
     "text": [
      " 61%|██████    | 207/339 [41:18<19:30,  8.87s/it]"
     ]
    },
    {
     "name": "stdout",
     "output_type": "stream",
     "text": [
      "Training until validation scores don't improve for 5 rounds\n",
      "Early stopping, best iteration is:\n",
      "[330]\ttraining's rmse: 2025.72\tvalid_1's rmse: 2361.65\n",
      "Training until validation scores don't improve for 5 rounds\n",
      "Early stopping, best iteration is:\n",
      "[768]\ttraining's rmse: 1318.56\tvalid_1's rmse: 15338.6\n"
     ]
    },
    {
     "name": "stderr",
     "output_type": "stream",
     "text": [
      " 61%|██████▏   | 208/339 [41:21<15:48,  7.24s/it]"
     ]
    },
    {
     "name": "stdout",
     "output_type": "stream",
     "text": [
      "Training until validation scores don't improve for 5 rounds\n",
      "Early stopping, best iteration is:\n",
      "[367]\ttraining's rmse: 2060.68\tvalid_1's rmse: 2286.8\n",
      "Training until validation scores don't improve for 5 rounds\n",
      "Early stopping, best iteration is:\n",
      "[1325]\ttraining's rmse: 1731.32\tvalid_1's rmse: 27058.6\n"
     ]
    },
    {
     "name": "stderr",
     "output_type": "stream",
     "text": [
      " 62%|██████▏   | 209/339 [41:29<15:49,  7.30s/it]"
     ]
    },
    {
     "name": "stdout",
     "output_type": "stream",
     "text": [
      "Training until validation scores don't improve for 5 rounds\n",
      "Early stopping, best iteration is:\n",
      "[478]\ttraining's rmse: 8419.55\tvalid_1's rmse: 7270.2\n",
      "Training until validation scores don't improve for 5 rounds\n",
      "Early stopping, best iteration is:\n",
      "[713]\ttraining's rmse: 7075.37\tvalid_1's rmse: 6193.91\n",
      "Training until validation scores don't improve for 5 rounds\n",
      "Early stopping, best iteration is:\n",
      "[729]\ttraining's rmse: 6688.54\tvalid_1's rmse: 6857.88\n",
      "Training until validation scores don't improve for 5 rounds\n",
      "Early stopping, best iteration is:\n",
      "[805]\ttraining's rmse: 6319.5\tvalid_1's rmse: 11333.4\n",
      "Training until validation scores don't improve for 5 rounds\n",
      "Early stopping, best iteration is:\n",
      "[1115]\ttraining's rmse: 6310.6\tvalid_1's rmse: 33701.2\n"
     ]
    },
    {
     "name": "stderr",
     "output_type": "stream",
     "text": [
      " 62%|██████▏   | 210/339 [41:36<15:47,  7.35s/it]"
     ]
    },
    {
     "name": "stdout",
     "output_type": "stream",
     "text": [
      "Training until validation scores don't improve for 5 rounds\n",
      "Early stopping, best iteration is:\n",
      "[474]\ttraining's rmse: 1887.16\tvalid_1's rmse: 2481.38\n",
      "Training until validation scores don't improve for 5 rounds\n",
      "Early stopping, best iteration is:\n",
      "[475]\ttraining's rmse: 2195.85\tvalid_1's rmse: 20682.1\n"
     ]
    },
    {
     "name": "stderr",
     "output_type": "stream",
     "text": [
      " 63%|██████▎   | 212/339 [41:38<09:05,  4.30s/it]"
     ]
    },
    {
     "name": "stdout",
     "output_type": "stream",
     "text": [
      "Training until validation scores don't improve for 5 rounds\n",
      "Early stopping, best iteration is:\n",
      "[223]\ttraining's rmse: 1866.72\tvalid_1's rmse: 2222.46\n",
      "Training until validation scores don't improve for 5 rounds\n",
      "Early stopping, best iteration is:\n",
      "[281]\ttraining's rmse: 1835.06\tvalid_1's rmse: 26212.3\n"
     ]
    },
    {
     "name": "stderr",
     "output_type": "stream",
     "text": [
      " 63%|██████▎   | 213/339 [41:40<07:46,  3.70s/it]"
     ]
    },
    {
     "name": "stdout",
     "output_type": "stream",
     "text": [
      "Training until validation scores don't improve for 5 rounds\n",
      "Early stopping, best iteration is:\n",
      "[312]\ttraining's rmse: 2644.95\tvalid_1's rmse: 2552.65\n",
      "Training until validation scores don't improve for 5 rounds\n",
      "Early stopping, best iteration is:\n",
      "[1170]\ttraining's rmse: 1692.8\tvalid_1's rmse: 22812.3\n"
     ]
    },
    {
     "name": "stderr",
     "output_type": "stream",
     "text": [
      " 63%|██████▎   | 214/339 [41:44<07:56,  3.81s/it]"
     ]
    },
    {
     "name": "stdout",
     "output_type": "stream",
     "text": [
      "Training until validation scores don't improve for 5 rounds\n",
      "Early stopping, best iteration is:\n",
      "[319]\ttraining's rmse: 2535.15\tvalid_1's rmse: 3066.82\n",
      "Training until validation scores don't improve for 5 rounds\n",
      "Early stopping, best iteration is:\n",
      "[604]\ttraining's rmse: 1703.37\tvalid_1's rmse: 21091.3\n"
     ]
    },
    {
     "name": "stderr",
     "output_type": "stream",
     "text": [
      " 63%|██████▎   | 215/339 [41:45<06:32,  3.16s/it]"
     ]
    },
    {
     "name": "stdout",
     "output_type": "stream",
     "text": [
      "Training until validation scores don't improve for 5 rounds\n",
      "Early stopping, best iteration is:\n",
      "[403]\ttraining's rmse: 2137.73\tvalid_1's rmse: 2239.57\n",
      "Training until validation scores don't improve for 5 rounds\n",
      "Early stopping, best iteration is:\n",
      "[404]\ttraining's rmse: 2187.26\tvalid_1's rmse: 31298.3\n"
     ]
    },
    {
     "name": "stderr",
     "output_type": "stream",
     "text": [
      " 64%|██████▎   | 216/339 [41:48<06:18,  3.08s/it]"
     ]
    },
    {
     "name": "stdout",
     "output_type": "stream",
     "text": [
      "Training until validation scores don't improve for 5 rounds\n",
      "Early stopping, best iteration is:\n",
      "[523]\ttraining's rmse: 2877.64\tvalid_1's rmse: 3654.21\n",
      "Training until validation scores don't improve for 5 rounds\n",
      "Early stopping, best iteration is:\n",
      "[524]\ttraining's rmse: 3275.06\tvalid_1's rmse: 24119\n"
     ]
    },
    {
     "name": "stderr",
     "output_type": "stream",
     "text": [
      " 64%|██████▍   | 217/339 [41:50<05:35,  2.75s/it]"
     ]
    },
    {
     "name": "stdout",
     "output_type": "stream",
     "text": [
      "Training until validation scores don't improve for 5 rounds\n",
      "Early stopping, best iteration is:\n",
      "[260]\ttraining's rmse: 4441.44\tvalid_1's rmse: 4272.61\n",
      "Training until validation scores don't improve for 5 rounds\n",
      "Early stopping, best iteration is:\n",
      "[528]\ttraining's rmse: 3200.97\tvalid_1's rmse: 26961.6\n"
     ]
    },
    {
     "name": "stderr",
     "output_type": "stream",
     "text": [
      " 64%|██████▍   | 218/339 [41:52<05:26,  2.69s/it]"
     ]
    },
    {
     "name": "stdout",
     "output_type": "stream",
     "text": [
      "Training until validation scores don't improve for 5 rounds\n",
      "Early stopping, best iteration is:\n",
      "[294]\ttraining's rmse: 3216.75\tvalid_1's rmse: 3350.41\n",
      "Training until validation scores don't improve for 5 rounds\n",
      "Early stopping, best iteration is:\n",
      "[348]\ttraining's rmse: 3066.62\tvalid_1's rmse: 25181.5\n"
     ]
    },
    {
     "name": "stderr",
     "output_type": "stream",
     "text": [
      " 65%|██████▍   | 219/339 [41:54<04:49,  2.41s/it]"
     ]
    },
    {
     "name": "stdout",
     "output_type": "stream",
     "text": [
      "Training until validation scores don't improve for 5 rounds\n",
      "Early stopping, best iteration is:\n",
      "[317]\ttraining's rmse: 12519.8\tvalid_1's rmse: 14468\n",
      "Training until validation scores don't improve for 5 rounds\n",
      "Early stopping, best iteration is:\n",
      "[1005]\ttraining's rmse: 7028.06\tvalid_1's rmse: 45706.9\n"
     ]
    },
    {
     "name": "stderr",
     "output_type": "stream",
     "text": [
      " 65%|██████▌   | 221/339 [41:57<03:43,  1.89s/it]"
     ]
    },
    {
     "name": "stdout",
     "output_type": "stream",
     "text": [
      "Training until validation scores don't improve for 5 rounds\n",
      "Early stopping, best iteration is:\n",
      "[828]\ttraining's rmse: 6505.05\tvalid_1's rmse: 9128.56\n",
      "Training until validation scores don't improve for 5 rounds\n",
      "Early stopping, best iteration is:\n",
      "[976]\ttraining's rmse: 6318.11\tvalid_1's rmse: 7034.07\n",
      "Training until validation scores don't improve for 5 rounds\n",
      "Early stopping, best iteration is:\n",
      "[1143]\ttraining's rmse: 5444.65\tvalid_1's rmse: 7291.53\n",
      "Training until validation scores don't improve for 5 rounds\n",
      "Early stopping, best iteration is:\n",
      "[1508]\ttraining's rmse: 5037.11\tvalid_1's rmse: 9443.14\n",
      "Training until validation scores don't improve for 5 rounds\n",
      "Early stopping, best iteration is:\n",
      "[1961]\ttraining's rmse: 5376.33\tvalid_1's rmse: 13122.4\n",
      "Training until validation scores don't improve for 5 rounds\n",
      "Early stopping, best iteration is:\n",
      "[2162]\ttraining's rmse: 6570.85\tvalid_1's rmse: 29451.5\n"
     ]
    },
    {
     "name": "stderr",
     "output_type": "stream",
     "text": [
      " 65%|██████▌   | 222/339 [42:13<10:31,  5.40s/it]"
     ]
    },
    {
     "name": "stdout",
     "output_type": "stream",
     "text": [
      "Training until validation scores don't improve for 5 rounds\n",
      "Early stopping, best iteration is:\n",
      "[330]\ttraining's rmse: 8273.66\tvalid_1's rmse: 16520.5\n",
      "Training until validation scores don't improve for 5 rounds\n",
      "Early stopping, best iteration is:\n",
      "[1188]\ttraining's rmse: 4752.99\tvalid_1's rmse: 27228.9\n"
     ]
    },
    {
     "name": "stderr",
     "output_type": "stream",
     "text": [
      " 66%|██████▌   | 223/339 [42:15<08:47,  4.55s/it]"
     ]
    },
    {
     "name": "stdout",
     "output_type": "stream",
     "text": [
      "Training until validation scores don't improve for 5 rounds\n",
      "Early stopping, best iteration is:\n",
      "[569]\ttraining's rmse: 796.133\tvalid_1's rmse: 2403.64\n",
      "Training until validation scores don't improve for 5 rounds\n",
      "Early stopping, best iteration is:\n",
      "[767]\ttraining's rmse: 1270.39\tvalid_1's rmse: 7988.5\n"
     ]
    },
    {
     "name": "stderr",
     "output_type": "stream",
     "text": [
      " 66%|██████▌   | 224/339 [42:18<07:59,  4.17s/it]"
     ]
    },
    {
     "name": "stdout",
     "output_type": "stream",
     "text": [
      "Training until validation scores don't improve for 5 rounds\n",
      "Early stopping, best iteration is:\n",
      "[1]\ttraining's rmse: 529.289\tvalid_1's rmse: 9253.59\n",
      "Training until validation scores don't improve for 5 rounds\n",
      "Early stopping, best iteration is:\n",
      "[246]\ttraining's rmse: 4940.34\tvalid_1's rmse: 10655.9\n"
     ]
    },
    {
     "name": "stderr",
     "output_type": "stream",
     "text": [
      " 66%|██████▋   | 225/339 [42:18<05:49,  3.07s/it]"
     ]
    },
    {
     "name": "stdout",
     "output_type": "stream",
     "text": [
      "Training until validation scores don't improve for 5 rounds\n",
      "Early stopping, best iteration is:\n",
      "[1950]\ttraining's rmse: 408.091\tvalid_1's rmse: 381.824\n",
      "Training until validation scores don't improve for 5 rounds\n",
      "Early stopping, best iteration is:\n",
      "[1951]\ttraining's rmse: 394.038\tvalid_1's rmse: 809.549\n"
     ]
    },
    {
     "name": "stderr",
     "output_type": "stream",
     "text": [
      " 67%|██████▋   | 226/339 [42:20<04:57,  2.63s/it]"
     ]
    },
    {
     "name": "stdout",
     "output_type": "stream",
     "text": [
      "Training until validation scores don't improve for 5 rounds\n",
      "Early stopping, best iteration is:\n",
      "[1]\ttraining's rmse: 1180.69\tvalid_1's rmse: 2566.36\n",
      "Training until validation scores don't improve for 5 rounds\n",
      "Early stopping, best iteration is:\n",
      "[49]\ttraining's rmse: 1402.57\tvalid_1's rmse: 792.584\n",
      "Training until validation scores don't improve for 5 rounds\n",
      "Early stopping, best iteration is:\n",
      "[1]\ttraining's rmse: 5441.11\tvalid_1's rmse: 7156.65\n",
      "Training until validation scores don't improve for 5 rounds\n",
      "Early stopping, best iteration is:\n",
      "[453]\ttraining's rmse: 2728.51\tvalid_1's rmse: 22622.8\n"
     ]
    },
    {
     "name": "stderr",
     "output_type": "stream",
     "text": [
      " 67%|██████▋   | 228/339 [42:20<02:52,  1.55s/it]"
     ]
    },
    {
     "name": "stdout",
     "output_type": "stream",
     "text": [
      "Training until validation scores don't improve for 5 rounds\n",
      "Early stopping, best iteration is:\n",
      "[373]\ttraining's rmse: 1571.14\tvalid_1's rmse: 11595.4\n",
      "Training until validation scores don't improve for 5 rounds\n",
      "Early stopping, best iteration is:\n",
      "[1425]\ttraining's rmse: 3287.51\tvalid_1's rmse: 33250.8\n"
     ]
    },
    {
     "name": "stderr",
     "output_type": "stream",
     "text": [
      " 68%|██████▊   | 229/339 [42:27<05:16,  2.88s/it]"
     ]
    },
    {
     "name": "stdout",
     "output_type": "stream",
     "text": [
      "Training until validation scores don't improve for 5 rounds\n",
      "Early stopping, best iteration is:\n",
      "[538]\ttraining's rmse: 3027.75\tvalid_1's rmse: 3848.86\n",
      "Training until validation scores don't improve for 5 rounds\n",
      "Early stopping, best iteration is:\n",
      "[594]\ttraining's rmse: 3003.97\tvalid_1's rmse: 30326.3\n"
     ]
    },
    {
     "name": "stderr",
     "output_type": "stream",
     "text": [
      " 68%|██████▊   | 231/339 [42:30<04:08,  2.30s/it]"
     ]
    },
    {
     "name": "stdout",
     "output_type": "stream",
     "text": [
      "Training until validation scores don't improve for 5 rounds\n",
      "Early stopping, best iteration is:\n",
      "[530]\ttraining's rmse: 8902.25\tvalid_1's rmse: 12522.6\n",
      "Training until validation scores don't improve for 5 rounds\n",
      "Early stopping, best iteration is:\n",
      "[1157]\ttraining's rmse: 7404.2\tvalid_1's rmse: 26857.3\n"
     ]
    },
    {
     "name": "stderr",
     "output_type": "stream",
     "text": [
      " 69%|██████▊   | 233/339 [42:32<03:11,  1.80s/it]"
     ]
    },
    {
     "name": "stdout",
     "output_type": "stream",
     "text": [
      "Training until validation scores don't improve for 5 rounds\n",
      "Early stopping, best iteration is:\n",
      "[414]\ttraining's rmse: 3415.89\tvalid_1's rmse: 5156.18\n",
      "Training until validation scores don't improve for 5 rounds\n",
      "Early stopping, best iteration is:\n",
      "[928]\ttraining's rmse: 3156.77\tvalid_1's rmse: 66506.9\n"
     ]
    },
    {
     "name": "stderr",
     "output_type": "stream",
     "text": [
      " 69%|██████▉   | 234/339 [42:34<03:13,  1.85s/it]"
     ]
    },
    {
     "name": "stdout",
     "output_type": "stream",
     "text": [
      "Training until validation scores don't improve for 5 rounds\n",
      "Early stopping, best iteration is:\n",
      "[389]\ttraining's rmse: 11503.3\tvalid_1's rmse: 9232.7\n",
      "Training until validation scores don't improve for 5 rounds\n",
      "Early stopping, best iteration is:\n",
      "[683]\ttraining's rmse: 9151.55\tvalid_1's rmse: 53966.3\n"
     ]
    },
    {
     "name": "stderr",
     "output_type": "stream",
     "text": [
      " 69%|██████▉   | 235/339 [42:38<03:45,  2.17s/it]"
     ]
    },
    {
     "name": "stdout",
     "output_type": "stream",
     "text": [
      "Training until validation scores don't improve for 5 rounds\n",
      "Early stopping, best iteration is:\n",
      "[799]\ttraining's rmse: 5412.62\tvalid_1's rmse: 4738.38\n",
      "Training until validation scores don't improve for 5 rounds\n",
      "Early stopping, best iteration is:\n",
      "[1144]\ttraining's rmse: 3556.36\tvalid_1's rmse: 35202.2\n"
     ]
    },
    {
     "name": "stderr",
     "output_type": "stream",
     "text": [
      " 70%|██████▉   | 237/339 [42:39<02:36,  1.53s/it]"
     ]
    },
    {
     "name": "stdout",
     "output_type": "stream",
     "text": [
      "Training until validation scores don't improve for 5 rounds\n",
      "Early stopping, best iteration is:\n",
      "[1]\ttraining's rmse: 10639\tvalid_1's rmse: 21217.6\n",
      "Training until validation scores don't improve for 5 rounds\n",
      "Early stopping, best iteration is:\n",
      "[2]\ttraining's rmse: 16783.5\tvalid_1's rmse: 14263.7\n",
      "Training until validation scores don't improve for 5 rounds\n",
      "Early stopping, best iteration is:\n",
      "[272]\ttraining's rmse: 3938.38\tvalid_1's rmse: 3347.16\n",
      "Training until validation scores don't improve for 5 rounds\n",
      "Early stopping, best iteration is:\n",
      "[408]\ttraining's rmse: 3220.51\tvalid_1's rmse: 42029.4\n"
     ]
    },
    {
     "name": "stderr",
     "output_type": "stream",
     "text": [
      " 71%|███████▏  | 242/339 [42:40<01:17,  1.26it/s]"
     ]
    },
    {
     "name": "stdout",
     "output_type": "stream",
     "text": [
      "Training until validation scores don't improve for 5 rounds\n",
      "Early stopping, best iteration is:\n",
      "[837]\ttraining's rmse: 6215.55\tvalid_1's rmse: 10988.2\n",
      "Training until validation scores don't improve for 5 rounds\n",
      "Early stopping, best iteration is:\n",
      "[838]\ttraining's rmse: 8904.69\tvalid_1's rmse: 46294.4\n"
     ]
    },
    {
     "name": "stderr",
     "output_type": "stream",
     "text": [
      " 72%|███████▏  | 243/339 [42:44<01:53,  1.19s/it]"
     ]
    },
    {
     "name": "stdout",
     "output_type": "stream",
     "text": [
      "Training until validation scores don't improve for 5 rounds\n",
      "Early stopping, best iteration is:\n",
      "[1347]\ttraining's rmse: 8670.16\tvalid_1's rmse: 25011.7\n",
      "Training until validation scores don't improve for 5 rounds\n",
      "Early stopping, best iteration is:\n",
      "[1771]\ttraining's rmse: 6756.4\tvalid_1's rmse: 57321.1\n"
     ]
    },
    {
     "name": "stderr",
     "output_type": "stream",
     "text": [
      " 73%|███████▎  | 248/339 [42:49<01:39,  1.10s/it]"
     ]
    },
    {
     "name": "stdout",
     "output_type": "stream",
     "text": [
      "Training until validation scores don't improve for 5 rounds\n",
      "Early stopping, best iteration is:\n",
      "[483]\ttraining's rmse: 15894.6\tvalid_1's rmse: 55203.1\n",
      "Training until validation scores don't improve for 5 rounds\n",
      "Early stopping, best iteration is:\n",
      "[1164]\ttraining's rmse: 8985.14\tvalid_1's rmse: 57351\n"
     ]
    },
    {
     "name": "stderr",
     "output_type": "stream",
     "text": [
      " 73%|███████▎  | 249/339 [42:56<02:55,  1.95s/it]"
     ]
    },
    {
     "name": "stdout",
     "output_type": "stream",
     "text": [
      "Training until validation scores don't improve for 5 rounds\n",
      "Early stopping, best iteration is:\n",
      "[256]\ttraining's rmse: 5256.74\tvalid_1's rmse: 3407.04\n",
      "Training until validation scores don't improve for 5 rounds\n",
      "Early stopping, best iteration is:\n",
      "[661]\ttraining's rmse: 2848.53\tvalid_1's rmse: 34999.7\n"
     ]
    },
    {
     "name": "stderr",
     "output_type": "stream",
     "text": [
      " 74%|███████▎  | 250/339 [42:59<03:01,  2.03s/it]"
     ]
    },
    {
     "name": "stdout",
     "output_type": "stream",
     "text": [
      "Training until validation scores don't improve for 5 rounds\n",
      "Early stopping, best iteration is:\n",
      "[435]\ttraining's rmse: 5847.5\tvalid_1's rmse: 5196.14\n",
      "Training until validation scores don't improve for 5 rounds\n",
      "Early stopping, best iteration is:\n",
      "[648]\ttraining's rmse: 4003.57\tvalid_1's rmse: 16796.7\n"
     ]
    },
    {
     "name": "stderr",
     "output_type": "stream",
     "text": [
      " 74%|███████▍  | 251/339 [43:01<02:52,  1.97s/it]"
     ]
    },
    {
     "name": "stdout",
     "output_type": "stream",
     "text": [
      "Training until validation scores don't improve for 5 rounds\n",
      "Early stopping, best iteration is:\n",
      "[387]\ttraining's rmse: 1915.67\tvalid_1's rmse: 1310.85\n",
      "Training until validation scores don't improve for 5 rounds\n",
      "Early stopping, best iteration is:\n",
      "[401]\ttraining's rmse: 1622.53\tvalid_1's rmse: 7502.34\n"
     ]
    },
    {
     "name": "stderr",
     "output_type": "stream",
     "text": [
      " 74%|███████▍  | 252/339 [43:03<03:04,  2.12s/it]"
     ]
    },
    {
     "name": "stdout",
     "output_type": "stream",
     "text": [
      "Training until validation scores don't improve for 5 rounds\n",
      "Early stopping, best iteration is:\n",
      "[772]\ttraining's rmse: 1506.62\tvalid_1's rmse: 13292.8\n",
      "Training until validation scores don't improve for 5 rounds\n",
      "Early stopping, best iteration is:\n",
      "[1267]\ttraining's rmse: 2455.67\tvalid_1's rmse: 16727.7\n"
     ]
    },
    {
     "name": "stderr",
     "output_type": "stream",
     "text": [
      " 75%|███████▍  | 253/339 [43:11<04:42,  3.29s/it]"
     ]
    },
    {
     "name": "stdout",
     "output_type": "stream",
     "text": [
      "Training until validation scores don't improve for 5 rounds\n",
      "Early stopping, best iteration is:\n",
      "[349]\ttraining's rmse: 1964.97\tvalid_1's rmse: 2679.81\n",
      "Training until validation scores don't improve for 5 rounds\n",
      "Early stopping, best iteration is:\n",
      "[460]\ttraining's rmse: 1935.01\tvalid_1's rmse: 2040.42\n",
      "Training until validation scores don't improve for 5 rounds\n",
      "Early stopping, best iteration is:\n",
      "[507]\ttraining's rmse: 1858.13\tvalid_1's rmse: 2294.91\n",
      "Training until validation scores don't improve for 5 rounds\n",
      "Early stopping, best iteration is:\n",
      "[684]\ttraining's rmse: 1788.2\tvalid_1's rmse: 4073.25\n",
      "Training until validation scores don't improve for 5 rounds\n",
      "Early stopping, best iteration is:\n",
      "[1163]\ttraining's rmse: 2142.17\tvalid_1's rmse: 9843.19\n"
     ]
    },
    {
     "name": "stderr",
     "output_type": "stream",
     "text": [
      " 75%|███████▍  | 254/339 [43:19<06:18,  4.46s/it]"
     ]
    },
    {
     "name": "stdout",
     "output_type": "stream",
     "text": [
      "Training until validation scores don't improve for 5 rounds\n",
      "Early stopping, best iteration is:\n",
      "[429]\ttraining's rmse: 2622.28\tvalid_1's rmse: 3019.77\n",
      "Training until validation scores don't improve for 5 rounds\n",
      "Early stopping, best iteration is:\n",
      "[573]\ttraining's rmse: 2280.44\tvalid_1's rmse: 18361.2\n"
     ]
    },
    {
     "name": "stderr",
     "output_type": "stream",
     "text": [
      " 75%|███████▌  | 255/339 [43:22<05:50,  4.17s/it]"
     ]
    },
    {
     "name": "stdout",
     "output_type": "stream",
     "text": [
      "Training until validation scores don't improve for 5 rounds\n",
      "Early stopping, best iteration is:\n",
      "[261]\ttraining's rmse: 12355.2\tvalid_1's rmse: 10165.8\n",
      "Training until validation scores don't improve for 5 rounds\n",
      "Early stopping, best iteration is:\n",
      "[570]\ttraining's rmse: 8477.34\tvalid_1's rmse: 58163.7\n"
     ]
    },
    {
     "name": "stderr",
     "output_type": "stream",
     "text": [
      " 76%|███████▌  | 256/339 [43:24<05:02,  3.65s/it]"
     ]
    },
    {
     "name": "stdout",
     "output_type": "stream",
     "text": [
      "Training until validation scores don't improve for 5 rounds\n",
      "Early stopping, best iteration is:\n",
      "[422]\ttraining's rmse: 1640.12\tvalid_1's rmse: 1521.97\n",
      "Training until validation scores don't improve for 5 rounds\n",
      "Early stopping, best iteration is:\n",
      "[949]\ttraining's rmse: 1337.96\tvalid_1's rmse: 6055.96\n"
     ]
    },
    {
     "name": "stderr",
     "output_type": "stream",
     "text": [
      " 76%|███████▌  | 257/339 [43:29<05:32,  4.05s/it]"
     ]
    },
    {
     "name": "stdout",
     "output_type": "stream",
     "text": [
      "Training until validation scores don't improve for 5 rounds\n",
      "Early stopping, best iteration is:\n",
      "[558]\ttraining's rmse: 1481.25\tvalid_1's rmse: 1000.03\n",
      "Training until validation scores don't improve for 5 rounds\n",
      "Early stopping, best iteration is:\n",
      "[737]\ttraining's rmse: 1107.78\tvalid_1's rmse: 4857.25\n"
     ]
    },
    {
     "name": "stderr",
     "output_type": "stream",
     "text": [
      " 76%|███████▌  | 258/339 [43:33<05:22,  3.99s/it]"
     ]
    },
    {
     "name": "stdout",
     "output_type": "stream",
     "text": [
      "Training until validation scores don't improve for 5 rounds\n",
      "Early stopping, best iteration is:\n",
      "[352]\ttraining's rmse: 1994.92\tvalid_1's rmse: 1558.92\n",
      "Training until validation scores don't improve for 5 rounds\n",
      "Early stopping, best iteration is:\n",
      "[566]\ttraining's rmse: 1603.8\tvalid_1's rmse: 1500.06\n",
      "Training until validation scores don't improve for 5 rounds\n",
      "Early stopping, best iteration is:\n",
      "[674]\ttraining's rmse: 1491.25\tvalid_1's rmse: 2854.87\n",
      "Training until validation scores don't improve for 5 rounds\n",
      "Early stopping, best iteration is:\n",
      "[980]\ttraining's rmse: 1549.92\tvalid_1's rmse: 10506.7\n"
     ]
    },
    {
     "name": "stderr",
     "output_type": "stream",
     "text": [
      " 76%|███████▋  | 259/339 [43:40<06:12,  4.65s/it]"
     ]
    },
    {
     "name": "stdout",
     "output_type": "stream",
     "text": [
      "Training until validation scores don't improve for 5 rounds\n",
      "Early stopping, best iteration is:\n",
      "[293]\ttraining's rmse: 1950.24\tvalid_1's rmse: 1784.06\n",
      "Training until validation scores don't improve for 5 rounds\n",
      "Early stopping, best iteration is:\n",
      "[748]\ttraining's rmse: 1313.97\tvalid_1's rmse: 6513.97\n"
     ]
    },
    {
     "name": "stderr",
     "output_type": "stream",
     "text": [
      " 77%|███████▋  | 260/339 [43:44<06:08,  4.67s/it]"
     ]
    },
    {
     "name": "stdout",
     "output_type": "stream",
     "text": [
      "Training until validation scores don't improve for 5 rounds\n",
      "Early stopping, best iteration is:\n",
      "[385]\ttraining's rmse: 1677.99\tvalid_1's rmse: 4029.56\n",
      "Training until validation scores don't improve for 5 rounds\n",
      "Early stopping, best iteration is:\n",
      "[612]\ttraining's rmse: 1425.47\tvalid_1's rmse: 1370.67\n",
      "Training until validation scores don't improve for 5 rounds\n",
      "Early stopping, best iteration is:\n",
      "[922]\ttraining's rmse: 1237.56\tvalid_1's rmse: 1550.2\n",
      "Training until validation scores don't improve for 5 rounds\n",
      "Early stopping, best iteration is:\n",
      "[957]\ttraining's rmse: 1302.01\tvalid_1's rmse: 3390.42\n",
      "Training until validation scores don't improve for 5 rounds\n",
      "Early stopping, best iteration is:\n",
      "[1294]\ttraining's rmse: 1727.76\tvalid_1's rmse: 7089.34\n",
      "Training until validation scores don't improve for 5 rounds\n",
      "Early stopping, best iteration is:\n",
      "[1888]\ttraining's rmse: 1901.25\tvalid_1's rmse: 9935.41\n"
     ]
    },
    {
     "name": "stderr",
     "output_type": "stream",
     "text": [
      " 77%|███████▋  | 261/339 [43:58<09:26,  7.27s/it]"
     ]
    },
    {
     "name": "stdout",
     "output_type": "stream",
     "text": [
      "Training until validation scores don't improve for 5 rounds\n",
      "Early stopping, best iteration is:\n",
      "[2789]\ttraining's rmse: 1072.17\tvalid_1's rmse: 3257.19\n",
      "Training until validation scores don't improve for 5 rounds\n",
      "Early stopping, best iteration is:\n",
      "[3080]\ttraining's rmse: 1899.4\tvalid_1's rmse: 13351.2\n"
     ]
    },
    {
     "name": "stderr",
     "output_type": "stream",
     "text": [
      " 77%|███████▋  | 262/339 [44:12<12:02,  9.39s/it]"
     ]
    },
    {
     "name": "stdout",
     "output_type": "stream",
     "text": [
      "Training until validation scores don't improve for 5 rounds\n",
      "Early stopping, best iteration is:\n",
      "[323]\ttraining's rmse: 5084.58\tvalid_1's rmse: 2942.67\n",
      "Training until validation scores don't improve for 5 rounds\n",
      "Early stopping, best iteration is:\n",
      "[459]\ttraining's rmse: 3705.51\tvalid_1's rmse: 2236.84\n",
      "Training until validation scores don't improve for 5 rounds\n",
      "Early stopping, best iteration is:\n",
      "[508]\ttraining's rmse: 3209.53\tvalid_1's rmse: 2906.29\n",
      "Training until validation scores don't improve for 5 rounds\n",
      "Early stopping, best iteration is:\n",
      "[882]\ttraining's rmse: 2905.44\tvalid_1's rmse: 2524.23\n",
      "Training until validation scores don't improve for 5 rounds\n",
      "Early stopping, best iteration is:\n",
      "[883]\ttraining's rmse: 2832.68\tvalid_1's rmse: 2785.01\n",
      "Training until validation scores don't improve for 5 rounds\n",
      "Early stopping, best iteration is:\n",
      "[1059]\ttraining's rmse: 2712.62\tvalid_1's rmse: 2967.12\n",
      "Training until validation scores don't improve for 5 rounds\n",
      "Early stopping, best iteration is:\n",
      "[1060]\ttraining's rmse: 2749.43\tvalid_1's rmse: 5324.86\n",
      "Training until validation scores don't improve for 5 rounds\n",
      "Early stopping, best iteration is:\n",
      "[1245]\ttraining's rmse: 2966.53\tvalid_1's rmse: 11323\n"
     ]
    },
    {
     "name": "stderr",
     "output_type": "stream",
     "text": [
      " 78%|███████▊  | 263/339 [44:23<12:26,  9.82s/it]"
     ]
    },
    {
     "name": "stdout",
     "output_type": "stream",
     "text": [
      "Training until validation scores don't improve for 5 rounds\n",
      "Early stopping, best iteration is:\n",
      "[422]\ttraining's rmse: 9686.33\tvalid_1's rmse: 6597.28\n",
      "Training until validation scores don't improve for 5 rounds\n",
      "Early stopping, best iteration is:\n",
      "[580]\ttraining's rmse: 6897.93\tvalid_1's rmse: 24118.5\n"
     ]
    },
    {
     "name": "stderr",
     "output_type": "stream",
     "text": [
      " 78%|███████▊  | 264/339 [44:24<09:01,  7.22s/it]"
     ]
    },
    {
     "name": "stdout",
     "output_type": "stream",
     "text": [
      "Training until validation scores don't improve for 5 rounds\n",
      "Early stopping, best iteration is:\n",
      "[398]\ttraining's rmse: 4981.82\tvalid_1's rmse: 4568.79\n",
      "Training until validation scores don't improve for 5 rounds\n",
      "Early stopping, best iteration is:\n",
      "[901]\ttraining's rmse: 3514.04\tvalid_1's rmse: 16743.7\n"
     ]
    },
    {
     "name": "stderr",
     "output_type": "stream",
     "text": [
      " 78%|███████▊  | 265/339 [44:29<08:01,  6.50s/it]"
     ]
    },
    {
     "name": "stdout",
     "output_type": "stream",
     "text": [
      "Training until validation scores don't improve for 5 rounds\n",
      "Early stopping, best iteration is:\n",
      "[492]\ttraining's rmse: 1709.4\tvalid_1's rmse: 2170.18\n",
      "Training until validation scores don't improve for 5 rounds\n",
      "Early stopping, best iteration is:\n",
      "[733]\ttraining's rmse: 1571.38\tvalid_1's rmse: 13837.5\n"
     ]
    },
    {
     "name": "stderr",
     "output_type": "stream",
     "text": [
      " 78%|███████▊  | 266/339 [44:32<06:49,  5.61s/it]"
     ]
    },
    {
     "name": "stdout",
     "output_type": "stream",
     "text": [
      "Training until validation scores don't improve for 5 rounds\n",
      "Early stopping, best iteration is:\n",
      "[410]\ttraining's rmse: 3113.84\tvalid_1's rmse: 4228.08\n",
      "Training until validation scores don't improve for 5 rounds\n",
      "Early stopping, best iteration is:\n",
      "[829]\ttraining's rmse: 1772.16\tvalid_1's rmse: 8246.06\n"
     ]
    },
    {
     "name": "stderr",
     "output_type": "stream",
     "text": [
      " 79%|███████▉  | 267/339 [44:34<05:24,  4.50s/it]"
     ]
    },
    {
     "name": "stdout",
     "output_type": "stream",
     "text": [
      "Training until validation scores don't improve for 5 rounds\n",
      "Early stopping, best iteration is:\n",
      "[1463]\ttraining's rmse: 3725.28\tvalid_1's rmse: 13291.8\n",
      "Training until validation scores don't improve for 5 rounds\n",
      "Early stopping, best iteration is:\n",
      "[2164]\ttraining's rmse: 2416.19\tvalid_1's rmse: 29213.1\n"
     ]
    },
    {
     "name": "stderr",
     "output_type": "stream",
     "text": [
      " 79%|███████▉  | 269/339 [44:37<03:31,  3.02s/it]"
     ]
    },
    {
     "name": "stdout",
     "output_type": "stream",
     "text": [
      "Training until validation scores don't improve for 5 rounds\n",
      "Early stopping, best iteration is:\n",
      "[1]\ttraining's rmse: 26528.9\tvalid_1's rmse: 93404.3\n",
      "Training until validation scores don't improve for 5 rounds\n",
      "Early stopping, best iteration is:\n",
      "[2]\ttraining's rmse: 67906.2\tvalid_1's rmse: 120238\n",
      "Training until validation scores don't improve for 5 rounds\n",
      "Early stopping, best iteration is:\n",
      "[1173]\ttraining's rmse: 3665.16\tvalid_1's rmse: 7823.88\n",
      "Training until validation scores don't improve for 5 rounds\n",
      "Early stopping, best iteration is:\n",
      "[1329]\ttraining's rmse: 5561.06\tvalid_1's rmse: 4247.38\n",
      "Training until validation scores don't improve for 5 rounds\n",
      "Early stopping, best iteration is:\n",
      "[1658]\ttraining's rmse: 4523.97\tvalid_1's rmse: 3865.64\n",
      "Training until validation scores don't improve for 5 rounds\n",
      "Early stopping, best iteration is:\n",
      "[1659]\ttraining's rmse: 4365.94\tvalid_1's rmse: 4214.35\n",
      "Training until validation scores don't improve for 5 rounds\n",
      "Early stopping, best iteration is:\n",
      "[4145]\ttraining's rmse: 3246.59\tvalid_1's rmse: 5048.82\n",
      "Training until validation scores don't improve for 5 rounds\n",
      "Early stopping, best iteration is:\n",
      "[4419]\ttraining's rmse: 3355.72\tvalid_1's rmse: 6239.91\n",
      "Training until validation scores don't improve for 5 rounds\n",
      "Early stopping, best iteration is:\n",
      "[4544]\ttraining's rmse: 3449.63\tvalid_1's rmse: 9444.08\n",
      "Training until validation scores don't improve for 5 rounds\n",
      "Early stopping, best iteration is:\n",
      "[4761]\ttraining's rmse: 3936.83\tvalid_1's rmse: 12941.2\n"
     ]
    },
    {
     "name": "stderr",
     "output_type": "stream",
     "text": [
      " 80%|███████▉  | 271/339 [45:16<10:51,  9.57s/it]"
     ]
    },
    {
     "name": "stdout",
     "output_type": "stream",
     "text": [
      "Training until validation scores don't improve for 5 rounds\n",
      "Early stopping, best iteration is:\n",
      "[678]\ttraining's rmse: 6299.94\tvalid_1's rmse: 8091.38\n",
      "Training until validation scores don't improve for 5 rounds\n",
      "Early stopping, best iteration is:\n",
      "[1150]\ttraining's rmse: 3638.29\tvalid_1's rmse: 21341.3\n"
     ]
    },
    {
     "name": "stderr",
     "output_type": "stream",
     "text": [
      " 80%|████████  | 272/339 [45:18<08:48,  7.89s/it]"
     ]
    },
    {
     "name": "stdout",
     "output_type": "stream",
     "text": [
      "Training until validation scores don't improve for 5 rounds\n",
      "Early stopping, best iteration is:\n",
      "[267]\ttraining's rmse: 3562.89\tvalid_1's rmse: 5084.44\n",
      "Training until validation scores don't improve for 5 rounds\n",
      "Early stopping, best iteration is:\n",
      "[525]\ttraining's rmse: 2930.67\tvalid_1's rmse: 32747.5\n"
     ]
    },
    {
     "name": "stderr",
     "output_type": "stream",
     "text": [
      " 83%|████████▎ | 280/339 [45:19<02:20,  2.38s/it]"
     ]
    },
    {
     "name": "stdout",
     "output_type": "stream",
     "text": [
      "Training until validation scores don't improve for 5 rounds\n",
      "Early stopping, best iteration is:\n",
      "[213]\ttraining's rmse: 8204.6\tvalid_1's rmse: 6398.02\n",
      "Training until validation scores don't improve for 5 rounds\n",
      "Early stopping, best iteration is:\n",
      "[255]\ttraining's rmse: 6981.2\tvalid_1's rmse: 25158.5\n"
     ]
    },
    {
     "name": "stderr",
     "output_type": "stream",
     "text": [
      " 84%|████████▍ | 285/339 [45:20<01:15,  1.39s/it]"
     ]
    },
    {
     "name": "stdout",
     "output_type": "stream",
     "text": [
      "Training until validation scores don't improve for 5 rounds\n",
      "Early stopping, best iteration is:\n",
      "[1]\ttraining's rmse: 8028.44\tvalid_1's rmse: 12044.2\n",
      "Training until validation scores don't improve for 5 rounds\n",
      "Early stopping, best iteration is:\n",
      "[2]\ttraining's rmse: 10054.6\tvalid_1's rmse: 27046.3\n",
      "Training until validation scores don't improve for 5 rounds\n",
      "Early stopping, best iteration is:\n",
      "[1]\ttraining's rmse: 3099.73\tvalid_1's rmse: 1628.81\n",
      "Training until validation scores don't improve for 5 rounds\n",
      "Early stopping, best iteration is:\n",
      "[177]\ttraining's rmse: 1763.43\tvalid_1's rmse: 5849.35\n",
      "Training until validation scores don't improve for 5 rounds\n",
      "Early stopping, best iteration is:\n",
      "[236]\ttraining's rmse: 10059.8\tvalid_1's rmse: 7285.81\n",
      "Training until validation scores don't improve for 5 rounds\n",
      "Early stopping, best iteration is:\n",
      "[392]\ttraining's rmse: 7304.32\tvalid_1's rmse: 14300.7\n"
     ]
    },
    {
     "name": "stderr",
     "output_type": "stream",
     "text": [
      " 85%|████████▍ | 287/339 [45:21<00:59,  1.15s/it]"
     ]
    },
    {
     "name": "stdout",
     "output_type": "stream",
     "text": [
      "Training until validation scores don't improve for 5 rounds\n",
      "Early stopping, best iteration is:\n",
      "[575]\ttraining's rmse: 1697.44\tvalid_1's rmse: 1748.36\n",
      "Training until validation scores don't improve for 5 rounds\n",
      "Early stopping, best iteration is:\n",
      "[1099]\ttraining's rmse: 1489.04\tvalid_1's rmse: 13304.4\n"
     ]
    },
    {
     "name": "stderr",
     "output_type": "stream",
     "text": [
      " 85%|████████▍ | 288/339 [45:27<01:35,  1.86s/it]"
     ]
    },
    {
     "name": "stdout",
     "output_type": "stream",
     "text": [
      "Training until validation scores don't improve for 5 rounds\n",
      "Early stopping, best iteration is:\n",
      "[1]\ttraining's rmse: 4618.34\tvalid_1's rmse: 15891.5\n",
      "Training until validation scores don't improve for 5 rounds\n",
      "Early stopping, best iteration is:\n",
      "[2]\ttraining's rmse: 11701.9\tvalid_1's rmse: 39095.8\n",
      "Training until validation scores don't improve for 5 rounds\n",
      "Early stopping, best iteration is:\n",
      "[1]\ttraining's rmse: 1013.12\tvalid_1's rmse: 2025.91\n",
      "Training until validation scores don't improve for 5 rounds\n",
      "Early stopping, best iteration is:\n",
      "[310]\ttraining's rmse: 725.738\tvalid_1's rmse: 1510.26\n"
     ]
    },
    {
     "name": "stderr",
     "output_type": "stream",
     "text": [
      " 86%|████████▌ | 290/339 [45:28<01:07,  1.37s/it]"
     ]
    },
    {
     "name": "stdout",
     "output_type": "stream",
     "text": [
      "Training until validation scores don't improve for 5 rounds\n",
      "Early stopping, best iteration is:\n",
      "[528]\ttraining's rmse: 4728.39\tvalid_1's rmse: 8999.97\n",
      "Training until validation scores don't improve for 5 rounds\n",
      "Early stopping, best iteration is:\n",
      "[818]\ttraining's rmse: 3849.78\tvalid_1's rmse: 5153.41\n"
     ]
    },
    {
     "name": "stderr",
     "output_type": "stream",
     "text": [
      " 86%|████████▌ | 291/339 [45:31<01:21,  1.70s/it]"
     ]
    },
    {
     "name": "stdout",
     "output_type": "stream",
     "text": [
      "Training until validation scores don't improve for 5 rounds\n",
      "Early stopping, best iteration is:\n",
      "[119]\ttraining's rmse: 19321.3\tvalid_1's rmse: 15390.4\n",
      "Training until validation scores don't improve for 5 rounds\n",
      "Early stopping, best iteration is:\n",
      "[512]\ttraining's rmse: 10453.3\tvalid_1's rmse: 24330.7\n"
     ]
    },
    {
     "name": "stderr",
     "output_type": "stream",
     "text": [
      " 87%|████████▋ | 295/339 [45:32<00:41,  1.07it/s]"
     ]
    },
    {
     "name": "stdout",
     "output_type": "stream",
     "text": [
      "Training until validation scores don't improve for 5 rounds\n",
      "Early stopping, best iteration is:\n",
      "[1]\ttraining's rmse: 4989.31\tvalid_1's rmse: 9002.36\n",
      "Training until validation scores don't improve for 5 rounds\n",
      "Early stopping, best iteration is:\n",
      "[683]\ttraining's rmse: 2281.66\tvalid_1's rmse: 12686.6\n"
     ]
    },
    {
     "name": "stderr",
     "output_type": "stream",
     "text": [
      " 88%|████████▊ | 298/339 [45:32<00:28,  1.44it/s]"
     ]
    },
    {
     "name": "stdout",
     "output_type": "stream",
     "text": [
      "Training until validation scores don't improve for 5 rounds\n",
      "Early stopping, best iteration is:\n",
      "[703]\ttraining's rmse: 1742.85\tvalid_1's rmse: 29335.6\n",
      "Training until validation scores don't improve for 5 rounds\n",
      "Early stopping, best iteration is:\n",
      "[1183]\ttraining's rmse: 5883.87\tvalid_1's rmse: 19112.6\n"
     ]
    },
    {
     "name": "stderr",
     "output_type": "stream",
     "text": [
      " 88%|████████▊ | 300/339 [45:34<00:31,  1.26it/s]"
     ]
    },
    {
     "name": "stdout",
     "output_type": "stream",
     "text": [
      "Training until validation scores don't improve for 5 rounds\n",
      "Early stopping, best iteration is:\n",
      "[1]\ttraining's rmse: 9131.78\tvalid_1's rmse: 10234.3\n",
      "Training until validation scores don't improve for 5 rounds\n",
      "Early stopping, best iteration is:\n",
      "[2]\ttraining's rmse: 9661.95\tvalid_1's rmse: 29970.5\n",
      "Training until validation scores don't improve for 5 rounds\n",
      "Early stopping, best iteration is:\n",
      "[1]\ttraining's rmse: 2222.51\tvalid_1's rmse: 2194.18\n",
      "Training until validation scores don't improve for 5 rounds\n",
      "Early stopping, best iteration is:\n",
      "[2]\ttraining's rmse: 2208.96\tvalid_1's rmse: 27367.4\n",
      "Training until validation scores don't improve for 5 rounds\n",
      "Early stopping, best iteration is:\n",
      "[1]\ttraining's rmse: 7202.19\tvalid_1's rmse: 7849.77\n",
      "Training until validation scores don't improve for 5 rounds\n",
      "Early stopping, best iteration is:\n",
      "[771]\ttraining's rmse: 3744.56\tvalid_1's rmse: 6713.11\n"
     ]
    },
    {
     "name": "stderr",
     "output_type": "stream",
     "text": [
      " 89%|████████▉ | 303/339 [45:35<00:21,  1.65it/s]"
     ]
    },
    {
     "name": "stdout",
     "output_type": "stream",
     "text": [
      "Training until validation scores don't improve for 5 rounds\n",
      "Early stopping, best iteration is:\n",
      "[1]\ttraining's rmse: 1887.82\tvalid_1's rmse: 4817.7\n",
      "Training until validation scores don't improve for 5 rounds\n",
      "Early stopping, best iteration is:\n",
      "[2]\ttraining's rmse: 3658.83\tvalid_1's rmse: 6617.37\n",
      "Training until validation scores don't improve for 5 rounds\n",
      "Early stopping, best iteration is:\n",
      "[318]\ttraining's rmse: 5063.52\tvalid_1's rmse: 5010.68\n",
      "Training until validation scores don't improve for 5 rounds\n",
      "Early stopping, best iteration is:\n",
      "[934]\ttraining's rmse: 3264.04\tvalid_1's rmse: 33674.7\n"
     ]
    },
    {
     "name": "stderr",
     "output_type": "stream",
     "text": [
      " 90%|█████████ | 306/339 [45:38<00:25,  1.32it/s]"
     ]
    },
    {
     "name": "stdout",
     "output_type": "stream",
     "text": [
      "Training until validation scores don't improve for 5 rounds\n",
      "Early stopping, best iteration is:\n",
      "[1]\ttraining's rmse: 4357.53\tvalid_1's rmse: 7868.5\n",
      "Training until validation scores don't improve for 5 rounds\n",
      "Early stopping, best iteration is:\n",
      "[1117]\ttraining's rmse: 1092.07\tvalid_1's rmse: 2732.03\n"
     ]
    },
    {
     "name": "stderr",
     "output_type": "stream",
     "text": [
      " 91%|█████████ | 307/339 [45:39<00:25,  1.28it/s]"
     ]
    },
    {
     "name": "stdout",
     "output_type": "stream",
     "text": [
      "Training until validation scores don't improve for 5 rounds\n",
      "Early stopping, best iteration is:\n",
      "[264]\ttraining's rmse: 3730.15\tvalid_1's rmse: 2838.34\n",
      "Training until validation scores don't improve for 5 rounds\n",
      "Early stopping, best iteration is:\n",
      "[265]\ttraining's rmse: 3307.08\tvalid_1's rmse: 15335.6\n"
     ]
    },
    {
     "name": "stderr",
     "output_type": "stream",
     "text": [
      " 91%|█████████ | 309/339 [45:41<00:24,  1.22it/s]"
     ]
    },
    {
     "name": "stdout",
     "output_type": "stream",
     "text": [
      "Training until validation scores don't improve for 5 rounds\n",
      "Early stopping, best iteration is:\n",
      "[588]\ttraining's rmse: 7761.49\tvalid_1's rmse: 11647.6\n",
      "Training until validation scores don't improve for 5 rounds\n",
      "Early stopping, best iteration is:\n",
      "[2181]\ttraining's rmse: 6669.57\tvalid_1's rmse: 22553.8\n"
     ]
    },
    {
     "name": "stderr",
     "output_type": "stream",
     "text": [
      " 91%|█████████▏| 310/339 [45:48<00:53,  1.85s/it]"
     ]
    },
    {
     "name": "stdout",
     "output_type": "stream",
     "text": [
      "Training until validation scores don't improve for 5 rounds\n",
      "Early stopping, best iteration is:\n",
      "[1]\ttraining's rmse: 30547.9\tvalid_1's rmse: 25290.8\n",
      "Training until validation scores don't improve for 5 rounds\n",
      "Early stopping, best iteration is:\n",
      "[461]\ttraining's rmse: 18780.8\tvalid_1's rmse: 29826\n"
     ]
    },
    {
     "name": "stderr",
     "output_type": "stream",
     "text": [
      " 92%|█████████▏| 311/339 [45:49<00:44,  1.57s/it]"
     ]
    },
    {
     "name": "stdout",
     "output_type": "stream",
     "text": [
      "Training until validation scores don't improve for 5 rounds\n",
      "Early stopping, best iteration is:\n",
      "[636]\ttraining's rmse: 9239.9\tvalid_1's rmse: 20423.2\n",
      "Training until validation scores don't improve for 5 rounds\n",
      "Early stopping, best iteration is:\n",
      "[966]\ttraining's rmse: 10218.1\tvalid_1's rmse: 12667.4\n"
     ]
    },
    {
     "name": "stderr",
     "output_type": "stream",
     "text": [
      " 92%|█████████▏| 312/339 [45:51<00:50,  1.85s/it]"
     ]
    },
    {
     "name": "stdout",
     "output_type": "stream",
     "text": [
      "Training until validation scores don't improve for 5 rounds\n",
      "Early stopping, best iteration is:\n",
      "[427]\ttraining's rmse: 1329.82\tvalid_1's rmse: 1648.62\n",
      "Training until validation scores don't improve for 5 rounds\n",
      "Early stopping, best iteration is:\n",
      "[691]\ttraining's rmse: 1345.66\tvalid_1's rmse: 6795.98\n"
     ]
    },
    {
     "name": "stderr",
     "output_type": "stream",
     "text": [
      " 92%|█████████▏| 313/339 [45:56<01:05,  2.53s/it]"
     ]
    },
    {
     "name": "stdout",
     "output_type": "stream",
     "text": [
      "Training until validation scores don't improve for 5 rounds\n",
      "Early stopping, best iteration is:\n",
      "[425]\ttraining's rmse: 1431.53\tvalid_1's rmse: 3331.05\n",
      "Training until validation scores don't improve for 5 rounds\n",
      "Early stopping, best iteration is:\n",
      "[636]\ttraining's rmse: 1671.25\tvalid_1's rmse: 1503.87\n",
      "Training until validation scores don't improve for 5 rounds\n",
      "Early stopping, best iteration is:\n",
      "[736]\ttraining's rmse: 1539.37\tvalid_1's rmse: 1489.49\n",
      "Training until validation scores don't improve for 5 rounds\n",
      "Early stopping, best iteration is:\n",
      "[755]\ttraining's rmse: 1513.09\tvalid_1's rmse: 1505.68\n",
      "Training until validation scores don't improve for 5 rounds\n",
      "Early stopping, best iteration is:\n",
      "[996]\ttraining's rmse: 1412.51\tvalid_1's rmse: 2081.3\n",
      "Training until validation scores don't improve for 5 rounds\n",
      "Early stopping, best iteration is:\n",
      "[1561]\ttraining's rmse: 1320.07\tvalid_1's rmse: 2537.23\n",
      "Training until validation scores don't improve for 5 rounds\n",
      "Early stopping, best iteration is:\n",
      "[2711]\ttraining's rmse: 1328.67\tvalid_1's rmse: 3924.53\n",
      "Training until validation scores don't improve for 5 rounds\n",
      "Early stopping, best iteration is:\n",
      "[3188]\ttraining's rmse: 1456.83\tvalid_1's rmse: 13235.2\n"
     ]
    },
    {
     "name": "stderr",
     "output_type": "stream",
     "text": [
      " 93%|█████████▎| 314/339 [46:20<03:18,  7.92s/it]"
     ]
    },
    {
     "name": "stdout",
     "output_type": "stream",
     "text": [
      "Training until validation scores don't improve for 5 rounds\n",
      "Early stopping, best iteration is:\n",
      "[369]\ttraining's rmse: 1970.66\tvalid_1's rmse: 5721.14\n",
      "Training until validation scores don't improve for 5 rounds\n",
      "Early stopping, best iteration is:\n",
      "[856]\ttraining's rmse: 2707.45\tvalid_1's rmse: 3109.35\n",
      "Training until validation scores don't improve for 5 rounds\n",
      "Early stopping, best iteration is:\n",
      "[1406]\ttraining's rmse: 2323.67\tvalid_1's rmse: 1973.54\n",
      "Training until validation scores don't improve for 5 rounds\n",
      "Early stopping, best iteration is:\n",
      "[1447]\ttraining's rmse: 2197.12\tvalid_1's rmse: 2072.27\n",
      "Training until validation scores don't improve for 5 rounds\n",
      "Early stopping, best iteration is:\n",
      "[1683]\ttraining's rmse: 1961.81\tvalid_1's rmse: 4628.86\n",
      "Training until validation scores don't improve for 5 rounds\n",
      "Early stopping, best iteration is:\n",
      "[2180]\ttraining's rmse: 1973.78\tvalid_1's rmse: 10141.4\n"
     ]
    },
    {
     "name": "stderr",
     "output_type": "stream",
     "text": [
      " 93%|█████████▎| 315/339 [46:35<03:56,  9.85s/it]"
     ]
    },
    {
     "name": "stdout",
     "output_type": "stream",
     "text": [
      "Training until validation scores don't improve for 5 rounds\n",
      "Early stopping, best iteration is:\n",
      "[623]\ttraining's rmse: 1724.82\tvalid_1's rmse: 3350.06\n",
      "Training until validation scores don't improve for 5 rounds\n",
      "Early stopping, best iteration is:\n",
      "[1231]\ttraining's rmse: 1527.02\tvalid_1's rmse: 3368.83\n",
      "Training until validation scores don't improve for 5 rounds\n",
      "Early stopping, best iteration is:\n",
      "[1924]\ttraining's rmse: 1778.49\tvalid_1's rmse: 5133.3\n",
      "Training until validation scores don't improve for 5 rounds\n",
      "Early stopping, best iteration is:\n",
      "[2207]\ttraining's rmse: 2150.5\tvalid_1's rmse: 10985\n"
     ]
    },
    {
     "name": "stderr",
     "output_type": "stream",
     "text": [
      " 93%|█████████▎| 316/339 [46:50<04:18, 11.24s/it]"
     ]
    },
    {
     "name": "stdout",
     "output_type": "stream",
     "text": [
      "Training until validation scores don't improve for 5 rounds\n",
      "Early stopping, best iteration is:\n",
      "[336]\ttraining's rmse: 1640.32\tvalid_1's rmse: 3148.64\n",
      "Training until validation scores don't improve for 5 rounds\n",
      "Early stopping, best iteration is:\n",
      "[600]\ttraining's rmse: 1905.22\tvalid_1's rmse: 1986.42\n",
      "Training until validation scores don't improve for 5 rounds\n",
      "Early stopping, best iteration is:\n",
      "[816]\ttraining's rmse: 1671.44\tvalid_1's rmse: 1464.47\n",
      "Training until validation scores don't improve for 5 rounds\n",
      "Early stopping, best iteration is:\n",
      "[1127]\ttraining's rmse: 1515.3\tvalid_1's rmse: 1344.92\n",
      "Training until validation scores don't improve for 5 rounds\n",
      "Early stopping, best iteration is:\n",
      "[1240]\ttraining's rmse: 1432.45\tvalid_1's rmse: 1207.13\n",
      "Training until validation scores don't improve for 5 rounds\n",
      "Early stopping, best iteration is:\n",
      "[1242]\ttraining's rmse: 1396.25\tvalid_1's rmse: 1651.82\n",
      "Training until validation scores don't improve for 5 rounds\n",
      "Early stopping, best iteration is:\n",
      "[1243]\ttraining's rmse: 1434.5\tvalid_1's rmse: 1675.17\n",
      "Training until validation scores don't improve for 5 rounds\n",
      "Early stopping, best iteration is:\n",
      "[1463]\ttraining's rmse: 1381.58\tvalid_1's rmse: 1483.06\n",
      "Training until validation scores don't improve for 5 rounds\n",
      "Early stopping, best iteration is:\n",
      "[1763]\ttraining's rmse: 1336.07\tvalid_1's rmse: 1958.61\n",
      "Training until validation scores don't improve for 5 rounds\n",
      "Early stopping, best iteration is:\n",
      "[1764]\ttraining's rmse: 1409.5\tvalid_1's rmse: 3325.36\n",
      "Training until validation scores don't improve for 5 rounds\n",
      "Early stopping, best iteration is:\n",
      "[2541]\ttraining's rmse: 1482.67\tvalid_1's rmse: 3931.81\n",
      "Training until validation scores don't improve for 5 rounds\n",
      "Early stopping, best iteration is:\n",
      "[3025]\ttraining's rmse: 1592.59\tvalid_1's rmse: 7996.56\n"
     ]
    },
    {
     "name": "stderr",
     "output_type": "stream",
     "text": [
      " 94%|█████████▎| 317/339 [47:17<05:42, 15.58s/it]"
     ]
    },
    {
     "name": "stdout",
     "output_type": "stream",
     "text": [
      "Training until validation scores don't improve for 5 rounds\n",
      "Early stopping, best iteration is:\n",
      "[410]\ttraining's rmse: 1563.15\tvalid_1's rmse: 1691.95\n",
      "Training until validation scores don't improve for 5 rounds\n",
      "Early stopping, best iteration is:\n",
      "[875]\ttraining's rmse: 1263.33\tvalid_1's rmse: 11716.3\n"
     ]
    },
    {
     "name": "stderr",
     "output_type": "stream",
     "text": [
      " 94%|█████████▍| 318/339 [47:22<04:23, 12.56s/it]"
     ]
    },
    {
     "name": "stdout",
     "output_type": "stream",
     "text": [
      "Training until validation scores don't improve for 5 rounds\n",
      "Early stopping, best iteration is:\n",
      "[1]\ttraining's rmse: 15056.2\tvalid_1's rmse: 29297.5\n",
      "Training until validation scores don't improve for 5 rounds\n",
      "Early stopping, best iteration is:\n",
      "[816]\ttraining's rmse: 8792.6\tvalid_1's rmse: 33380.6\n"
     ]
    },
    {
     "name": "stderr",
     "output_type": "stream",
     "text": [
      "100%|██████████| 339/339 [47:22<00:00,  8.39s/it]\n"
     ]
    }
   ],
   "source": [
    "import lightgbm as lgb\n",
    "from sklearn.model_selection import TimeSeriesSplit\n",
    "from sklearn.metrics import mean_squared_error\n",
    "\n",
    "result = pd.DataFrame()\n",
    "\n",
    "result_board = []\n",
    "\n",
    "params = {\n",
    "    'objective': 'regression', \n",
    "    'metric': 'rmse',           \n",
    "    'boosting_type': 'gbdt',\n",
    "    'num_leaves': 31,\n",
    "    'learning_rate': 0.01,\n",
    "    'feature_fraction': 0.9,\n",
    "    'lambda_l2' : 0.1,\n",
    "    'drop_rate' : 0.2,\n",
    "    'verbose' : -1\n",
    "}\n",
    "\n",
    "regions_have_empty_test = []\n",
    "\n",
    "for region in tqdm(regions):\n",
    "    chunk = chunks[region]\n",
    "\n",
    "    select_cols = ['id', '전용면적(㎡)', '층', '건축년도',\n",
    "        'closest_bus_stop_distance', 'closest_subway_station_distance',\n",
    "        'bus_stop_count_500m', 'subway_station_count_500m',\n",
    "        'bus_stop_count_750m', 'subway_station_count_750m',\n",
    "        'bus_stop_count_1000m', 'subway_station_count_1000m',\n",
    "        'distance_to_lead_house', '계약년',\n",
    "        '올해 이 지역 평균', '올해 이 아파트 평균', '올해 해당 집 유형들의 평균', '평균 부정확도', 'target', 'is_test']\n",
    "    \n",
    "    chunk = chunk[select_cols]\n",
    "\n",
    "    train_chunk = chunk.query('is_test == 0')\n",
    "    test_chunk = chunk.query('is_test == 1')\n",
    "\n",
    "    fold_cnt = (len(train_chunk) // 1000)\n",
    "    fold_cnt = max(fold_cnt, 2)\n",
    "\n",
    "    tscv = TimeSeriesSplit(n_splits = fold_cnt)\n",
    "\n",
    "    if region == '중구 입정동':\n",
    "        one_target = train_chunk['target']\n",
    "        test_chunk['target'] = one_target\n",
    "        result = pd.concat([result, test_chunk[['id', 'target']]])\n",
    "        continue\n",
    "\n",
    "    if len(test_chunk) == 0:\n",
    "        regions_have_empty_test.append(region)\n",
    "        continue\n",
    "\n",
    "    if len(train_chunk) == 0:\n",
    "        print(\"!!!!!!!!\")\n",
    "        print(f\"{region}의 학습 데이터가 비어있어요!!!\")\n",
    "        print(\"!\" * 100)\n",
    "        \n",
    "\n",
    "    train_chunk.drop(columns = ['is_test', 'id'], axis=1, inplace=True)\n",
    "    test_chunk.drop(columns = ['is_test'], axis=1, inplace=True)\n",
    "    \n",
    "    X = train_chunk.drop(columns = ['target'], axis=1)\n",
    "    y = train_chunk['target']\n",
    "\n",
    "    min_rmse = int(1e9)\n",
    "\n",
    "    model = None\n",
    "    for fold, (train_index, val_index) in enumerate(tscv.split(X), 1):\n",
    "        X_train, X_val = X.iloc[train_index], X.iloc[val_index]\n",
    "        y_train, y_val = y.iloc[train_index], y.iloc[val_index]\n",
    "\n",
    "        train_data = lgb.Dataset(X_train, label = y_train)\n",
    "        val_data = lgb.Dataset(X_val, label = y_val, reference = train_data)\n",
    "\n",
    "        if model :\n",
    "            model = lgb.train(\n",
    "                params,\n",
    "                train_data,\n",
    "                num_boost_round=5000,\n",
    "                init_model = model,\n",
    "                valid_sets = [train_data, val_data],\n",
    "                callbacks = [lgb.early_stopping(stopping_rounds=5), lgb.log_evaluation(period=-1)],\n",
    "            )\n",
    "        else:\n",
    "            model = lgb.train(\n",
    "                params,\n",
    "                train_data,\n",
    "                num_boost_round=5000,\n",
    "                valid_sets = [train_data, val_data],\n",
    "                callbacks = [lgb.early_stopping(stopping_rounds=5), lgb.log_evaluation(period=-1)],\n",
    "            )\n",
    "\n",
    "        y_pred = model.predict(X_val)\n",
    "        rmse = np.sqrt(mean_squared_error(y_val, y_pred))\n",
    "        min_rmse = min(min_rmse, rmse)\n",
    "\n",
    "    result_board.append({\"지역\" : region, \"validation RMSE\" : min_rmse})\n",
    "\n",
    "    final_train_data = lgb.Dataset(X, label=y)\n",
    "    final_model = lgb.train(params,\n",
    "                            final_train_data,\n",
    "                            init_model = model,\n",
    "                            num_boost_round=model.best_iteration,\n",
    "                            callbacks = [lgb.log_evaluation(period=-1)],\n",
    "                            )\n",
    "\n",
    "    test_X = test_chunk.drop(columns=['id', 'target'], axis=1)\n",
    "    pred = final_model.predict(test_X)\n",
    "\n",
    "    test_chunk['target'] = pred\n",
    "\n",
    "    result = pd.concat([result, test_chunk[['id', 'target']]]) "
   ]
  },
  {
   "cell_type": "code",
   "execution_count": 32,
   "metadata": {},
   "outputs": [],
   "source": [
    "import matplotlib\n",
    "import shutil\n",
    "cache_dir = matplotlib.get_cachedir()\n",
    "shutil.rmtree(cache_dir)"
   ]
  },
  {
   "cell_type": "code",
   "execution_count": 37,
   "metadata": {},
   "outputs": [
    {
     "data": {
      "text/plain": [
       "['Hiragino Maru Gothic Pro',\n",
       " 'AppleGothic',\n",
       " 'Apple SD Gothic Neo',\n",
       " 'Noto Sans Gothic']"
      ]
     },
     "execution_count": 37,
     "metadata": {},
     "output_type": "execute_result"
    }
   ],
   "source": [
    "import matplotlib.font_manager as fm\n",
    "\n",
    "[f.name for f in fm.fontManager.ttflist if 'Gothic' in f.name]"
   ]
  },
  {
   "cell_type": "code",
   "execution_count": 38,
   "metadata": {},
   "outputs": [],
   "source": [
    "import matplotlib.pyplot as plt\n",
    "import matplotlib.font_manager as fm\n",
    "\n",
    "# 한글 폰트 설정\n",
    "plt.rcParams['font.family'] = 'AppleGothic'  # MacOS의 기본 한글 폰트\n",
    "plt.rcParams['axes.unicode_minus'] = False   # 마이너스 기호 깨짐 방지\n",
    "\n"
   ]
  },
  {
   "cell_type": "code",
   "execution_count": 59,
   "metadata": {},
   "outputs": [
    {
     "data": {
      "image/png": "[encoded data removed]",
      "text/plain": [
       "<Figure size 2000x600 with 1 Axes>"
      ]
     },
     "metadata": {},
     "output_type": "display_data"
    },
    {
     "data": {
      "image/png": "[encoded data removed]",
      "text/plain": [
       "<Figure size 2000x600 with 1 Axes>"
      ]
     },
     "metadata": {},
     "output_type": "display_data"
    }
   ],
   "source": [
    "import matplotlib.pyplot as plt\n",
    "import seaborn as sns\n",
    "import pandas as pd\n",
    "\n",
    "result_df = pd.DataFrame(result_board)\n",
    "result_df = result_df.sort_values(by='validation RMSE')\n",
    "result_df = result_df[-30:]\n",
    "\n",
    "# 그래프 생성\n",
    "plt.figure(figsize=(20, 6))\n",
    "ax = sns.barplot(data=result_df, x='지역', y='validation RMSE')\n",
    "\n",
    "# 바 위에 값 표시\n",
    "for i, v in enumerate(result_df['validation RMSE']):\n",
    "    ax.text(i, v, f'{v:.2f}', ha='center', va='bottom')\n",
    "\n",
    "plt.xticks(rotation='vertical')\n",
    "plt.tight_layout()\n",
    "plt.show()\n",
    "\n",
    "\n",
    "temp_list = [{\"지역\" : region, \"데이터 수\" : len(chunks[region])} for region in result_df['지역']]\n",
    "temp_df = pd.DataFrame(temp_list)\n",
    "\n",
    "plt.figure(figsize=(20, 6))\n",
    "ax = sns.barplot(data = temp_df, x='지역', y='데이터 수')\n",
    "\n",
    "# 바 위에 값 표시\n",
    "for i, v in enumerate(temp_df['데이터 수']):\n",
    "    ax.text(i, v, f'{v}', ha='center', va='bottom')\n",
    "\n",
    "plt.xticks(rotation='vertical')\n",
    "plt.tight_layout()\n",
    "plt.show()"
   ]
  },
  {
   "cell_type": "code",
   "execution_count": 22,
   "metadata": {},
   "outputs": [
    {
     "data": {
      "text/html": [
       "<div>\n",
       "<style scoped>\n",
       "    .dataframe tbody tr th:only-of-type {\n",
       "        vertical-align: middle;\n",
       "    }\n",
       "\n",
       "    .dataframe tbody tr th {\n",
       "        vertical-align: top;\n",
       "    }\n",
       "\n",
       "    .dataframe thead th {\n",
       "        text-align: right;\n",
       "    }\n",
       "</style>\n",
       "<table border=\"1\" class=\"dataframe\">\n",
       "  <thead>\n",
       "    <tr style=\"text-align: right;\">\n",
       "      <th></th>\n",
       "      <th>id</th>\n",
       "      <th>target</th>\n",
       "    </tr>\n",
       "  </thead>\n",
       "  <tbody>\n",
       "    <tr>\n",
       "      <th>1118889</th>\n",
       "      <td>1118889</td>\n",
       "      <td>230061.030135</td>\n",
       "    </tr>\n",
       "    <tr>\n",
       "      <th>1118891</th>\n",
       "      <td>1118891</td>\n",
       "      <td>177644.212819</td>\n",
       "    </tr>\n",
       "    <tr>\n",
       "      <th>1118892</th>\n",
       "      <td>1118892</td>\n",
       "      <td>191429.360617</td>\n",
       "    </tr>\n",
       "    <tr>\n",
       "      <th>1118935</th>\n",
       "      <td>1118935</td>\n",
       "      <td>209968.702631</td>\n",
       "    </tr>\n",
       "    <tr>\n",
       "      <th>1118936</th>\n",
       "      <td>1118936</td>\n",
       "      <td>210936.510914</td>\n",
       "    </tr>\n",
       "    <tr>\n",
       "      <th>...</th>\n",
       "      <td>...</td>\n",
       "      <td>...</td>\n",
       "    </tr>\n",
       "    <tr>\n",
       "      <th>1127760</th>\n",
       "      <td>1127760</td>\n",
       "      <td>145291.773400</td>\n",
       "    </tr>\n",
       "    <tr>\n",
       "      <th>1127761</th>\n",
       "      <td>1127761</td>\n",
       "      <td>164155.331245</td>\n",
       "    </tr>\n",
       "    <tr>\n",
       "      <th>1127762</th>\n",
       "      <td>1127762</td>\n",
       "      <td>145291.773400</td>\n",
       "    </tr>\n",
       "    <tr>\n",
       "      <th>1127872</th>\n",
       "      <td>1127872</td>\n",
       "      <td>NaN</td>\n",
       "    </tr>\n",
       "    <tr>\n",
       "      <th>1127873</th>\n",
       "      <td>1127873</td>\n",
       "      <td>NaN</td>\n",
       "    </tr>\n",
       "  </tbody>\n",
       "</table>\n",
       "<p>9272 rows × 2 columns</p>\n",
       "</div>"
      ],
      "text/plain": [
       "              id         target\n",
       "1118889  1118889  230061.030135\n",
       "1118891  1118891  177644.212819\n",
       "1118892  1118892  191429.360617\n",
       "1118935  1118935  209968.702631\n",
       "1118936  1118936  210936.510914\n",
       "...          ...            ...\n",
       "1127760  1127760  145291.773400\n",
       "1127761  1127761  164155.331245\n",
       "1127762  1127762  145291.773400\n",
       "1127872  1127872            NaN\n",
       "1127873  1127873            NaN\n",
       "\n",
       "[9272 rows x 2 columns]"
      ]
     },
     "metadata": {},
     "output_type": "display_data"
    },
    {
     "data": {
      "text/html": [
       "<div>\n",
       "<style scoped>\n",
       "    .dataframe tbody tr th:only-of-type {\n",
       "        vertical-align: middle;\n",
       "    }\n",
       "\n",
       "    .dataframe tbody tr th {\n",
       "        vertical-align: top;\n",
       "    }\n",
       "\n",
       "    .dataframe thead th {\n",
       "        text-align: right;\n",
       "    }\n",
       "</style>\n",
       "<table border=\"1\" class=\"dataframe\">\n",
       "  <thead>\n",
       "    <tr style=\"text-align: right;\">\n",
       "      <th></th>\n",
       "      <th>id</th>\n",
       "      <th>target</th>\n",
       "    </tr>\n",
       "  </thead>\n",
       "  <tbody>\n",
       "    <tr>\n",
       "      <th>1118822</th>\n",
       "      <td>1118822</td>\n",
       "      <td>175632.080296</td>\n",
       "    </tr>\n",
       "    <tr>\n",
       "      <th>1118823</th>\n",
       "      <td>1118823</td>\n",
       "      <td>234325.699899</td>\n",
       "    </tr>\n",
       "    <tr>\n",
       "      <th>1118824</th>\n",
       "      <td>1118824</td>\n",
       "      <td>170162.429561</td>\n",
       "    </tr>\n",
       "    <tr>\n",
       "      <th>1118825</th>\n",
       "      <td>1118825</td>\n",
       "      <td>172040.436524</td>\n",
       "    </tr>\n",
       "    <tr>\n",
       "      <th>1118826</th>\n",
       "      <td>1118826</td>\n",
       "      <td>166943.413509</td>\n",
       "    </tr>\n",
       "    <tr>\n",
       "      <th>...</th>\n",
       "      <td>...</td>\n",
       "      <td>...</td>\n",
       "    </tr>\n",
       "    <tr>\n",
       "      <th>1128089</th>\n",
       "      <td>1128089</td>\n",
       "      <td>70857.616930</td>\n",
       "    </tr>\n",
       "    <tr>\n",
       "      <th>1128090</th>\n",
       "      <td>1128090</td>\n",
       "      <td>68629.544664</td>\n",
       "    </tr>\n",
       "    <tr>\n",
       "      <th>1128091</th>\n",
       "      <td>1128091</td>\n",
       "      <td>70831.005188</td>\n",
       "    </tr>\n",
       "    <tr>\n",
       "      <th>1128092</th>\n",
       "      <td>1128092</td>\n",
       "      <td>68992.496159</td>\n",
       "    </tr>\n",
       "    <tr>\n",
       "      <th>1128093</th>\n",
       "      <td>1128093</td>\n",
       "      <td>70857.616930</td>\n",
       "    </tr>\n",
       "  </tbody>\n",
       "</table>\n",
       "<p>9272 rows × 2 columns</p>\n",
       "</div>"
      ],
      "text/plain": [
       "              id         target\n",
       "1118822  1118822  175632.080296\n",
       "1118823  1118823  234325.699899\n",
       "1118824  1118824  170162.429561\n",
       "1118825  1118825  172040.436524\n",
       "1118826  1118826  166943.413509\n",
       "...          ...            ...\n",
       "1128089  1128089   70857.616930\n",
       "1128090  1128090   68629.544664\n",
       "1128091  1128091   70831.005188\n",
       "1128092  1128092   68992.496159\n",
       "1128093  1128093   70857.616930\n",
       "\n",
       "[9272 rows x 2 columns]"
      ]
     },
     "metadata": {},
     "output_type": "display_data"
    },
    {
     "name": "stdout",
     "output_type": "stream",
     "text": [
      "81300\n",
      "id        0\n",
      "target    0\n",
      "dtype: int64\n"
     ]
    }
   ],
   "source": [
    "submit = result.sort_values(by = 'id')\n",
    "\n",
    "display(result)\n",
    "\n",
    "nan_val = 81300\n",
    "submit['target'] = submit['target'].fillna(nan_val)\n",
    "\n",
    "display(submit)\n",
    "print(nan_val)\n",
    "print(submit.isnull().sum())\n",
    "\n",
    "submit['target'] = submit['target'].astype(int)\n",
    "submit.to_csv('region_devision_N_mean_features.csv', index=False)"
   ]
  },
  {
   "cell_type": "code",
   "execution_count": null,
   "metadata": {},
   "outputs": [],
   "source": [
    "model.feat"
   ]
  },
  {
   "cell_type": "code",
   "execution_count": 40,
   "metadata": {},
   "outputs": [
    {
     "data": {
      "image/png": "[encoded data removed]",
      "text/plain": [
       "<Figure size 1000x600 with 1 Axes>"
      ]
     },
     "metadata": {},
     "output_type": "display_data"
    }
   ],
   "source": [
    "import matplotlib.pyplot as plt\n",
    "import numpy as np\n",
    "\n",
    "# 특성 중요도와 특성 이름 가져오기\n",
    "importances = model.feature_importance()\n",
    "\n",
    "feature_names = X.columns  # X는 특성 데이터프레임\n",
    "\n",
    "# 중요도에 따라 특성 정렬\n",
    "indices = np.argsort(importances)[::-1]\n",
    "\n",
    "# 시각화\n",
    "plt.figure(figsize=(10, 6))\n",
    "plt.title(\"Feature Importances\")\n",
    "plt.bar(range(len(importances)), importances[indices])\n",
    "plt.xticks(range(len(importances)), [feature_names[i] for i in indices], rotation=90)\n",
    "plt.tight_layout()\n",
    "plt.show()"
   ]
  },
  {
   "cell_type": "code",
   "execution_count": null,
   "metadata": {},
   "outputs": [],
   "source": []
  },
  {
   "cell_type": "code",
   "execution_count": null,
   "metadata": {},
   "outputs": [],
   "source": []
  },
  {
   "cell_type": "code",
   "execution_count": null,
   "metadata": {},
   "outputs": [],
   "source": []
  }
 ],
 "metadata": {
  "kernelspec": {
   "display_name": "base",
   "language": "python",
   "name": "python3"
  },
  "language_info": {
   "codemirror_mode": {
    "name": "ipython",
    "version": 3
   },
   "file_extension": ".py",
   "mimetype": "text/x-python",
   "name": "python",
   "nbconvert_exporter": "python",
   "pygments_lexer": "ipython3",
   "version": "3.11.8"
  }
 },
 "nbformat": 4,
 "nbformat_minor": 2
}
