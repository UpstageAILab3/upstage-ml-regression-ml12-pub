{
 "cells": [
  {
   "cell_type": "code",
   "execution_count": 2,
   "metadata": {},
   "outputs": [
    {
     "data": {
      "text/plain": [
       "Index(['Unnamed: 0', '전용면적(㎡)', '층', '건축년도', 'k-전체동수', 'k-전체세대수', 'k-연면적',\n",
       "       'k-주거전용면적', 'k-관리비부과면적', 'k-전용면적별세대현황(60㎡이하)', 'k-전용면적별세대현황(60㎡~85㎡이하)',\n",
       "       'k-85㎡~135㎡이하', 'k-135㎡초과', '건축면적', '주차대수', 'target', 'latitude',\n",
       "       'longitude', '강남여부', 'mean_target', 'apt_mean_target',\n",
       "       'address_mean_target', 'mean_target_gu_dong',\n",
       "       'closest_bus_stop_distance', 'closest_subway_station_distance',\n",
       "       'bus_stop_count_500m', 'subway_station_count_500m',\n",
       "       'bus_stop_count_750m', 'subway_station_count_750m',\n",
       "       'bus_stop_count_1000m', 'subway_station_count_1000m', 'year', 'month',\n",
       "       'distance_to_lead_house', 'train_target', 'preds_target',\n",
       "       'percentage_difference', '본번', '부번', '아파트명', 'address', 'address_apt',\n",
       "       'address_apt_sqm', '구', '동', 'square_meter', 'monthly_mean_target_rate',\n",
       "       'adjusted_square_meter', 'is_outlier'],\n",
       "      dtype='object')"
      ]
     },
     "execution_count": 2,
     "metadata": {},
     "output_type": "execute_result"
    }
   ],
   "source": [
    "import pandas as pd\n",
    "\n",
    "data = pd.read_csv('/Users/baby_cow/Desktop/AI/ML_competition/data/geocoded_addresses_13.csv')\n",
    "data.columns"
   ]
  },
  {
   "cell_type": "code",
   "execution_count": 3,
   "metadata": {},
   "outputs": [],
   "source": [
    "data.drop(columns=['Unnamed: 0'], axis=1, inplace=True)"
   ]
  },
  {
   "cell_type": "code",
   "execution_count": null,
   "metadata": {},
   "outputs": [],
   "source": []
  }
 ],
 "metadata": {
  "kernelspec": {
   "display_name": "base",
   "language": "python",
   "name": "python3"
  },
  "language_info": {
   "codemirror_mode": {
    "name": "ipython",
    "version": 3
   },
   "file_extension": ".py",
   "mimetype": "text/x-python",
   "name": "python",
   "nbconvert_exporter": "python",
   "pygments_lexer": "ipython3",
   "version": "3.11.8"
  }
 },
 "nbformat": 4,
 "nbformat_minor": 2
}
